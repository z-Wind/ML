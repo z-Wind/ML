{
  "cells": [
    {
      "cell_type": "markdown",
      "metadata": {
        "id": "UFOUfh2k1jFN"
      },
      "source": [
        "# Homework 7 - Understand what Generative AI is thinking"
      ]
    },
    {
      "cell_type": "code",
      "execution_count": null,
      "metadata": {
        "colab": {
          "base_uri": "https://localhost:8080/"
        },
        "id": "F6q87X51LDIN",
        "outputId": "67caa8de-0ce6-4fee-880e-de323e5d1715"
      },
      "outputs": [
        {
          "name": "stdout",
          "output_type": "stream",
          "text": [
            "Collecting inseq==0.5.0\n",
            "  Using cached inseq-0.5.0-py3-none-any.whl (136 kB)\n",
            "Collecting captum>=0.6.0 (from inseq==0.5.0)\n",
            "  Using cached captum-0.7.0-py3-none-any.whl (1.3 MB)\n",
            "Collecting jaxtyping<0.3.0,>=0.2.23 (from inseq==0.5.0)\n",
            "  Using cached jaxtyping-0.2.28-py3-none-any.whl (40 kB)\n",
            "Requirement already satisfied: matplotlib>=3.5.3 in /usr/local/lib/python3.10/dist-packages (from inseq==0.5.0) (3.7.1)\n",
            "Requirement already satisfied: numpy>=1.21.6 in /usr/local/lib/python3.10/dist-packages (from inseq==0.5.0) (1.25.2)\n",
            "Collecting nvidia-cublas-cu11>=11.10.3.66 (from inseq==0.5.0)\n",
            "  Using cached nvidia_cublas_cu11-11.11.3.6-py3-none-manylinux1_x86_64.whl (417.9 MB)\n",
            "Collecting nvidia-cuda-cupti-cu11>=11.7.101 (from inseq==0.5.0)\n",
            "  Using cached nvidia_cuda_cupti_cu11-11.8.87-py3-none-manylinux1_x86_64.whl (13.1 MB)\n",
            "Collecting nvidia-cuda-nvrtc-cu11>=11.7.99 (from inseq==0.5.0)\n",
            "  Using cached nvidia_cuda_nvrtc_cu11-11.8.89-py3-none-manylinux1_x86_64.whl (23.2 MB)\n",
            "Collecting nvidia-cuda-runtime-cu11>=11.7.99 (from inseq==0.5.0)\n",
            "  Using cached nvidia_cuda_runtime_cu11-11.8.89-py3-none-manylinux1_x86_64.whl (875 kB)\n",
            "Collecting nvidia-cudnn-cu11>=8.5.0.96 (from inseq==0.5.0)\n",
            "  Downloading nvidia_cudnn_cu11-9.1.0.70-py3-none-manylinux2014_x86_64.whl (663.9 MB)\n",
            "\u001b[2K     \u001b[90m━━━━━━━━━━━━━━━━━━━━━━━━━━━━━━━━━━━━━━━━\u001b[0m \u001b[32m663.9/663.9 MB\u001b[0m \u001b[31m1.2 MB/s\u001b[0m eta \u001b[36m0:00:00\u001b[0m\n",
            "\u001b[?25hCollecting nvidia-cufft-cu11>=10.9.0.58 (from inseq==0.5.0)\n",
            "  Downloading nvidia_cufft_cu11-10.9.0.58-py3-none-manylinux1_x86_64.whl (168.4 MB)\n",
            "\u001b[2K     \u001b[90m━━━━━━━━━━━━━━━━━━━━━━━━━━━━━━━━━━━━━━━━\u001b[0m \u001b[32m168.4/168.4 MB\u001b[0m \u001b[31m1.4 MB/s\u001b[0m eta \u001b[36m0:00:00\u001b[0m\n",
            "\u001b[?25hCollecting nvidia-curand-cu11>=10.2.10.91 (from inseq==0.5.0)\n",
            "  Downloading nvidia_curand_cu11-10.3.0.86-py3-none-manylinux1_x86_64.whl (58.1 MB)\n",
            "\u001b[2K     \u001b[90m━━━━━━━━━━━━━━━━━━━━━━━━━━━━━━━━━━━━━━━━\u001b[0m \u001b[32m58.1/58.1 MB\u001b[0m \u001b[31m2.1 MB/s\u001b[0m eta \u001b[36m0:00:00\u001b[0m\n",
            "\u001b[?25hCollecting nvidia-cusolver-cu11>=11.4.0.1 (from inseq==0.5.0)\n",
            "  Downloading nvidia_cusolver_cu11-11.4.1.48-py3-none-manylinux1_x86_64.whl (128.2 MB)\n",
            "\u001b[2K     \u001b[90m━━━━━━━━━━━━━━━━━━━━━━━━━━━━━━━━━━━━━━━━\u001b[0m \u001b[32m128.2/128.2 MB\u001b[0m \u001b[31m1.4 MB/s\u001b[0m eta \u001b[36m0:00:00\u001b[0m\n",
            "\u001b[?25hCollecting nvidia-cusparse-cu11>=11.7.4.91 (from inseq==0.5.0)\n",
            "  Downloading nvidia_cusparse_cu11-11.7.5.86-py3-none-manylinux1_x86_64.whl (204.1 MB)\n",
            "\u001b[2K     \u001b[90m━━━━━━━━━━━━━━━━━━━━━━━━━━━━━━━━━━━━━━━━\u001b[0m \u001b[32m204.1/204.1 MB\u001b[0m \u001b[31m1.8 MB/s\u001b[0m eta \u001b[36m0:00:00\u001b[0m\n",
            "\u001b[?25hCollecting nvidia-nccl-cu11>=2.14.3 (from inseq==0.5.0)\n",
            "  Downloading nvidia_nccl_cu11-2.21.5-py3-none-manylinux2014_x86_64.whl (147.8 MB)\n",
            "\u001b[2K     \u001b[90m━━━━━━━━━━━━━━━━━━━━━━━━━━━━━━━━━━━━━━━━\u001b[0m \u001b[32m147.8/147.8 MB\u001b[0m \u001b[31m2.0 MB/s\u001b[0m eta \u001b[36m0:00:00\u001b[0m\n",
            "\u001b[?25hCollecting nvidia-nvtx-cu11>=11.7.91 (from inseq==0.5.0)\n",
            "  Downloading nvidia_nvtx_cu11-11.8.86-py3-none-manylinux1_x86_64.whl (99 kB)\n",
            "\u001b[2K     \u001b[90m━━━━━━━━━━━━━━━━━━━━━━━━━━━━━━━━━━━━━━━━\u001b[0m \u001b[32m99.1/99.1 kB\u001b[0m \u001b[31m3.0 MB/s\u001b[0m eta \u001b[36m0:00:00\u001b[0m\n",
            "\u001b[?25hCollecting poethepoet>=0.13.1 (from inseq==0.5.0)\n",
            "  Downloading poethepoet-0.26.1-py3-none-any.whl (72 kB)\n",
            "\u001b[2K     \u001b[90m━━━━━━━━━━━━━━━━━━━━━━━━━━━━━━━━━━━━━━━━\u001b[0m \u001b[32m72.1/72.1 kB\u001b[0m \u001b[31m2.9 MB/s\u001b[0m eta \u001b[36m0:00:00\u001b[0m\n",
            "\u001b[?25hRequirement already satisfied: protobuf>=3.20.1 in /usr/local/lib/python3.10/dist-packages (from inseq==0.5.0) (3.20.3)\n",
            "Requirement already satisfied: rich>=10.13.0 in /usr/local/lib/python3.10/dist-packages (from inseq==0.5.0) (13.7.1)\n",
            "Requirement already satisfied: scipy>=1.8.1 in /usr/local/lib/python3.10/dist-packages (from inseq==0.5.0) (1.11.4)\n",
            "Collecting torch==2.0.0 (from inseq==0.5.0)\n",
            "  Downloading torch-2.0.0-cp310-cp310-manylinux1_x86_64.whl (619.9 MB)\n",
            "\u001b[2K     \u001b[90m━━━━━━━━━━━━━━━━━━━━━━━━━━━━━━━━━━━━━━━━\u001b[0m \u001b[32m619.9/619.9 MB\u001b[0m \u001b[31m1.1 MB/s\u001b[0m eta \u001b[36m0:00:00\u001b[0m\n",
            "\u001b[?25hRequirement already satisfied: tqdm>=4.64.0 in /usr/local/lib/python3.10/dist-packages (from inseq==0.5.0) (4.66.4)\n",
            "Requirement already satisfied: transformers[sentencepiece,tokenizers,torch]>=4.22.0 in /usr/local/lib/python3.10/dist-packages (from inseq==0.5.0) (4.40.1)\n",
            "Collecting typeguard<=2.13.3 (from inseq==0.5.0)\n",
            "  Downloading typeguard-2.13.3-py3-none-any.whl (17 kB)\n",
            "Requirement already satisfied: filelock in /usr/local/lib/python3.10/dist-packages (from torch==2.0.0->inseq==0.5.0) (3.14.0)\n",
            "Requirement already satisfied: typing-extensions in /usr/local/lib/python3.10/dist-packages (from torch==2.0.0->inseq==0.5.0) (4.11.0)\n",
            "Requirement already satisfied: sympy in /usr/local/lib/python3.10/dist-packages (from torch==2.0.0->inseq==0.5.0) (1.12)\n",
            "Requirement already satisfied: networkx in /usr/local/lib/python3.10/dist-packages (from torch==2.0.0->inseq==0.5.0) (3.3)\n",
            "Requirement already satisfied: jinja2 in /usr/local/lib/python3.10/dist-packages (from torch==2.0.0->inseq==0.5.0) (3.1.3)\n",
            "Collecting nvidia-cuda-nvrtc-cu11>=11.7.99 (from inseq==0.5.0)\n",
            "  Downloading nvidia_cuda_nvrtc_cu11-11.7.99-2-py3-none-manylinux1_x86_64.whl (21.0 MB)\n",
            "\u001b[2K     \u001b[90m━━━━━━━━━━━━━━━━━━━━━━━━━━━━━━━━━━━━━━━━\u001b[0m \u001b[32m21.0/21.0 MB\u001b[0m \u001b[31m2.2 MB/s\u001b[0m eta \u001b[36m0:00:00\u001b[0m\n",
            "\u001b[?25hCollecting nvidia-cuda-runtime-cu11>=11.7.99 (from inseq==0.5.0)\n",
            "  Downloading nvidia_cuda_runtime_cu11-11.7.99-py3-none-manylinux1_x86_64.whl (849 kB)\n",
            "\u001b[2K     \u001b[90m━━━━━━━━━━━━━━━━━━━━━━━━━━━━━━━━━━━━━━━━\u001b[0m \u001b[32m849.3/849.3 kB\u001b[0m \u001b[31m2.5 MB/s\u001b[0m eta \u001b[36m0:00:00\u001b[0m\n",
            "\u001b[?25hCollecting nvidia-cuda-cupti-cu11>=11.7.101 (from inseq==0.5.0)\n",
            "  Downloading nvidia_cuda_cupti_cu11-11.7.101-py3-none-manylinux1_x86_64.whl (11.8 MB)\n",
            "\u001b[2K     \u001b[90m━━━━━━━━━━━━━━━━━━━━━━━━━━━━━━━━━━━━━━━━\u001b[0m \u001b[32m11.8/11.8 MB\u001b[0m \u001b[31m2.0 MB/s\u001b[0m eta \u001b[36m0:00:00\u001b[0m\n",
            "\u001b[?25hCollecting nvidia-cudnn-cu11>=8.5.0.96 (from inseq==0.5.0)\n",
            "  Downloading nvidia_cudnn_cu11-8.5.0.96-2-py3-none-manylinux1_x86_64.whl (557.1 MB)\n",
            "\u001b[2K     \u001b[90m━━━━━━━━━━━━━━━━━━━━━━━━━━━━━━━━━━━━━━━━\u001b[0m \u001b[32m557.1/557.1 MB\u001b[0m \u001b[31m1.2 MB/s\u001b[0m eta \u001b[36m0:00:00\u001b[0m\n",
            "\u001b[?25hCollecting nvidia-cublas-cu11>=11.10.3.66 (from inseq==0.5.0)\n",
            "  Downloading nvidia_cublas_cu11-11.10.3.66-py3-none-manylinux1_x86_64.whl (317.1 MB)\n",
            "\u001b[2K     \u001b[90m━━━━━━━━━━━━━━━━━━━━━━━━━━━━━━━━━━━━━━━━\u001b[0m \u001b[32m317.1/317.1 MB\u001b[0m \u001b[31m1.9 MB/s\u001b[0m eta \u001b[36m0:00:00\u001b[0m\n",
            "\u001b[?25hCollecting nvidia-curand-cu11>=10.2.10.91 (from inseq==0.5.0)\n",
            "  Downloading nvidia_curand_cu11-10.2.10.91-py3-none-manylinux1_x86_64.whl (54.6 MB)\n",
            "\u001b[2K     \u001b[90m━━━━━━━━━━━━━━━━━━━━━━━━━━━━━━━━━━━━━━━━\u001b[0m \u001b[32m54.6/54.6 MB\u001b[0m \u001b[31m2.8 MB/s\u001b[0m eta \u001b[36m0:00:00\u001b[0m\n",
            "\u001b[?25hCollecting nvidia-cusolver-cu11>=11.4.0.1 (from inseq==0.5.0)\n",
            "  Downloading nvidia_cusolver_cu11-11.4.0.1-2-py3-none-manylinux1_x86_64.whl (102.6 MB)\n",
            "\u001b[2K     \u001b[90m━━━━━━━━━━━━━━━━━━━━━━━━━━━━━━━━━━━━━━━━\u001b[0m \u001b[32m102.6/102.6 MB\u001b[0m \u001b[31m2.2 MB/s\u001b[0m eta \u001b[36m0:00:00\u001b[0m\n",
            "\u001b[?25hCollecting nvidia-cusparse-cu11>=11.7.4.91 (from inseq==0.5.0)\n",
            "  Downloading nvidia_cusparse_cu11-11.7.4.91-py3-none-manylinux1_x86_64.whl (173.2 MB)\n",
            "\u001b[2K     \u001b[90m━━━━━━━━━━━━━━━━━━━━━━━━━━━━━━━━━━━━━━━━\u001b[0m \u001b[32m173.2/173.2 MB\u001b[0m \u001b[31m1.3 MB/s\u001b[0m eta \u001b[36m0:00:00\u001b[0m\n",
            "\u001b[?25hCollecting nvidia-nccl-cu11>=2.14.3 (from inseq==0.5.0)\n",
            "  Downloading nvidia_nccl_cu11-2.14.3-py3-none-manylinux1_x86_64.whl (177.1 MB)\n",
            "\u001b[2K     \u001b[90m━━━━━━━━━━━━━━━━━━━━━━━━━━━━━━━━━━━━━━━━\u001b[0m \u001b[32m177.1/177.1 MB\u001b[0m \u001b[31m2.7 MB/s\u001b[0m eta \u001b[36m0:00:00\u001b[0m\n",
            "\u001b[?25hCollecting nvidia-nvtx-cu11>=11.7.91 (from inseq==0.5.0)\n",
            "  Downloading nvidia_nvtx_cu11-11.7.91-py3-none-manylinux1_x86_64.whl (98 kB)\n",
            "\u001b[2K     \u001b[90m━━━━━━━━━━━━━━━━━━━━━━━━━━━━━━━━━━━━━━━━\u001b[0m \u001b[32m98.6/98.6 kB\u001b[0m \u001b[31m5.0 MB/s\u001b[0m eta \u001b[36m0:00:00\u001b[0m\n",
            "\u001b[?25hCollecting triton==2.0.0 (from torch==2.0.0->inseq==0.5.0)\n",
            "  Downloading triton-2.0.0-1-cp310-cp310-manylinux2014_x86_64.manylinux_2_17_x86_64.whl (63.3 MB)\n",
            "\u001b[2K     \u001b[90m━━━━━━━━━━━━━━━━━━━━━━━━━━━━━━━━━━━━━━━━\u001b[0m \u001b[32m63.3/63.3 MB\u001b[0m \u001b[31m1.8 MB/s\u001b[0m eta \u001b[36m0:00:00\u001b[0m\n",
            "\u001b[?25hRequirement already satisfied: setuptools in /usr/local/lib/python3.10/dist-packages (from nvidia-cublas-cu11>=11.10.3.66->inseq==0.5.0) (67.7.2)\n",
            "Requirement already satisfied: wheel in /usr/local/lib/python3.10/dist-packages (from nvidia-cublas-cu11>=11.10.3.66->inseq==0.5.0) (0.43.0)\n",
            "Requirement already satisfied: cmake in /usr/local/lib/python3.10/dist-packages (from triton==2.0.0->torch==2.0.0->inseq==0.5.0) (3.27.9)\n",
            "Collecting lit (from triton==2.0.0->torch==2.0.0->inseq==0.5.0)\n",
            "  Downloading lit-18.1.4-py3-none-any.whl (96 kB)\n",
            "\u001b[2K     \u001b[90m━━━━━━━━━━━━━━━━━━━━━━━━━━━━━━━━━━━━━━━━\u001b[0m \u001b[32m96.4/96.4 kB\u001b[0m \u001b[31m1.9 MB/s\u001b[0m eta \u001b[36m0:00:00\u001b[0m\n",
            "\u001b[?25hRequirement already satisfied: contourpy>=1.0.1 in /usr/local/lib/python3.10/dist-packages (from matplotlib>=3.5.3->inseq==0.5.0) (1.2.1)\n",
            "Requirement already satisfied: cycler>=0.10 in /usr/local/lib/python3.10/dist-packages (from matplotlib>=3.5.3->inseq==0.5.0) (0.12.1)\n",
            "Requirement already satisfied: fonttools>=4.22.0 in /usr/local/lib/python3.10/dist-packages (from matplotlib>=3.5.3->inseq==0.5.0) (4.51.0)\n",
            "Requirement already satisfied: kiwisolver>=1.0.1 in /usr/local/lib/python3.10/dist-packages (from matplotlib>=3.5.3->inseq==0.5.0) (1.4.5)\n",
            "Requirement already satisfied: packaging>=20.0 in /usr/local/lib/python3.10/dist-packages (from matplotlib>=3.5.3->inseq==0.5.0) (24.0)\n",
            "Requirement already satisfied: pillow>=6.2.0 in /usr/local/lib/python3.10/dist-packages (from matplotlib>=3.5.3->inseq==0.5.0) (9.4.0)\n",
            "Requirement already satisfied: pyparsing>=2.3.1 in /usr/local/lib/python3.10/dist-packages (from matplotlib>=3.5.3->inseq==0.5.0) (3.1.2)\n",
            "Requirement already satisfied: python-dateutil>=2.7 in /usr/local/lib/python3.10/dist-packages (from matplotlib>=3.5.3->inseq==0.5.0) (2.8.2)\n",
            "Collecting pastel<0.3.0,>=0.2.1 (from poethepoet>=0.13.1->inseq==0.5.0)\n",
            "  Downloading pastel-0.2.1-py2.py3-none-any.whl (6.0 kB)\n",
            "Requirement already satisfied: tomli>=1.2.2 in /usr/local/lib/python3.10/dist-packages (from poethepoet>=0.13.1->inseq==0.5.0) (2.0.1)\n",
            "Requirement already satisfied: markdown-it-py>=2.2.0 in /usr/local/lib/python3.10/dist-packages (from rich>=10.13.0->inseq==0.5.0) (3.0.0)\n",
            "Requirement already satisfied: pygments<3.0.0,>=2.13.0 in /usr/local/lib/python3.10/dist-packages (from rich>=10.13.0->inseq==0.5.0) (2.16.1)\n",
            "Requirement already satisfied: huggingface-hub<1.0,>=0.19.3 in /usr/local/lib/python3.10/dist-packages (from transformers[sentencepiece,tokenizers,torch]>=4.22.0->inseq==0.5.0) (0.20.3)\n",
            "Requirement already satisfied: pyyaml>=5.1 in /usr/local/lib/python3.10/dist-packages (from transformers[sentencepiece,tokenizers,torch]>=4.22.0->inseq==0.5.0) (6.0.1)\n",
            "Requirement already satisfied: regex!=2019.12.17 in /usr/local/lib/python3.10/dist-packages (from transformers[sentencepiece,tokenizers,torch]>=4.22.0->inseq==0.5.0) (2023.12.25)\n",
            "Requirement already satisfied: requests in /usr/local/lib/python3.10/dist-packages (from transformers[sentencepiece,tokenizers,torch]>=4.22.0->inseq==0.5.0) (2.31.0)\n",
            "Requirement already satisfied: tokenizers<0.20,>=0.19 in /usr/local/lib/python3.10/dist-packages (from transformers[sentencepiece,tokenizers,torch]>=4.22.0->inseq==0.5.0) (0.19.1)\n",
            "Requirement already satisfied: safetensors>=0.4.1 in /usr/local/lib/python3.10/dist-packages (from transformers[sentencepiece,tokenizers,torch]>=4.22.0->inseq==0.5.0) (0.4.3)\n",
            "Requirement already satisfied: sentencepiece!=0.1.92,>=0.1.91 in /usr/local/lib/python3.10/dist-packages (from transformers[sentencepiece,tokenizers,torch]>=4.22.0->inseq==0.5.0) (0.1.99)\n",
            "Requirement already satisfied: accelerate>=0.21.0 in /usr/local/lib/python3.10/dist-packages (from transformers[sentencepiece,tokenizers,torch]>=4.22.0->inseq==0.5.0) (0.30.0)\n",
            "Requirement already satisfied: psutil in /usr/local/lib/python3.10/dist-packages (from accelerate>=0.21.0->transformers[sentencepiece,tokenizers,torch]>=4.22.0->inseq==0.5.0) (5.9.5)\n",
            "Requirement already satisfied: fsspec>=2023.5.0 in /usr/local/lib/python3.10/dist-packages (from huggingface-hub<1.0,>=0.19.3->transformers[sentencepiece,tokenizers,torch]>=4.22.0->inseq==0.5.0) (2023.6.0)\n",
            "Requirement already satisfied: mdurl~=0.1 in /usr/local/lib/python3.10/dist-packages (from markdown-it-py>=2.2.0->rich>=10.13.0->inseq==0.5.0) (0.1.2)\n",
            "Requirement already satisfied: six>=1.5 in /usr/local/lib/python3.10/dist-packages (from python-dateutil>=2.7->matplotlib>=3.5.3->inseq==0.5.0) (1.16.0)\n",
            "Requirement already satisfied: MarkupSafe>=2.0 in /usr/local/lib/python3.10/dist-packages (from jinja2->torch==2.0.0->inseq==0.5.0) (2.1.5)\n",
            "Requirement already satisfied: charset-normalizer<4,>=2 in /usr/local/lib/python3.10/dist-packages (from requests->transformers[sentencepiece,tokenizers,torch]>=4.22.0->inseq==0.5.0) (3.3.2)\n",
            "Requirement already satisfied: idna<4,>=2.5 in /usr/local/lib/python3.10/dist-packages (from requests->transformers[sentencepiece,tokenizers,torch]>=4.22.0->inseq==0.5.0) (3.7)\n",
            "Requirement already satisfied: urllib3<3,>=1.21.1 in /usr/local/lib/python3.10/dist-packages (from requests->transformers[sentencepiece,tokenizers,torch]>=4.22.0->inseq==0.5.0) (2.0.7)\n",
            "Requirement already satisfied: certifi>=2017.4.17 in /usr/local/lib/python3.10/dist-packages (from requests->transformers[sentencepiece,tokenizers,torch]>=4.22.0->inseq==0.5.0) (2024.2.2)\n",
            "Requirement already satisfied: mpmath>=0.19 in /usr/local/lib/python3.10/dist-packages (from sympy->torch==2.0.0->inseq==0.5.0) (1.3.0)\n",
            "Installing collected packages: lit, typeguard, pastel, nvidia-nvtx-cu11, nvidia-nccl-cu11, nvidia-cusparse-cu11, nvidia-curand-cu11, nvidia-cufft-cu11, nvidia-cuda-runtime-cu11, nvidia-cuda-nvrtc-cu11, nvidia-cuda-cupti-cu11, nvidia-cublas-cu11, poethepoet, nvidia-cusolver-cu11, nvidia-cudnn-cu11, jaxtyping, triton, torch, captum, inseq\n",
            "  Attempting uninstall: triton\n",
            "    Found existing installation: triton 2.2.0\n",
            "    Uninstalling triton-2.2.0:\n",
            "      Successfully uninstalled triton-2.2.0\n",
            "  Attempting uninstall: torch\n",
            "    Found existing installation: torch 2.2.1+cu121\n",
            "    Uninstalling torch-2.2.1+cu121:\n",
            "      Successfully uninstalled torch-2.2.1+cu121\n",
            "\u001b[31mERROR: pip's dependency resolver does not currently take into account all the packages that are installed. This behaviour is the source of the following dependency conflicts.\n",
            "torchaudio 2.2.1+cu121 requires torch==2.2.1, but you have torch 2.0.0 which is incompatible.\n",
            "torchtext 0.17.1 requires torch==2.2.1, but you have torch 2.0.0 which is incompatible.\n",
            "torchvision 0.17.1+cu121 requires torch==2.2.1, but you have torch 2.0.0 which is incompatible.\u001b[0m\u001b[31m\n",
            "\u001b[0mSuccessfully installed captum-0.7.0 inseq-0.5.0 jaxtyping-0.2.28 lit-18.1.4 nvidia-cublas-cu11-11.10.3.66 nvidia-cuda-cupti-cu11-11.7.101 nvidia-cuda-nvrtc-cu11-11.7.99 nvidia-cuda-runtime-cu11-11.7.99 nvidia-cudnn-cu11-8.5.0.96 nvidia-cufft-cu11-10.9.0.58 nvidia-curand-cu11-10.2.10.91 nvidia-cusolver-cu11-11.4.0.1 nvidia-cusparse-cu11-11.7.4.91 nvidia-nccl-cu11-2.14.3 nvidia-nvtx-cu11-11.7.91 pastel-0.2.1 poethepoet-0.26.1 torch-2.0.0 triton-2.0.0 typeguard-2.13.3\n",
            "Requirement already satisfied: transformers in /usr/local/lib/python3.10/dist-packages (4.40.1)\n",
            "Requirement already satisfied: filelock in /usr/local/lib/python3.10/dist-packages (from transformers) (3.14.0)\n",
            "Requirement already satisfied: huggingface-hub<1.0,>=0.19.3 in /usr/local/lib/python3.10/dist-packages (from transformers) (0.20.3)\n",
            "Requirement already satisfied: numpy>=1.17 in /usr/local/lib/python3.10/dist-packages (from transformers) (1.25.2)\n",
            "Requirement already satisfied: packaging>=20.0 in /usr/local/lib/python3.10/dist-packages (from transformers) (24.0)\n",
            "Requirement already satisfied: pyyaml>=5.1 in /usr/local/lib/python3.10/dist-packages (from transformers) (6.0.1)\n",
            "Requirement already satisfied: regex!=2019.12.17 in /usr/local/lib/python3.10/dist-packages (from transformers) (2023.12.25)\n",
            "Requirement already satisfied: requests in /usr/local/lib/python3.10/dist-packages (from transformers) (2.31.0)\n",
            "Requirement already satisfied: tokenizers<0.20,>=0.19 in /usr/local/lib/python3.10/dist-packages (from transformers) (0.19.1)\n",
            "Requirement already satisfied: safetensors>=0.4.1 in /usr/local/lib/python3.10/dist-packages (from transformers) (0.4.3)\n",
            "Requirement already satisfied: tqdm>=4.27 in /usr/local/lib/python3.10/dist-packages (from transformers) (4.66.4)\n",
            "Requirement already satisfied: fsspec>=2023.5.0 in /usr/local/lib/python3.10/dist-packages (from huggingface-hub<1.0,>=0.19.3->transformers) (2023.6.0)\n",
            "Requirement already satisfied: typing-extensions>=3.7.4.3 in /usr/local/lib/python3.10/dist-packages (from huggingface-hub<1.0,>=0.19.3->transformers) (4.11.0)\n",
            "Requirement already satisfied: charset-normalizer<4,>=2 in /usr/local/lib/python3.10/dist-packages (from requests->transformers) (3.3.2)\n",
            "Requirement already satisfied: idna<4,>=2.5 in /usr/local/lib/python3.10/dist-packages (from requests->transformers) (3.7)\n",
            "Requirement already satisfied: urllib3<3,>=1.21.1 in /usr/local/lib/python3.10/dist-packages (from requests->transformers) (2.0.7)\n",
            "Requirement already satisfied: certifi>=2017.4.17 in /usr/local/lib/python3.10/dist-packages (from requests->transformers) (2024.2.2)\n",
            "Requirement already satisfied: bitsandbytes in /usr/local/lib/python3.10/dist-packages (0.43.1)\n",
            "Requirement already satisfied: torch in /usr/local/lib/python3.10/dist-packages (from bitsandbytes) (2.0.0)\n",
            "Requirement already satisfied: numpy in /usr/local/lib/python3.10/dist-packages (from bitsandbytes) (1.25.2)\n",
            "Requirement already satisfied: filelock in /usr/local/lib/python3.10/dist-packages (from torch->bitsandbytes) (3.14.0)\n",
            "Requirement already satisfied: typing-extensions in /usr/local/lib/python3.10/dist-packages (from torch->bitsandbytes) (4.11.0)\n",
            "Requirement already satisfied: sympy in /usr/local/lib/python3.10/dist-packages (from torch->bitsandbytes) (1.12)\n",
            "Requirement already satisfied: networkx in /usr/local/lib/python3.10/dist-packages (from torch->bitsandbytes) (3.3)\n",
            "Requirement already satisfied: jinja2 in /usr/local/lib/python3.10/dist-packages (from torch->bitsandbytes) (3.1.3)\n",
            "Requirement already satisfied: nvidia-cuda-nvrtc-cu11==11.7.99 in /usr/local/lib/python3.10/dist-packages (from torch->bitsandbytes) (11.7.99)\n",
            "Requirement already satisfied: nvidia-cuda-runtime-cu11==11.7.99 in /usr/local/lib/python3.10/dist-packages (from torch->bitsandbytes) (11.7.99)\n",
            "Requirement already satisfied: nvidia-cuda-cupti-cu11==11.7.101 in /usr/local/lib/python3.10/dist-packages (from torch->bitsandbytes) (11.7.101)\n",
            "Requirement already satisfied: nvidia-cudnn-cu11==8.5.0.96 in /usr/local/lib/python3.10/dist-packages (from torch->bitsandbytes) (8.5.0.96)\n",
            "Requirement already satisfied: nvidia-cublas-cu11==11.10.3.66 in /usr/local/lib/python3.10/dist-packages (from torch->bitsandbytes) (11.10.3.66)\n",
            "Requirement already satisfied: nvidia-cufft-cu11==10.9.0.58 in /usr/local/lib/python3.10/dist-packages (from torch->bitsandbytes) (10.9.0.58)\n",
            "Requirement already satisfied: nvidia-curand-cu11==10.2.10.91 in /usr/local/lib/python3.10/dist-packages (from torch->bitsandbytes) (10.2.10.91)\n",
            "Requirement already satisfied: nvidia-cusolver-cu11==11.4.0.1 in /usr/local/lib/python3.10/dist-packages (from torch->bitsandbytes) (11.4.0.1)\n",
            "Requirement already satisfied: nvidia-cusparse-cu11==11.7.4.91 in /usr/local/lib/python3.10/dist-packages (from torch->bitsandbytes) (11.7.4.91)\n",
            "Requirement already satisfied: nvidia-nccl-cu11==2.14.3 in /usr/local/lib/python3.10/dist-packages (from torch->bitsandbytes) (2.14.3)\n",
            "Requirement already satisfied: nvidia-nvtx-cu11==11.7.91 in /usr/local/lib/python3.10/dist-packages (from torch->bitsandbytes) (11.7.91)\n",
            "Requirement already satisfied: triton==2.0.0 in /usr/local/lib/python3.10/dist-packages (from torch->bitsandbytes) (2.0.0)\n",
            "Requirement already satisfied: setuptools in /usr/local/lib/python3.10/dist-packages (from nvidia-cublas-cu11==11.10.3.66->torch->bitsandbytes) (67.7.2)\n",
            "Requirement already satisfied: wheel in /usr/local/lib/python3.10/dist-packages (from nvidia-cublas-cu11==11.10.3.66->torch->bitsandbytes) (0.43.0)\n",
            "Requirement already satisfied: cmake in /usr/local/lib/python3.10/dist-packages (from triton==2.0.0->torch->bitsandbytes) (3.27.9)\n",
            "Requirement already satisfied: lit in /usr/local/lib/python3.10/dist-packages (from triton==2.0.0->torch->bitsandbytes) (18.1.4)\n",
            "Requirement already satisfied: MarkupSafe>=2.0 in /usr/local/lib/python3.10/dist-packages (from jinja2->torch->bitsandbytes) (2.1.5)\n",
            "Requirement already satisfied: mpmath>=0.19 in /usr/local/lib/python3.10/dist-packages (from sympy->torch->bitsandbytes) (1.3.0)\n",
            "Requirement already satisfied: accelerate in /usr/local/lib/python3.10/dist-packages (0.30.0)\n",
            "Requirement already satisfied: numpy>=1.17 in /usr/local/lib/python3.10/dist-packages (from accelerate) (1.25.2)\n",
            "Requirement already satisfied: packaging>=20.0 in /usr/local/lib/python3.10/dist-packages (from accelerate) (24.0)\n",
            "Requirement already satisfied: psutil in /usr/local/lib/python3.10/dist-packages (from accelerate) (5.9.5)\n",
            "Requirement already satisfied: pyyaml in /usr/local/lib/python3.10/dist-packages (from accelerate) (6.0.1)\n",
            "Requirement already satisfied: torch>=1.10.0 in /usr/local/lib/python3.10/dist-packages (from accelerate) (2.0.0)\n",
            "Requirement already satisfied: huggingface-hub in /usr/local/lib/python3.10/dist-packages (from accelerate) (0.20.3)\n",
            "Requirement already satisfied: safetensors>=0.3.1 in /usr/local/lib/python3.10/dist-packages (from accelerate) (0.4.3)\n",
            "Requirement already satisfied: filelock in /usr/local/lib/python3.10/dist-packages (from torch>=1.10.0->accelerate) (3.14.0)\n",
            "Requirement already satisfied: typing-extensions in /usr/local/lib/python3.10/dist-packages (from torch>=1.10.0->accelerate) (4.11.0)\n",
            "Requirement already satisfied: sympy in /usr/local/lib/python3.10/dist-packages (from torch>=1.10.0->accelerate) (1.12)\n",
            "Requirement already satisfied: networkx in /usr/local/lib/python3.10/dist-packages (from torch>=1.10.0->accelerate) (3.3)\n",
            "Requirement already satisfied: jinja2 in /usr/local/lib/python3.10/dist-packages (from torch>=1.10.0->accelerate) (3.1.3)\n",
            "Requirement already satisfied: nvidia-cuda-nvrtc-cu11==11.7.99 in /usr/local/lib/python3.10/dist-packages (from torch>=1.10.0->accelerate) (11.7.99)\n",
            "Requirement already satisfied: nvidia-cuda-runtime-cu11==11.7.99 in /usr/local/lib/python3.10/dist-packages (from torch>=1.10.0->accelerate) (11.7.99)\n",
            "Requirement already satisfied: nvidia-cuda-cupti-cu11==11.7.101 in /usr/local/lib/python3.10/dist-packages (from torch>=1.10.0->accelerate) (11.7.101)\n",
            "Requirement already satisfied: nvidia-cudnn-cu11==8.5.0.96 in /usr/local/lib/python3.10/dist-packages (from torch>=1.10.0->accelerate) (8.5.0.96)\n",
            "Requirement already satisfied: nvidia-cublas-cu11==11.10.3.66 in /usr/local/lib/python3.10/dist-packages (from torch>=1.10.0->accelerate) (11.10.3.66)\n",
            "Requirement already satisfied: nvidia-cufft-cu11==10.9.0.58 in /usr/local/lib/python3.10/dist-packages (from torch>=1.10.0->accelerate) (10.9.0.58)\n",
            "Requirement already satisfied: nvidia-curand-cu11==10.2.10.91 in /usr/local/lib/python3.10/dist-packages (from torch>=1.10.0->accelerate) (10.2.10.91)\n",
            "Requirement already satisfied: nvidia-cusolver-cu11==11.4.0.1 in /usr/local/lib/python3.10/dist-packages (from torch>=1.10.0->accelerate) (11.4.0.1)\n",
            "Requirement already satisfied: nvidia-cusparse-cu11==11.7.4.91 in /usr/local/lib/python3.10/dist-packages (from torch>=1.10.0->accelerate) (11.7.4.91)\n",
            "Requirement already satisfied: nvidia-nccl-cu11==2.14.3 in /usr/local/lib/python3.10/dist-packages (from torch>=1.10.0->accelerate) (2.14.3)\n",
            "Requirement already satisfied: nvidia-nvtx-cu11==11.7.91 in /usr/local/lib/python3.10/dist-packages (from torch>=1.10.0->accelerate) (11.7.91)\n",
            "Requirement already satisfied: triton==2.0.0 in /usr/local/lib/python3.10/dist-packages (from torch>=1.10.0->accelerate) (2.0.0)\n",
            "Requirement already satisfied: setuptools in /usr/local/lib/python3.10/dist-packages (from nvidia-cublas-cu11==11.10.3.66->torch>=1.10.0->accelerate) (67.7.2)\n",
            "Requirement already satisfied: wheel in /usr/local/lib/python3.10/dist-packages (from nvidia-cublas-cu11==11.10.3.66->torch>=1.10.0->accelerate) (0.43.0)\n",
            "Requirement already satisfied: cmake in /usr/local/lib/python3.10/dist-packages (from triton==2.0.0->torch>=1.10.0->accelerate) (3.27.9)\n",
            "Requirement already satisfied: lit in /usr/local/lib/python3.10/dist-packages (from triton==2.0.0->torch>=1.10.0->accelerate) (18.1.4)\n",
            "Requirement already satisfied: fsspec>=2023.5.0 in /usr/local/lib/python3.10/dist-packages (from huggingface-hub->accelerate) (2023.6.0)\n",
            "Requirement already satisfied: requests in /usr/local/lib/python3.10/dist-packages (from huggingface-hub->accelerate) (2.31.0)\n",
            "Requirement already satisfied: tqdm>=4.42.1 in /usr/local/lib/python3.10/dist-packages (from huggingface-hub->accelerate) (4.66.4)\n",
            "Requirement already satisfied: MarkupSafe>=2.0 in /usr/local/lib/python3.10/dist-packages (from jinja2->torch>=1.10.0->accelerate) (2.1.5)\n",
            "Requirement already satisfied: charset-normalizer<4,>=2 in /usr/local/lib/python3.10/dist-packages (from requests->huggingface-hub->accelerate) (3.3.2)\n",
            "Requirement already satisfied: idna<4,>=2.5 in /usr/local/lib/python3.10/dist-packages (from requests->huggingface-hub->accelerate) (3.7)\n",
            "Requirement already satisfied: urllib3<3,>=1.21.1 in /usr/local/lib/python3.10/dist-packages (from requests->huggingface-hub->accelerate) (2.0.7)\n",
            "Requirement already satisfied: certifi>=2017.4.17 in /usr/local/lib/python3.10/dist-packages (from requests->huggingface-hub->accelerate) (2024.2.2)\n",
            "Requirement already satisfied: mpmath>=0.19 in /usr/local/lib/python3.10/dist-packages (from sympy->torch>=1.10.0->accelerate) (1.3.0)\n"
          ]
        }
      ],
      "source": [
        "!pip install inseq==0.5.0\n",
        "!pip install transformers\n",
        "!pip install bitsandbytes\n",
        "!pip install -U accelerate"
      ]
    },
    {
      "cell_type": "markdown",
      "metadata": {
        "id": "6ElcWXfA8o3n"
      },
      "source": [
        "## Machine Translation Task"
      ]
    },
    {
      "cell_type": "code",
      "execution_count": null,
      "metadata": {
        "colab": {
          "base_uri": "https://localhost:8080/",
          "height": 1000
        },
        "id": "-e8MpYJ9LgBy",
        "outputId": "64329e98-1b34-4b5b-86b5-0d44c5dc50b9"
      },
      "outputs": [
        {
          "name": "stdout",
          "output_type": "stream",
          "text": [
            "======= Attribution Method: saliency =======\n"
          ]
        },
        {
          "name": "stderr",
          "output_type": "stream",
          "text": [
            "Attributing with saliency...: 100%|██████████| 10/10 [00:00<00:00, 23.52it/s]\n"
          ]
        },
        {
          "data": {
            "text/html": [
              "<br/><b>0th instance:</b><br/>\n",
              "<html>\n",
              "<div id=\"ktzmcbepnbudfbkejwmb_viz_container\">\n",
              "    <div id=\"ktzmcbepnbudfbkejwmb_content\" style=\"padding:15px;border-style:solid;margin:5px;\">\n",
              "        <div id = \"ktzmcbepnbudfbkejwmb_saliency_plot_container\" class=\"ktzmcbepnbudfbkejwmb_viz_container\" style=\"display:block\">\n",
              "            \n",
              "<div id=\"fiqxumtphxxiopejgoic_saliency_plot\" class=\"fiqxumtphxxiopejgoic_viz_content\">\n",
              "    <div style=\"margin:5px;font-family:sans-serif;font-weight:bold;\">\n",
              "        <span style=\"font-size: 20px;\">Source Saliency Heatmap</span>\n",
              "        <br>\n",
              "        x: Generated tokens, y: Attributed tokens\n",
              "    </div>\n",
              "    \n",
              "<table border=\"1\" cellpadding=\"5\" cellspacing=\"5\"\n",
              "    style=\"overflow-x:scroll;display:block;\">\n",
              "    <tr><th></th>\n",
              "<th>I</th><th>like</th><th>machine</th><th>learning</th><th>and</th><th>artificial</th><th>intelligence</th><th>.</th><th>&lt;/s&gt;</th></tr><tr><th>我喜歡</th><th style=\"background:rgba(255.0, 13.0, 87.0, 0.46397306397306415)\">0.23</th><th style=\"background:rgba(255.0, 13.0, 87.0, 0.8975242622301447)\">0.438</th><th style=\"background:rgba(255.0, 13.0, 87.0, 0.16442859972271742)\">0.084</th><th style=\"background:rgba(255.0, 13.0, 87.0, 0.12501485442661908)\">0.064</th><th style=\"background:rgba(255.0, 13.0, 87.0, 0.3693800752624282)\">0.183</th><th style=\"background:rgba(255.0, 13.0, 87.0, 0.10136660724896006)\">0.052</th><th style=\"background:rgba(255.0, 13.0, 87.0, 0.1171321053673995)\">0.058</th><th style=\"background:rgba(255.0, 13.0, 87.0, 0.5112695583283818)\">0.25</th><th style=\"background:rgba(255.0, 13.0, 87.0, 0.39302832244008706)\">0.193</th></tr><tr><th>機器</th><th style=\"background:rgba(255.0, 13.0, 87.0, 0.3299663299663301)\">0.162</th><th style=\"background:rgba(255.0, 13.0, 87.0, 0.2747870865517925)\">0.135</th><th style=\"background:rgba(255.0, 13.0, 87.0, 1.0)\">0.491</th><th style=\"background:rgba(255.0, 13.0, 87.0, 0.4560903149138443)\">0.225</th><th style=\"background:rgba(255.0, 13.0, 87.0, 0.26690433749257286)\">0.13</th><th style=\"background:rgba(255.0, 13.0, 87.0, 0.13289760348583876)\">0.069</th><th style=\"background:rgba(255.0, 13.0, 87.0, 0.14078035254505847)\">0.07</th><th style=\"background:rgba(255.0, 13.0, 87.0, 0.2826698356110118)\">0.141</th><th style=\"background:rgba(255.0, 13.0, 87.0, 0.306318082788671)\">0.151</th></tr><tr><th>學</th><th style=\"background:rgba(255.0, 13.0, 87.0, 0.14866310160427795)\">0.074</th><th style=\"background:rgba(255.0, 13.0, 87.0, 0.10924935630817992)\">0.054</th><th style=\"background:rgba(255.0, 13.0, 87.0, 0.306318082788671)\">0.151</th><th style=\"background:rgba(255.0, 13.0, 87.0, 0.3772628243216479)\">0.188</th><th style=\"background:rgba(255.0, 13.0, 87.0, 0.14078035254505847)\">0.07</th><th style=\"background:rgba(255.0, 13.0, 87.0, 0.05407011289364243)\">0.03</th><th style=\"background:rgba(255.0, 13.0, 87.0, 0.06195286195286207)\">0.032</th><th style=\"background:rgba(255.0, 13.0, 87.0, 0.13289760348583876)\">0.069</th><th style=\"background:rgba(255.0, 13.0, 87.0, 0.1171321053673995)\">0.061</th></tr><tr><th>習</th><th style=\"background:rgba(255.0, 13.0, 87.0, 0.14078035254505847)\">0.07</th><th style=\"background:rgba(255.0, 13.0, 87.0, 0.15654585066349747)\">0.078</th><th style=\"background:rgba(255.0, 13.0, 87.0, 0.2117250940780353)\">0.106</th><th style=\"background:rgba(255.0, 13.0, 87.0, 0.5428005545652606)\">0.267</th><th style=\"background:rgba(255.0, 13.0, 87.0, 0.23537334125569415)\">0.118</th><th style=\"background:rgba(255.0, 13.0, 87.0, 0.10136660724896006)\">0.052</th><th style=\"background:rgba(255.0, 13.0, 87.0, 0.10924935630817992)\">0.055</th><th style=\"background:rgba(255.0, 13.0, 87.0, 0.16442859972271742)\">0.083</th><th style=\"background:rgba(255.0, 13.0, 87.0, 0.12501485442661908)\">0.064</th></tr><tr><th>和</th><th style=\"background:rgba(255.0, 13.0, 87.0, 0.13289760348583876)\">0.067</th><th style=\"background:rgba(255.0, 13.0, 87.0, 0.09348385818974037)\">0.047</th><th style=\"background:rgba(255.0, 13.0, 87.0, 0.04618736383442265)\">0.026</th><th style=\"background:rgba(255.0, 13.0, 87.0, 0.10136660724896006)\">0.05</th><th style=\"background:rgba(255.0, 13.0, 87.0, 0.32208358090711037)\">0.158</th><th style=\"background:rgba(255.0, 13.0, 87.0, 0.06983561101208159)\">0.036</th><th style=\"background:rgba(255.0, 13.0, 87.0, 0.05407011289364243)\">0.03</th><th style=\"background:rgba(255.0, 13.0, 87.0, 0.14078035254505847)\">0.073</th><th style=\"background:rgba(255.0, 13.0, 87.0, 0.14078035254505847)\">0.073</th></tr><tr><th>人工</th><th style=\"background:rgba(255.0, 13.0, 87.0, 0.1959595959595959)\">0.099</th><th style=\"background:rgba(255.0, 13.0, 87.0, 0.10136660724896006)\">0.052</th><th style=\"background:rgba(255.0, 13.0, 87.0, 0.07771836007130124)\">0.039</th><th style=\"background:rgba(255.0, 13.0, 87.0, 0.12501485442661908)\">0.063</th><th style=\"background:rgba(255.0, 13.0, 87.0, 0.2117250940780353)\">0.104</th><th style=\"background:rgba(255.0, 13.0, 87.0, 0.8186967716379481)\">0.399</th><th style=\"background:rgba(255.0, 13.0, 87.0, 0.41667656961774624)\">0.203</th><th style=\"background:rgba(255.0, 13.0, 87.0, 0.18019409784115661)\">0.091</th><th style=\"background:rgba(255.0, 13.0, 87.0, 0.22749059219647458)\">0.114</th></tr><tr><th>智慧</th><th style=\"background:rgba(255.0, 13.0, 87.0, 0.22749059219647458)\">0.113</th><th style=\"background:rgba(255.0, 13.0, 87.0, 0.13289760348583876)\">0.068</th><th style=\"background:rgba(255.0, 13.0, 87.0, 0.07771836007130124)\">0.039</th><th style=\"background:rgba(255.0, 13.0, 87.0, 0.14866310160427795)\">0.073</th><th style=\"background:rgba(255.0, 13.0, 87.0, 0.219607843137255)\">0.109</th><th style=\"background:rgba(255.0, 13.0, 87.0, 0.5585660526836996)\">0.274</th><th style=\"background:rgba(255.0, 13.0, 87.0, 0.889641513170925)\">0.437</th><th style=\"background:rgba(255.0, 13.0, 87.0, 0.219607843137255)\">0.111</th><th style=\"background:rgba(255.0, 13.0, 87.0, 0.306318082788671)\">0.153</th></tr><tr><th>。</th><th style=\"background:rgba(255.0, 13.0, 87.0, 0.23537334125569415)\">0.119</th><th style=\"background:rgba(255.0, 13.0, 87.0, 0.13289760348583876)\">0.066</th><th style=\"background:rgba(255.0, 13.0, 87.0, 0.03830461477520289)\">0.02</th><th style=\"background:rgba(255.0, 13.0, 87.0, 0.04618736383442265)\">0.027</th><th style=\"background:rgba(255.0, 13.0, 87.0, 0.16442859972271742)\">0.083</th><th style=\"background:rgba(255.0, 13.0, 87.0, 0.08560110913052081)\">0.045</th><th style=\"background:rgba(255.0, 13.0, 87.0, 0.10924935630817992)\">0.057</th><th style=\"background:rgba(255.0, 13.0, 87.0, 0.23537334125569415)\">0.118</th><th style=\"background:rgba(255.0, 13.0, 87.0, 0.2511388393741335)\">0.124</th></tr><tr><th>&lt;/s&gt;</th><th style=\"background:rgba(255.0, 13.0, 87.0, 0.13289760348583876)\">0.066</th><th style=\"background:rgba(255.0, 13.0, 87.0, 0.12501485442661908)\">0.063</th><th style=\"background:rgba(255.0, 13.0, 87.0, 0.08560110913052081)\">0.044</th><th style=\"background:rgba(255.0, 13.0, 87.0, 0.08560110913052081)\">0.043</th><th style=\"background:rgba(255.0, 13.0, 87.0, 0.09348385818974037)\">0.046</th><th style=\"background:rgba(255.0, 13.0, 87.0, 0.08560110913052081)\">0.043</th><th style=\"background:rgba(255.0, 13.0, 87.0, 0.1171321053673995)\">0.058</th><th style=\"background:rgba(255.0, 13.0, 87.0, 0.12501485442661908)\">0.064</th><th style=\"background:rgba(255.0, 13.0, 87.0, 0.13289760348583876)\">0.068</th></tr><tr style=\"outline: thin solid\"><th><b>probability</b></th><th><b>0.767</b></th><th><b>0.589</b></th><th>0.425</th><th><b>0.671</b></th><th><b>0.856</b></th><th><b>0.647</b></th><th><b>0.866</b></th><th><b>0.891</b></th><th><b>0.896</b></th></table>\n",
              "</div>\n",
              "\n",
              "        </div>\n",
              "    </div>\n",
              "</div>\n",
              "</html>\n"
            ],
            "text/plain": [
              "<IPython.core.display.HTML object>"
            ]
          },
          "metadata": {},
          "output_type": "display_data"
        },
        {
          "name": "stdout",
          "output_type": "stream",
          "text": [
            "======= Attribution Method: attention =======\n"
          ]
        },
        {
          "name": "stderr",
          "output_type": "stream",
          "text": [
            "Attributing with attention...: 100%|██████████| 10/10 [00:00<00:00, 64.01it/s]\n"
          ]
        },
        {
          "data": {
            "text/html": [
              "<br/><b>0th instance:</b><br/>\n",
              "<html>\n",
              "<div id=\"ucwgcjuglnurrmihpbdk_viz_container\">\n",
              "    <div id=\"ucwgcjuglnurrmihpbdk_content\" style=\"padding:15px;border-style:solid;margin:5px;\">\n",
              "        <div id = \"ucwgcjuglnurrmihpbdk_saliency_plot_container\" class=\"ucwgcjuglnurrmihpbdk_viz_container\" style=\"display:block\">\n",
              "            \n",
              "<div id=\"wnlwvqhmpowgbwmwmdsf_saliency_plot\" class=\"wnlwvqhmpowgbwmwmdsf_viz_content\">\n",
              "    <div style=\"margin:5px;font-family:sans-serif;font-weight:bold;\">\n",
              "        <span style=\"font-size: 20px;\">Source Saliency Heatmap</span>\n",
              "        <br>\n",
              "        x: Generated tokens, y: Attributed tokens\n",
              "    </div>\n",
              "    \n",
              "<table border=\"1\" cellpadding=\"5\" cellspacing=\"5\"\n",
              "    style=\"overflow-x:scroll;display:block;\">\n",
              "    <tr><th></th>\n",
              "<th>I</th><th>like</th><th>machine</th><th>learning</th><th>and</th><th>artificial</th><th>intelligence</th><th>.</th><th>&lt;/s&gt;</th></tr><tr><th>我喜歡</th><th style=\"background:rgba(255.0, 13.0, 87.0, 0.3693800752624282)\">0.19</th><th style=\"background:rgba(255.0, 13.0, 87.0, 1.0)\">0.517</th><th style=\"background:rgba(255.0, 13.0, 87.0, 0.5428005545652606)\">0.28</th><th style=\"background:rgba(255.0, 13.0, 87.0, 0.030421865715983164)\">0.018</th><th style=\"background:rgba(255.0, 13.0, 87.0, 0.08560110913052081)\">0.048</th><th style=\"background:rgba(255.0, 13.0, 87.0, 0.05407011289364243)\">0.032</th><th style=\"background:rgba(255.0, 13.0, 87.0, 0.02253911665676371)\">0.014</th><th style=\"background:rgba(255.0, 13.0, 87.0, 0.09348385818974037)\">0.049</th><th style=\"background:rgba(255.0, 13.0, 87.0, 0.03830461477520289)\">0.023</th></tr><tr><th>機器</th><th style=\"background:rgba(255.0, 13.0, 87.0, 0.15654585066349747)\">0.084</th><th style=\"background:rgba(255.0, 13.0, 87.0, 0.06983561101208159)\">0.037</th><th style=\"background:rgba(255.0, 13.0, 87.0, 0.44820756585462457)\">0.233</th><th style=\"background:rgba(255.0, 13.0, 87.0, 0.4009110714993067)\">0.208</th><th style=\"background:rgba(255.0, 13.0, 87.0, 0.06983561101208159)\">0.038</th><th style=\"background:rgba(255.0, 13.0, 87.0, 0.06983561101208159)\">0.036</th><th style=\"background:rgba(255.0, 13.0, 87.0, 0.03830461477520289)\">0.024</th><th style=\"background:rgba(255.0, 13.0, 87.0, 0.04618736383442265)\">0.028</th><th style=\"background:rgba(255.0, 13.0, 87.0, 0.02253911665676371)\">0.015</th></tr><tr><th>學</th><th style=\"background:rgba(255.0, 13.0, 87.0, 0.02253911665676371)\">0.012</th><th style=\"background:rgba(255.0, 13.0, 87.0, 0.014656367597544035)\">0.01</th><th style=\"background:rgba(255.0, 13.0, 87.0, 0.07771836007130124)\">0.044</th><th style=\"background:rgba(255.0, 13.0, 87.0, 0.24325609031491383)\">0.129</th><th style=\"background:rgba(255.0, 13.0, 87.0, 0.20384234501881549)\">0.105</th><th style=\"background:rgba(255.0, 13.0, 87.0, 0.030421865715983164)\">0.018</th><th style=\"background:rgba(255.0, 13.0, 87.0, 0.00677361853832443)\">0.006</th><th style=\"background:rgba(255.0, 13.0, 87.0, 0.030421865715983164)\">0.017</th><th style=\"background:rgba(255.0, 13.0, 87.0, 0.014656367597544035)\">0.012</th></tr><tr><th>習</th><th style=\"background:rgba(255.0, 13.0, 87.0, 0.03830461477520289)\">0.021</th><th style=\"background:rgba(255.0, 13.0, 87.0, 0.02253911665676371)\">0.015</th><th style=\"background:rgba(255.0, 13.0, 87.0, 0.12501485442661908)\">0.066</th><th style=\"background:rgba(255.0, 13.0, 87.0, 0.29843533372945136)\">0.155</th><th style=\"background:rgba(255.0, 13.0, 87.0, 0.20384234501881549)\">0.109</th><th style=\"background:rgba(255.0, 13.0, 87.0, 0.03830461477520289)\">0.024</th><th style=\"background:rgba(255.0, 13.0, 87.0, 0.014656367597544035)\">0.009</th><th style=\"background:rgba(255.0, 13.0, 87.0, 0.03830461477520289)\">0.024</th><th style=\"background:rgba(255.0, 13.0, 87.0, 0.00677361853832443)\">0.007</th></tr><tr><th>和</th><th style=\"background:rgba(255.0, 13.0, 87.0, 0.10924935630817992)\">0.058</th><th style=\"background:rgba(255.0, 13.0, 87.0, 0.07771836007130124)\">0.042</th><th style=\"background:rgba(255.0, 13.0, 87.0, 0.1171321053673995)\">0.063</th><th style=\"background:rgba(255.0, 13.0, 87.0, 0.06983561101208159)\">0.039</th><th style=\"background:rgba(255.0, 13.0, 87.0, 0.29055258467023165)\">0.152</th><th style=\"background:rgba(255.0, 13.0, 87.0, 0.3457318280847692)\">0.178</th><th style=\"background:rgba(255.0, 13.0, 87.0, 0.02253911665676371)\">0.015</th><th style=\"background:rgba(255.0, 13.0, 87.0, 0.06195286195286207)\">0.034</th><th style=\"background:rgba(255.0, 13.0, 87.0, 0.06195286195286207)\">0.036</th></tr><tr><th>人工</th><th style=\"background:rgba(255.0, 13.0, 87.0, 0.03830461477520289)\">0.023</th><th style=\"background:rgba(255.0, 13.0, 87.0, 0.02253911665676371)\">0.015</th><th style=\"background:rgba(255.0, 13.0, 87.0, 0.03830461477520289)\">0.022</th><th style=\"background:rgba(255.0, 13.0, 87.0, 0.04618736383442265)\">0.027</th><th style=\"background:rgba(255.0, 13.0, 87.0, 0.04618736383442265)\">0.025</th><th style=\"background:rgba(255.0, 13.0, 87.0, 0.5033868092691621)\">0.26</th><th style=\"background:rgba(255.0, 13.0, 87.0, 0.3536145771439889)\">0.183</th><th style=\"background:rgba(255.0, 13.0, 87.0, 0.06195286195286207)\">0.033</th><th style=\"background:rgba(255.0, 13.0, 87.0, 0.02253911665676371)\">0.016</th></tr><tr><th>智慧</th><th style=\"background:rgba(255.0, 13.0, 87.0, 0.05407011289364243)\">0.029</th><th style=\"background:rgba(255.0, 13.0, 87.0, 0.030421865715983164)\">0.017</th><th style=\"background:rgba(255.0, 13.0, 87.0, 0.06195286195286207)\">0.033</th><th style=\"background:rgba(255.0, 13.0, 87.0, 0.08560110913052081)\">0.046</th><th style=\"background:rgba(255.0, 13.0, 87.0, 0.06983561101208159)\">0.04</th><th style=\"background:rgba(255.0, 13.0, 87.0, 0.2511388393741335)\">0.132</th><th style=\"background:rgba(255.0, 13.0, 87.0, 0.7083382848088731)\">0.365</th><th style=\"background:rgba(255.0, 13.0, 87.0, 0.29843533372945136)\">0.155</th><th style=\"background:rgba(255.0, 13.0, 87.0, 0.02253911665676371)\">0.013</th></tr><tr><th>。</th><th style=\"background:rgba(255.0, 13.0, 87.0, 0.29055258467023165)\">0.153</th><th style=\"background:rgba(255.0, 13.0, 87.0, 0.16442859972271742)\">0.087</th><th style=\"background:rgba(255.0, 13.0, 87.0, 0.08560110913052081)\">0.047</th><th style=\"background:rgba(255.0, 13.0, 87.0, 0.030421865715983164)\">0.019</th><th style=\"background:rgba(255.0, 13.0, 87.0, 0.10924935630817992)\">0.059</th><th style=\"background:rgba(255.0, 13.0, 87.0, 0.14078035254505847)\">0.076</th><th style=\"background:rgba(255.0, 13.0, 87.0, 0.06983561101208159)\">0.037</th><th style=\"background:rgba(255.0, 13.0, 87.0, 0.3142008318478907)\">0.163</th><th style=\"background:rgba(255.0, 13.0, 87.0, 0.7004555357496535)\">0.363</th></tr><tr><th>&lt;/s&gt;</th><th style=\"background:rgba(255.0, 13.0, 87.0, 0.8344622697563875)\">0.43</th><th style=\"background:rgba(255.0, 13.0, 87.0, 0.5033868092691621)\">0.262</th><th style=\"background:rgba(255.0, 13.0, 87.0, 0.4087938205585263)\">0.212</th><th style=\"background:rgba(255.0, 13.0, 87.0, 0.6925727866904339)\">0.359</th><th style=\"background:rgba(255.0, 13.0, 87.0, 0.8265795206971679)\">0.425</th><th style=\"background:rgba(255.0, 13.0, 87.0, 0.4718558130322837)\">0.245</th><th style=\"background:rgba(255.0, 13.0, 87.0, 0.6768072885719946)\">0.348</th><th style=\"background:rgba(255.0, 13.0, 87.0, 0.9605862547039017)\">0.496</th><th style=\"background:rgba(255.0, 13.0, 87.0, 1.0)\">0.516</th></tr><tr style=\"outline: thin solid\"><th><b>probability</b></th><th><b>0.767</b></th><th><b>0.589</b></th><th>0.425</th><th><b>0.671</b></th><th><b>0.856</b></th><th><b>0.647</b></th><th><b>0.866</b></th><th><b>0.891</b></th><th><b>0.896</b></th></table>\n",
              "</div>\n",
              "\n",
              "        </div>\n",
              "    </div>\n",
              "</div>\n",
              "</html>\n"
            ],
            "text/plain": [
              "<IPython.core.display.HTML object>"
            ]
          },
          "metadata": {},
          "output_type": "display_data"
        }
      ],
      "source": [
        "import inseq\n",
        "\n",
        "# List of attribution methods to be used\n",
        "attribution_methods = ['saliency', 'attention']\n",
        "\n",
        "for method in attribution_methods:\n",
        "    print(f\"======= Attribution Method: {method} =======\")\n",
        "    # Load the Chinese-to-English translation model and set up the attribution method\n",
        "    model = inseq.load_model(\"Helsinki-NLP/opus-mt-zh-en\", method)\n",
        "\n",
        "    # Apply attribution to the input text using the specified method\n",
        "    attribution_result = model.attribute(\n",
        "        input_texts=\"我喜歡機器學習和人工智慧。\",\n",
        "        step_scores=[\"probability\"],\n",
        "    )\n",
        "\n",
        "    # Remove '▁' from the tokenizer in the prefix to avoid confusion (You can ignore this part of code)\n",
        "    for attr in attribution_result.sequence_attributions:\n",
        "        for item in attr.source:\n",
        "            item.token = item.token.replace('▁', '')\n",
        "        for item in attr.target:\n",
        "            item.token = item.token.replace('▁', '')\n",
        "\n",
        "    # Display the attribution results\n",
        "    attribution_result.show()"
      ]
    },
    {
      "cell_type": "markdown",
      "metadata": {
        "id": "9lgZR0CJ-7xs"
      },
      "source": [
        "## Sentence Completion Task"
      ]
    },
    {
      "cell_type": "code",
      "execution_count": null,
      "metadata": {
        "colab": {
          "base_uri": "https://localhost:8080/"
        },
        "id": "oJ650ekw5jo-",
        "outputId": "5197a6a9-5d1b-4d38-f815-57d76c27d0bb"
      },
      "outputs": [
        {
          "name": "stderr",
          "output_type": "stream",
          "text": [
            "The `load_in_4bit` and `load_in_8bit` arguments are deprecated and will be removed in the future versions. Please, pass a `BitsAndBytesConfig` object in `quantization_config` argument instead.\n"
          ]
        }
      ],
      "source": [
        "from transformers import AutoModelForCausalLM\n",
        "\n",
        "model = AutoModelForCausalLM.from_pretrained(\"gpt2-xl\", load_in_8bit=True, device_map=\"auto\")"
      ]
    },
    {
      "cell_type": "code",
      "execution_count": null,
      "metadata": {
        "colab": {
          "base_uri": "https://localhost:8080/",
          "height": 1000
        },
        "id": "8Nfr55IvSCuw",
        "outputId": "44c05925-cb53-4d3c-caf0-0567a2cd98f4"
      },
      "outputs": [
        {
          "name": "stderr",
          "output_type": "stream",
          "text": [
            "WARNING:inseq.models.huggingface_model:The model is loaded in 8bit mode. The device cannot be changed after loading the model.\n",
            "The attention mask and the pad token id were not set. As a consequence, you may observe unexpected behavior. Please pass your input's `attention_mask` to obtain reliable results.\n",
            "Setting `pad_token_id` to `eos_token_id`:50256 for open-end generation.\n",
            "Attributing with saliency...: 100%|██████████| 20/20 [00:13<00:00,  1.07it/s]\n"
          ]
        },
        {
          "data": {
            "text/html": [
              "<br/><b>0th instance:</b><br/>\n",
              "<html>\n",
              "<div id=\"xfxqdgiznsqbeuepeuai_viz_container\">\n",
              "    <div id=\"xfxqdgiznsqbeuepeuai_content\" style=\"padding:15px;border-style:solid;margin:5px;\">\n",
              "        <div id = \"xfxqdgiznsqbeuepeuai_saliency_plot_container\" class=\"xfxqdgiznsqbeuepeuai_viz_container\" style=\"display:block\">\n",
              "            \n",
              "<div id=\"mrihlzbzhochhhmfghco_saliency_plot\" class=\"mrihlzbzhochhhmfghco_viz_content\">\n",
              "    <div style=\"margin:5px;font-family:sans-serif;font-weight:bold;\">\n",
              "        <span style=\"font-size: 20px;\">Target Saliency Heatmap</span>\n",
              "        <br>\n",
              "        x: Generated tokens, y: Attributed tokens\n",
              "    </div>\n",
              "    \n",
              "<table border=\"1\" cellpadding=\"5\" cellspacing=\"5\"\n",
              "    style=\"overflow-x:scroll;display:block;\">\n",
              "    <tr><th></th>\n",
              "<th>a</th><th>man</th><th>named</th><th>George</th><th>Washington</th><th>.</th><th>He</th><th>was</th><th>a</th><th>man</th><th>of</th><th>great</th><th>integrity</th><th>,</th></tr><tr><th>The</th><th style=\"background:rgba(255.0, 13.0, 87.0, 0.7477520301049713)\">0.192</th><th style=\"background:rgba(255.0, 13.0, 87.0, 0.7241037829273124)\">0.186</th><th style=\"background:rgba(255.0, 13.0, 87.0, 0.7319865319865321)\">0.187</th><th style=\"background:rgba(255.0, 13.0, 87.0, 0.6373935432758963)\">0.163</th><th style=\"background:rgba(255.0, 13.0, 87.0, 0.5349178055060405)\">0.137</th><th style=\"background:rgba(255.0, 13.0, 87.0, 1.0)\">0.256</th><th style=\"background:rgba(255.0, 13.0, 87.0, 0.5664488017429193)\">0.146</th><th style=\"background:rgba(255.0, 13.0, 87.0, 0.44032481679540497)\">0.114</th><th style=\"background:rgba(255.0, 13.0, 87.0, 0.5900970489205783)\">0.152</th><th style=\"background:rgba(255.0, 13.0, 87.0, 0.46397306397306415)\">0.119</th><th style=\"background:rgba(255.0, 13.0, 87.0, 0.36149732620320857)\">0.093</th><th style=\"background:rgba(255.0, 13.0, 87.0, 0.33784907902554967)\">0.088</th><th style=\"background:rgba(255.0, 13.0, 87.0, 0.43244206773618543)\">0.11</th><th style=\"background:rgba(255.0, 13.0, 87.0, 0.32208358090711037)\">0.083</th></tr><tr><th>first</th><th style=\"background:rgba(255.0, 13.0, 87.0, 0.6058625470390177)\">0.156</th><th style=\"background:rgba(255.0, 13.0, 87.0, 0.46397306397306415)\">0.119</th><th style=\"background:rgba(255.0, 13.0, 87.0, 0.49550406020994264)\">0.128</th><th style=\"background:rgba(255.0, 13.0, 87.0, 0.4009110714993067)\">0.104</th><th style=\"background:rgba(255.0, 13.0, 87.0, 0.29055258467023165)\">0.076</th><th style=\"background:rgba(255.0, 13.0, 87.0, 0.3536145771439889)\">0.092</th><th style=\"background:rgba(255.0, 13.0, 87.0, 0.2826698356110118)\">0.073</th><th style=\"background:rgba(255.0, 13.0, 87.0, 0.26690433749257286)\">0.069</th><th style=\"background:rgba(255.0, 13.0, 87.0, 0.2826698356110118)\">0.073</th><th style=\"background:rgba(255.0, 13.0, 87.0, 0.26690433749257286)\">0.07</th><th style=\"background:rgba(255.0, 13.0, 87.0, 0.26690433749257286)\">0.069</th><th style=\"background:rgba(255.0, 13.0, 87.0, 0.219607843137255)\">0.057</th><th style=\"background:rgba(255.0, 13.0, 87.0, 0.24325609031491383)\">0.064</th><th style=\"background:rgba(255.0, 13.0, 87.0, 0.17231134878193693)\">0.045</th></tr><tr><th>president</th><th style=\"background:rgba(255.0, 13.0, 87.0, 1.0)\">0.257</th><th style=\"background:rgba(255.0, 13.0, 87.0, 0.9211725094078035)\">0.236</th><th style=\"background:rgba(255.0, 13.0, 87.0, 0.7635175282234107)\">0.196</th><th style=\"background:rgba(255.0, 13.0, 87.0, 0.7635175282234107)\">0.196</th><th style=\"background:rgba(255.0, 13.0, 87.0, 0.6373935432758963)\">0.163</th><th style=\"background:rgba(255.0, 13.0, 87.0, 0.5270350564468211)\">0.134</th><th style=\"background:rgba(255.0, 13.0, 87.0, 0.5349178055060405)\">0.137</th><th style=\"background:rgba(255.0, 13.0, 87.0, 0.49550406020994264)\">0.127</th><th style=\"background:rgba(255.0, 13.0, 87.0, 0.4718558130322837)\">0.122</th><th style=\"background:rgba(255.0, 13.0, 87.0, 0.4718558130322837)\">0.12</th><th style=\"background:rgba(255.0, 13.0, 87.0, 0.36149732620320857)\">0.094</th><th style=\"background:rgba(255.0, 13.0, 87.0, 0.44032481679540497)\">0.114</th><th style=\"background:rgba(255.0, 13.0, 87.0, 0.4560903149138443)\">0.117</th><th style=\"background:rgba(255.0, 13.0, 87.0, 0.3851455733808676)\">0.099</th></tr><tr><th>of</th><th style=\"background:rgba(255.0, 13.0, 87.0, 0.3142008318478907)\">0.081</th><th style=\"background:rgba(255.0, 13.0, 87.0, 0.3299663299663301)\">0.085</th><th style=\"background:rgba(255.0, 13.0, 87.0, 0.29843533372945136)\">0.078</th><th style=\"background:rgba(255.0, 13.0, 87.0, 0.29055258467023165)\">0.076</th><th style=\"background:rgba(255.0, 13.0, 87.0, 0.1959595959595959)\">0.051</th><th style=\"background:rgba(255.0, 13.0, 87.0, 0.22749059219647458)\">0.059</th><th style=\"background:rgba(255.0, 13.0, 87.0, 0.16442859972271742)\">0.044</th><th style=\"background:rgba(255.0, 13.0, 87.0, 0.17231134878193693)\">0.045</th><th style=\"background:rgba(255.0, 13.0, 87.0, 0.18019409784115661)\">0.047</th><th style=\"background:rgba(255.0, 13.0, 87.0, 0.1880768469003763)\">0.049</th><th style=\"background:rgba(255.0, 13.0, 87.0, 0.10924935630817992)\">0.028</th><th style=\"background:rgba(255.0, 13.0, 87.0, 0.16442859972271742)\">0.043</th><th style=\"background:rgba(255.0, 13.0, 87.0, 0.12501485442661908)\">0.034</th><th style=\"background:rgba(255.0, 13.0, 87.0, 0.10136660724896006)\">0.027</th></tr><tr><th>America</th><th style=\"background:rgba(255.0, 13.0, 87.0, 0.889641513170925)\">0.227</th><th style=\"background:rgba(255.0, 13.0, 87.0, 0.7083382848088731)\">0.182</th><th style=\"background:rgba(255.0, 13.0, 87.0, 0.8186967716379481)\">0.209</th><th style=\"background:rgba(255.0, 13.0, 87.0, 0.889641513170925)\">0.227</th><th style=\"background:rgba(255.0, 13.0, 87.0, 0.49550406020994264)\">0.128</th><th style=\"background:rgba(255.0, 13.0, 87.0, 0.43244206773618543)\">0.112</th><th style=\"background:rgba(255.0, 13.0, 87.0, 0.4087938205585263)\">0.105</th><th style=\"background:rgba(255.0, 13.0, 87.0, 0.3772628243216479)\">0.098</th><th style=\"background:rgba(255.0, 13.0, 87.0, 0.41667656961774624)\">0.107</th><th style=\"background:rgba(255.0, 13.0, 87.0, 0.43244206773618543)\">0.112</th><th style=\"background:rgba(255.0, 13.0, 87.0, 0.23537334125569415)\">0.061</th><th style=\"background:rgba(255.0, 13.0, 87.0, 0.29055258467023165)\">0.075</th><th style=\"background:rgba(255.0, 13.0, 87.0, 0.3299663299663301)\">0.085</th><th style=\"background:rgba(255.0, 13.0, 87.0, 0.2590215884333532)\">0.068</th></tr><tr><th>is</th><th style=\"background:rgba(255.0, 13.0, 87.0, 0.33784907902554967)\">0.087</th><th style=\"background:rgba(255.0, 13.0, 87.0, 0.36149732620320857)\">0.093</th><th style=\"background:rgba(255.0, 13.0, 87.0, 0.22749059219647458)\">0.059</th><th style=\"background:rgba(255.0, 13.0, 87.0, 0.17231134878193693)\">0.046</th><th style=\"background:rgba(255.0, 13.0, 87.0, 0.18019409784115661)\">0.048</th><th style=\"background:rgba(255.0, 13.0, 87.0, 0.306318082788671)\">0.078</th><th style=\"background:rgba(255.0, 13.0, 87.0, 0.2117250940780353)\">0.055</th><th style=\"background:rgba(255.0, 13.0, 87.0, 0.2117250940780353)\">0.055</th><th style=\"background:rgba(255.0, 13.0, 87.0, 0.23537334125569415)\">0.061</th><th style=\"background:rgba(255.0, 13.0, 87.0, 0.1880768469003763)\">0.048</th><th style=\"background:rgba(255.0, 13.0, 87.0, 0.17231134878193693)\">0.046</th><th style=\"background:rgba(255.0, 13.0, 87.0, 0.16442859972271742)\">0.042</th><th style=\"background:rgba(255.0, 13.0, 87.0, 0.16442859972271742)\">0.044</th><th style=\"background:rgba(255.0, 13.0, 87.0, 0.13289760348583876)\">0.036</th></tr><tr><th>a</th><th style=\"background:rgba(0.0, 0.0, 0.0, 0.0)\"></th><th style=\"background:rgba(255.0, 13.0, 87.0, 0.3851455733808676)\">0.099</th><th style=\"background:rgba(255.0, 13.0, 87.0, 0.10924935630817992)\">0.029</th><th style=\"background:rgba(255.0, 13.0, 87.0, 0.09348385818974037)\">0.026</th><th style=\"background:rgba(255.0, 13.0, 87.0, 0.10136660724896006)\">0.028</th><th style=\"background:rgba(255.0, 13.0, 87.0, 0.1171321053673995)\">0.03</th><th style=\"background:rgba(255.0, 13.0, 87.0, 0.1171321053673995)\">0.032</th><th style=\"background:rgba(255.0, 13.0, 87.0, 0.10136660724896006)\">0.028</th><th style=\"background:rgba(255.0, 13.0, 87.0, 0.1171321053673995)\">0.031</th><th style=\"background:rgba(255.0, 13.0, 87.0, 0.13289760348583876)\">0.035</th><th style=\"background:rgba(255.0, 13.0, 87.0, 0.12501485442661908)\">0.034</th><th style=\"background:rgba(255.0, 13.0, 87.0, 0.10136660724896006)\">0.026</th><th style=\"background:rgba(255.0, 13.0, 87.0, 0.08560110913052081)\">0.024</th><th style=\"background:rgba(255.0, 13.0, 87.0, 0.07771836007130124)\">0.02</th></tr><tr><th>man</th><th style=\"background:rgba(0.0, 0.0, 0.0, 0.0)\"></th><th style=\"background:rgba(0.0, 0.0, 0.0, 0.0)\"></th><th style=\"background:rgba(255.0, 13.0, 87.0, 0.44032481679540497)\">0.113</th><th style=\"background:rgba(255.0, 13.0, 87.0, 0.23537334125569415)\">0.062</th><th style=\"background:rgba(255.0, 13.0, 87.0, 0.20384234501881549)\">0.054</th><th style=\"background:rgba(255.0, 13.0, 87.0, 0.18019409784115661)\">0.048</th><th style=\"background:rgba(255.0, 13.0, 87.0, 0.219607843137255)\">0.058</th><th style=\"background:rgba(255.0, 13.0, 87.0, 0.22749059219647458)\">0.06</th><th style=\"background:rgba(255.0, 13.0, 87.0, 0.2511388393741335)\">0.065</th><th style=\"background:rgba(255.0, 13.0, 87.0, 0.46397306397306415)\">0.119</th><th style=\"background:rgba(255.0, 13.0, 87.0, 0.26690433749257286)\">0.07</th><th style=\"background:rgba(255.0, 13.0, 87.0, 0.18019409784115661)\">0.047</th><th style=\"background:rgba(255.0, 13.0, 87.0, 0.20384234501881549)\">0.054</th><th style=\"background:rgba(255.0, 13.0, 87.0, 0.18019409784115661)\">0.046</th></tr><tr><th>named</th><th style=\"background:rgba(0.0, 0.0, 0.0, 0.0)\"></th><th style=\"background:rgba(0.0, 0.0, 0.0, 0.0)\"></th><th style=\"background:rgba(0.0, 0.0, 0.0, 0.0)\"></th><th style=\"background:rgba(255.0, 13.0, 87.0, 0.3851455733808676)\">0.1</th><th style=\"background:rgba(255.0, 13.0, 87.0, 0.32208358090711037)\">0.083</th><th style=\"background:rgba(255.0, 13.0, 87.0, 0.2590215884333532)\">0.068</th><th style=\"background:rgba(255.0, 13.0, 87.0, 0.36149732620320857)\">0.093</th><th style=\"background:rgba(255.0, 13.0, 87.0, 0.3457318280847692)\">0.09</th><th style=\"background:rgba(255.0, 13.0, 87.0, 0.26690433749257286)\">0.07</th><th style=\"background:rgba(255.0, 13.0, 87.0, 0.23537334125569415)\">0.061</th><th style=\"background:rgba(255.0, 13.0, 87.0, 0.4245593186769657)\">0.11</th><th style=\"background:rgba(255.0, 13.0, 87.0, 0.29055258467023165)\">0.076</th><th style=\"background:rgba(255.0, 13.0, 87.0, 0.22749059219647458)\">0.059</th><th style=\"background:rgba(255.0, 13.0, 87.0, 0.219607843137255)\">0.057</th></tr><tr><th>George</th><th style=\"background:rgba(0.0, 0.0, 0.0, 0.0)\"></th><th style=\"background:rgba(0.0, 0.0, 0.0, 0.0)\"></th><th style=\"background:rgba(0.0, 0.0, 0.0, 0.0)\"></th><th style=\"background:rgba(0.0, 0.0, 0.0, 0.0)\"></th><th style=\"background:rgba(255.0, 13.0, 87.0, 0.9054070112893643)\">0.232</th><th style=\"background:rgba(255.0, 13.0, 87.0, 0.1880768469003763)\">0.049</th><th style=\"background:rgba(255.0, 13.0, 87.0, 0.32208358090711037)\">0.084</th><th style=\"background:rgba(255.0, 13.0, 87.0, 0.32208358090711037)\">0.083</th><th style=\"background:rgba(255.0, 13.0, 87.0, 0.2590215884333532)\">0.067</th><th style=\"background:rgba(255.0, 13.0, 87.0, 0.2590215884333532)\">0.067</th><th style=\"background:rgba(255.0, 13.0, 87.0, 0.219607843137255)\">0.057</th><th style=\"background:rgba(255.0, 13.0, 87.0, 0.26690433749257286)\">0.07</th><th style=\"background:rgba(255.0, 13.0, 87.0, 0.2511388393741335)\">0.066</th><th style=\"background:rgba(255.0, 13.0, 87.0, 0.219607843137255)\">0.058</th></tr><tr><th>Washington</th><th style=\"background:rgba(0.0, 0.0, 0.0, 0.0)\"></th><th style=\"background:rgba(0.0, 0.0, 0.0, 0.0)\"></th><th style=\"background:rgba(0.0, 0.0, 0.0, 0.0)\"></th><th style=\"background:rgba(0.0, 0.0, 0.0, 0.0)\"></th><th style=\"background:rgba(0.0, 0.0, 0.0, 0.0)\"></th><th style=\"background:rgba(255.0, 13.0, 87.0, 0.29055258467023165)\">0.074</th><th style=\"background:rgba(255.0, 13.0, 87.0, 0.4245593186769657)\">0.109</th><th style=\"background:rgba(255.0, 13.0, 87.0, 0.48762131115072294)\">0.125</th><th style=\"background:rgba(255.0, 13.0, 87.0, 0.32208358090711037)\">0.083</th><th style=\"background:rgba(255.0, 13.0, 87.0, 0.32208358090711037)\">0.083</th><th style=\"background:rgba(255.0, 13.0, 87.0, 0.26690433749257286)\">0.07</th><th style=\"background:rgba(255.0, 13.0, 87.0, 0.4009110714993067)\">0.103</th><th style=\"background:rgba(255.0, 13.0, 87.0, 0.32208358090711037)\">0.084</th><th style=\"background:rgba(255.0, 13.0, 87.0, 0.2590215884333532)\">0.068</th></tr><tr><th>.</th><th style=\"background:rgba(0.0, 0.0, 0.0, 0.0)\"></th><th style=\"background:rgba(0.0, 0.0, 0.0, 0.0)\"></th><th style=\"background:rgba(0.0, 0.0, 0.0, 0.0)\"></th><th style=\"background:rgba(0.0, 0.0, 0.0, 0.0)\"></th><th style=\"background:rgba(0.0, 0.0, 0.0, 0.0)\"></th><th style=\"background:rgba(0.0, 0.0, 0.0, 0.0)\"></th><th style=\"background:rgba(255.0, 13.0, 87.0, 0.24325609031491383)\">0.063</th><th style=\"background:rgba(255.0, 13.0, 87.0, 0.12501485442661908)\">0.033</th><th style=\"background:rgba(255.0, 13.0, 87.0, 0.14078035254505847)\">0.038</th><th style=\"background:rgba(255.0, 13.0, 87.0, 0.06983561101208159)\">0.02</th><th style=\"background:rgba(255.0, 13.0, 87.0, 0.14866310160427795)\">0.039</th><th style=\"background:rgba(255.0, 13.0, 87.0, 0.13289760348583876)\">0.035</th><th style=\"background:rgba(255.0, 13.0, 87.0, 0.1171321053673995)\">0.031</th><th style=\"background:rgba(255.0, 13.0, 87.0, 0.10924935630817992)\">0.029</th></tr><tr><th>He</th><th style=\"background:rgba(0.0, 0.0, 0.0, 0.0)\"></th><th style=\"background:rgba(0.0, 0.0, 0.0, 0.0)\"></th><th style=\"background:rgba(0.0, 0.0, 0.0, 0.0)\"></th><th style=\"background:rgba(0.0, 0.0, 0.0, 0.0)\"></th><th style=\"background:rgba(0.0, 0.0, 0.0, 0.0)\"></th><th style=\"background:rgba(0.0, 0.0, 0.0, 0.0)\"></th><th style=\"background:rgba(0.0, 0.0, 0.0, 0.0)\"></th><th style=\"background:rgba(255.0, 13.0, 87.0, 0.2826698356110118)\">0.074</th><th style=\"background:rgba(255.0, 13.0, 87.0, 0.12501485442661908)\">0.034</th><th style=\"background:rgba(255.0, 13.0, 87.0, 0.08560110913052081)\">0.022</th><th style=\"background:rgba(255.0, 13.0, 87.0, 0.1880768469003763)\">0.049</th><th style=\"background:rgba(255.0, 13.0, 87.0, 0.13289760348583876)\">0.035</th><th style=\"background:rgba(255.0, 13.0, 87.0, 0.17231134878193693)\">0.045</th><th style=\"background:rgba(255.0, 13.0, 87.0, 0.1171321053673995)\">0.031</th></tr><tr><th>was</th><th style=\"background:rgba(0.0, 0.0, 0.0, 0.0)\"></th><th style=\"background:rgba(0.0, 0.0, 0.0, 0.0)\"></th><th style=\"background:rgba(0.0, 0.0, 0.0, 0.0)\"></th><th style=\"background:rgba(0.0, 0.0, 0.0, 0.0)\"></th><th style=\"background:rgba(0.0, 0.0, 0.0, 0.0)\"></th><th style=\"background:rgba(0.0, 0.0, 0.0, 0.0)\"></th><th style=\"background:rgba(0.0, 0.0, 0.0, 0.0)\"></th><th style=\"background:rgba(0.0, 0.0, 0.0, 0.0)\"></th><th style=\"background:rgba(255.0, 13.0, 87.0, 0.1959595959595959)\">0.051</th><th style=\"background:rgba(255.0, 13.0, 87.0, 0.12501485442661908)\">0.033</th><th style=\"background:rgba(255.0, 13.0, 87.0, 0.15654585066349747)\">0.041</th><th style=\"background:rgba(255.0, 13.0, 87.0, 0.15654585066349747)\">0.042</th><th style=\"background:rgba(255.0, 13.0, 87.0, 0.09348385818974037)\">0.026</th><th style=\"background:rgba(255.0, 13.0, 87.0, 0.06983561101208159)\">0.019</th></tr><tr><th>a</th><th style=\"background:rgba(0.0, 0.0, 0.0, 0.0)\"></th><th style=\"background:rgba(0.0, 0.0, 0.0, 0.0)\"></th><th style=\"background:rgba(0.0, 0.0, 0.0, 0.0)\"></th><th style=\"background:rgba(0.0, 0.0, 0.0, 0.0)\"></th><th style=\"background:rgba(0.0, 0.0, 0.0, 0.0)\"></th><th style=\"background:rgba(0.0, 0.0, 0.0, 0.0)\"></th><th style=\"background:rgba(0.0, 0.0, 0.0, 0.0)\"></th><th style=\"background:rgba(0.0, 0.0, 0.0, 0.0)\"></th><th style=\"background:rgba(0.0, 0.0, 0.0, 0.0)\"></th><th style=\"background:rgba(255.0, 13.0, 87.0, 0.15654585066349747)\">0.042</th><th style=\"background:rgba(255.0, 13.0, 87.0, 0.10924935630817992)\">0.029</th><th style=\"background:rgba(255.0, 13.0, 87.0, 0.08560110913052081)\">0.023</th><th style=\"background:rgba(255.0, 13.0, 87.0, 0.05407011289364243)\">0.014</th><th style=\"background:rgba(255.0, 13.0, 87.0, 0.05407011289364243)\">0.015</th></tr><tr><th>man</th><th style=\"background:rgba(0.0, 0.0, 0.0, 0.0)\"></th><th style=\"background:rgba(0.0, 0.0, 0.0, 0.0)\"></th><th style=\"background:rgba(0.0, 0.0, 0.0, 0.0)\"></th><th style=\"background:rgba(0.0, 0.0, 0.0, 0.0)\"></th><th style=\"background:rgba(0.0, 0.0, 0.0, 0.0)\"></th><th style=\"background:rgba(0.0, 0.0, 0.0, 0.0)\"></th><th style=\"background:rgba(0.0, 0.0, 0.0, 0.0)\"></th><th style=\"background:rgba(0.0, 0.0, 0.0, 0.0)\"></th><th style=\"background:rgba(0.0, 0.0, 0.0, 0.0)\"></th><th style=\"background:rgba(0.0, 0.0, 0.0, 0.0)\"></th><th style=\"background:rgba(255.0, 13.0, 87.0, 0.43244206773618543)\">0.111</th><th style=\"background:rgba(255.0, 13.0, 87.0, 0.2747870865517925)\">0.071</th><th style=\"background:rgba(255.0, 13.0, 87.0, 0.16442859972271742)\">0.043</th><th style=\"background:rgba(255.0, 13.0, 87.0, 0.12501485442661908)\">0.034</th></tr><tr><th>of</th><th style=\"background:rgba(0.0, 0.0, 0.0, 0.0)\"></th><th style=\"background:rgba(0.0, 0.0, 0.0, 0.0)\"></th><th style=\"background:rgba(0.0, 0.0, 0.0, 0.0)\"></th><th style=\"background:rgba(0.0, 0.0, 0.0, 0.0)\"></th><th style=\"background:rgba(0.0, 0.0, 0.0, 0.0)\"></th><th style=\"background:rgba(0.0, 0.0, 0.0, 0.0)\"></th><th style=\"background:rgba(0.0, 0.0, 0.0, 0.0)\"></th><th style=\"background:rgba(0.0, 0.0, 0.0, 0.0)\"></th><th style=\"background:rgba(0.0, 0.0, 0.0, 0.0)\"></th><th style=\"background:rgba(0.0, 0.0, 0.0, 0.0)\"></th><th style=\"background:rgba(0.0, 0.0, 0.0, 0.0)\"></th><th style=\"background:rgba(255.0, 13.0, 87.0, 0.2117250940780353)\">0.054</th><th style=\"background:rgba(255.0, 13.0, 87.0, 0.06195286195286207)\">0.017</th><th style=\"background:rgba(255.0, 13.0, 87.0, 0.07771836007130124)\">0.02</th></tr><tr><th>great</th><th style=\"background:rgba(0.0, 0.0, 0.0, 0.0)\"></th><th style=\"background:rgba(0.0, 0.0, 0.0, 0.0)\"></th><th style=\"background:rgba(0.0, 0.0, 0.0, 0.0)\"></th><th style=\"background:rgba(0.0, 0.0, 0.0, 0.0)\"></th><th style=\"background:rgba(0.0, 0.0, 0.0, 0.0)\"></th><th style=\"background:rgba(0.0, 0.0, 0.0, 0.0)\"></th><th style=\"background:rgba(0.0, 0.0, 0.0, 0.0)\"></th><th style=\"background:rgba(0.0, 0.0, 0.0, 0.0)\"></th><th style=\"background:rgba(0.0, 0.0, 0.0, 0.0)\"></th><th style=\"background:rgba(0.0, 0.0, 0.0, 0.0)\"></th><th style=\"background:rgba(0.0, 0.0, 0.0, 0.0)\"></th><th style=\"background:rgba(0.0, 0.0, 0.0, 0.0)\"></th><th style=\"background:rgba(255.0, 13.0, 87.0, 0.3299663299663301)\">0.085</th><th style=\"background:rgba(255.0, 13.0, 87.0, 0.20384234501881549)\">0.053</th></tr><tr><th>integrity</th><th style=\"background:rgba(0.0, 0.0, 0.0, 0.0)\"></th><th style=\"background:rgba(0.0, 0.0, 0.0, 0.0)\"></th><th style=\"background:rgba(0.0, 0.0, 0.0, 0.0)\"></th><th style=\"background:rgba(0.0, 0.0, 0.0, 0.0)\"></th><th style=\"background:rgba(0.0, 0.0, 0.0, 0.0)\"></th><th style=\"background:rgba(0.0, 0.0, 0.0, 0.0)\"></th><th style=\"background:rgba(0.0, 0.0, 0.0, 0.0)\"></th><th style=\"background:rgba(0.0, 0.0, 0.0, 0.0)\"></th><th style=\"background:rgba(0.0, 0.0, 0.0, 0.0)\"></th><th style=\"background:rgba(0.0, 0.0, 0.0, 0.0)\"></th><th style=\"background:rgba(0.0, 0.0, 0.0, 0.0)\"></th><th style=\"background:rgba(0.0, 0.0, 0.0, 0.0)\"></th><th style=\"background:rgba(0.0, 0.0, 0.0, 0.0)\"></th><th style=\"background:rgba(255.0, 13.0, 87.0, 0.7477520301049713)\">0.192</th></tr><tr><th>,</th><th style=\"background:rgba(0.0, 0.0, 0.0, 0.0)\"></th><th style=\"background:rgba(0.0, 0.0, 0.0, 0.0)\"></th><th style=\"background:rgba(0.0, 0.0, 0.0, 0.0)\"></th><th style=\"background:rgba(0.0, 0.0, 0.0, 0.0)\"></th><th style=\"background:rgba(0.0, 0.0, 0.0, 0.0)\"></th><th style=\"background:rgba(0.0, 0.0, 0.0, 0.0)\"></th><th style=\"background:rgba(0.0, 0.0, 0.0, 0.0)\"></th><th style=\"background:rgba(0.0, 0.0, 0.0, 0.0)\"></th><th style=\"background:rgba(0.0, 0.0, 0.0, 0.0)\"></th><th style=\"background:rgba(0.0, 0.0, 0.0, 0.0)\"></th><th style=\"background:rgba(0.0, 0.0, 0.0, 0.0)\"></th><th style=\"background:rgba(0.0, 0.0, 0.0, 0.0)\"></th><th style=\"background:rgba(0.0, 0.0, 0.0, 0.0)\"></th><th style=\"background:rgba(0.0, 0.0, 0.0, 0.0)\"></th></tr><tr style=\"outline: thin solid\"><th><b>probability</b></th><th>0.077</th><th>0.103</th><th>0.306</th><th>0.424</th><th><b>0.978</b></th><th><b>0.503</b></th><th>0.311</th><th>0.378</th><th>0.312</th><th>0.165</th><th>0.408</th><th>0.182</th><th>0.175</th><th>0.307</th></table>\n",
              "</div>\n",
              "\n",
              "        </div>\n",
              "    </div>\n",
              "</div>\n",
              "</html>\n"
            ],
            "text/plain": [
              "<IPython.core.display.HTML object>"
            ]
          },
          "metadata": {},
          "output_type": "display_data"
        },
        {
          "name": "stderr",
          "output_type": "stream",
          "text": [
            "WARNING:inseq.models.huggingface_model:The model is loaded in 8bit mode. The device cannot be changed after loading the model.\n",
            "The attention mask and the pad token id were not set. As a consequence, you may observe unexpected behavior. Please pass your input's `attention_mask` to obtain reliable results.\n",
            "Setting `pad_token_id` to `eos_token_id`:50256 for open-end generation.\n",
            "Attributing with attention...: 100%|██████████| 20/20 [00:03<00:00,  4.15it/s]\n"
          ]
        },
        {
          "data": {
            "text/html": [
              "<br/><b>0th instance:</b><br/>\n",
              "<html>\n",
              "<div id=\"clygjnpsvmaelmzywmez_viz_container\">\n",
              "    <div id=\"clygjnpsvmaelmzywmez_content\" style=\"padding:15px;border-style:solid;margin:5px;\">\n",
              "        <div id = \"clygjnpsvmaelmzywmez_saliency_plot_container\" class=\"clygjnpsvmaelmzywmez_viz_container\" style=\"display:block\">\n",
              "            \n",
              "<div id=\"xqutchtanfcuyxgakpbo_saliency_plot\" class=\"xqutchtanfcuyxgakpbo_viz_content\">\n",
              "    <div style=\"margin:5px;font-family:sans-serif;font-weight:bold;\">\n",
              "        <span style=\"font-size: 20px;\">Target Saliency Heatmap</span>\n",
              "        <br>\n",
              "        x: Generated tokens, y: Attributed tokens\n",
              "    </div>\n",
              "    \n",
              "<table border=\"1\" cellpadding=\"5\" cellspacing=\"5\"\n",
              "    style=\"overflow-x:scroll;display:block;\">\n",
              "    <tr><th></th>\n",
              "<th>a</th><th>man</th><th>named</th><th>George</th><th>Washington</th><th>.</th><th>He</th><th>was</th><th>a</th><th>man</th><th>of</th><th>great</th><th>integrity</th><th>,</th></tr><tr><th>The</th><th style=\"background:rgba(255.0, 13.0, 87.0, 1.0)\">0.687</th><th style=\"background:rgba(255.0, 13.0, 87.0, 0.976351752822341)\">0.669</th><th style=\"background:rgba(255.0, 13.0, 87.0, 0.976351752822341)\">0.668</th><th style=\"background:rgba(255.0, 13.0, 87.0, 0.9369380075262429)\">0.639</th><th style=\"background:rgba(255.0, 13.0, 87.0, 0.976351752822341)\">0.67</th><th style=\"background:rgba(255.0, 13.0, 87.0, 0.9054070112893643)\">0.619</th><th style=\"background:rgba(255.0, 13.0, 87.0, 0.7477520301049713)\">0.51</th><th style=\"background:rgba(255.0, 13.0, 87.0, 0.7950485244602892)\">0.546</th><th style=\"background:rgba(255.0, 13.0, 87.0, 0.7871657754010695)\">0.54</th><th style=\"background:rgba(255.0, 13.0, 87.0, 0.8186967716379481)\">0.561</th><th style=\"background:rgba(255.0, 13.0, 87.0, 0.7950485244602892)\">0.543</th><th style=\"background:rgba(255.0, 13.0, 87.0, 0.8344622697563875)\">0.573</th><th style=\"background:rgba(255.0, 13.0, 87.0, 0.8581105169340464)\">0.587</th><th style=\"background:rgba(255.0, 13.0, 87.0, 0.7950485244602892)\">0.544</th></tr><tr><th>first</th><th style=\"background:rgba(255.0, 13.0, 87.0, 0.05407011289364243)\">0.039</th><th style=\"background:rgba(255.0, 13.0, 87.0, 0.03830461477520289)\">0.03</th><th style=\"background:rgba(255.0, 13.0, 87.0, 0.030421865715983164)\">0.025</th><th style=\"background:rgba(255.0, 13.0, 87.0, 0.02253911665676371)\">0.019</th><th style=\"background:rgba(255.0, 13.0, 87.0, 0.014656367597544035)\">0.015</th><th style=\"background:rgba(255.0, 13.0, 87.0, 0.02253911665676371)\">0.016</th><th style=\"background:rgba(255.0, 13.0, 87.0, 0.030421865715983164)\">0.023</th><th style=\"background:rgba(255.0, 13.0, 87.0, 0.014656367597544035)\">0.015</th><th style=\"background:rgba(255.0, 13.0, 87.0, 0.014656367597544035)\">0.014</th><th style=\"background:rgba(255.0, 13.0, 87.0, 0.014656367597544035)\">0.012</th><th style=\"background:rgba(255.0, 13.0, 87.0, 0.014656367597544035)\">0.012</th><th style=\"background:rgba(255.0, 13.0, 87.0, 0.00677361853832443)\">0.009</th><th style=\"background:rgba(255.0, 13.0, 87.0, 0.00677361853832443)\">0.009</th><th style=\"background:rgba(255.0, 13.0, 87.0, 0.00677361853832443)\">0.01</th></tr><tr><th>president</th><th style=\"background:rgba(255.0, 13.0, 87.0, 0.08560110913052081)\">0.06</th><th style=\"background:rgba(255.0, 13.0, 87.0, 0.06983561101208159)\">0.05</th><th style=\"background:rgba(255.0, 13.0, 87.0, 0.05407011289364243)\">0.039</th><th style=\"background:rgba(255.0, 13.0, 87.0, 0.05407011289364243)\">0.039</th><th style=\"background:rgba(255.0, 13.0, 87.0, 0.03830461477520289)\">0.032</th><th style=\"background:rgba(255.0, 13.0, 87.0, 0.03830461477520289)\">0.03</th><th style=\"background:rgba(255.0, 13.0, 87.0, 0.03830461477520289)\">0.028</th><th style=\"background:rgba(255.0, 13.0, 87.0, 0.030421865715983164)\">0.025</th><th style=\"background:rgba(255.0, 13.0, 87.0, 0.030421865715983164)\">0.025</th><th style=\"background:rgba(255.0, 13.0, 87.0, 0.02253911665676371)\">0.021</th><th style=\"background:rgba(255.0, 13.0, 87.0, 0.02253911665676371)\">0.019</th><th style=\"background:rgba(255.0, 13.0, 87.0, 0.014656367597544035)\">0.015</th><th style=\"background:rgba(255.0, 13.0, 87.0, 0.014656367597544035)\">0.015</th><th style=\"background:rgba(255.0, 13.0, 87.0, 0.02253911665676371)\">0.016</th></tr><tr><th>of</th><th style=\"background:rgba(255.0, 13.0, 87.0, 0.06983561101208159)\">0.052</th><th style=\"background:rgba(255.0, 13.0, 87.0, 0.05407011289364243)\">0.038</th><th style=\"background:rgba(255.0, 13.0, 87.0, 0.05407011289364243)\">0.04</th><th style=\"background:rgba(255.0, 13.0, 87.0, 0.04618736383442265)\">0.036</th><th style=\"background:rgba(255.0, 13.0, 87.0, 0.04618736383442265)\">0.035</th><th style=\"background:rgba(255.0, 13.0, 87.0, 0.03830461477520289)\">0.029</th><th style=\"background:rgba(255.0, 13.0, 87.0, 0.030421865715983164)\">0.023</th><th style=\"background:rgba(255.0, 13.0, 87.0, 0.030421865715983164)\">0.023</th><th style=\"background:rgba(255.0, 13.0, 87.0, 0.02253911665676371)\">0.019</th><th style=\"background:rgba(255.0, 13.0, 87.0, 0.014656367597544035)\">0.016</th><th style=\"background:rgba(255.0, 13.0, 87.0, 0.02253911665676371)\">0.017</th><th style=\"background:rgba(255.0, 13.0, 87.0, 0.02253911665676371)\">0.02</th><th style=\"background:rgba(255.0, 13.0, 87.0, 0.014656367597544035)\">0.016</th><th style=\"background:rgba(255.0, 13.0, 87.0, 0.02253911665676371)\">0.017</th></tr><tr><th>America</th><th style=\"background:rgba(255.0, 13.0, 87.0, 0.09348385818974037)\">0.066</th><th style=\"background:rgba(255.0, 13.0, 87.0, 0.06195286195286207)\">0.047</th><th style=\"background:rgba(255.0, 13.0, 87.0, 0.05407011289364243)\">0.038</th><th style=\"background:rgba(255.0, 13.0, 87.0, 0.05407011289364243)\">0.038</th><th style=\"background:rgba(255.0, 13.0, 87.0, 0.03830461477520289)\">0.028</th><th style=\"background:rgba(255.0, 13.0, 87.0, 0.030421865715983164)\">0.026</th><th style=\"background:rgba(255.0, 13.0, 87.0, 0.030421865715983164)\">0.025</th><th style=\"background:rgba(255.0, 13.0, 87.0, 0.030421865715983164)\">0.022</th><th style=\"background:rgba(255.0, 13.0, 87.0, 0.02253911665676371)\">0.021</th><th style=\"background:rgba(255.0, 13.0, 87.0, 0.02253911665676371)\">0.017</th><th style=\"background:rgba(255.0, 13.0, 87.0, 0.014656367597544035)\">0.015</th><th style=\"background:rgba(255.0, 13.0, 87.0, 0.014656367597544035)\">0.015</th><th style=\"background:rgba(255.0, 13.0, 87.0, 0.014656367597544035)\">0.013</th><th style=\"background:rgba(255.0, 13.0, 87.0, 0.014656367597544035)\">0.015</th></tr><tr><th>is</th><th style=\"background:rgba(255.0, 13.0, 87.0, 0.13289760348583876)\">0.096</th><th style=\"background:rgba(255.0, 13.0, 87.0, 0.10924935630817992)\">0.078</th><th style=\"background:rgba(255.0, 13.0, 87.0, 0.10136660724896006)\">0.071</th><th style=\"background:rgba(255.0, 13.0, 87.0, 0.07771836007130124)\">0.057</th><th style=\"background:rgba(255.0, 13.0, 87.0, 0.05407011289364243)\">0.04</th><th style=\"background:rgba(255.0, 13.0, 87.0, 0.06195286195286207)\">0.043</th><th style=\"background:rgba(255.0, 13.0, 87.0, 0.05407011289364243)\">0.043</th><th style=\"background:rgba(255.0, 13.0, 87.0, 0.04618736383442265)\">0.037</th><th style=\"background:rgba(255.0, 13.0, 87.0, 0.03830461477520289)\">0.032</th><th style=\"background:rgba(255.0, 13.0, 87.0, 0.02253911665676371)\">0.02</th><th style=\"background:rgba(255.0, 13.0, 87.0, 0.030421865715983164)\">0.022</th><th style=\"background:rgba(255.0, 13.0, 87.0, 0.02253911665676371)\">0.017</th><th style=\"background:rgba(255.0, 13.0, 87.0, 0.014656367597544035)\">0.015</th><th style=\"background:rgba(255.0, 13.0, 87.0, 0.02253911665676371)\">0.018</th></tr><tr><th>a</th><th style=\"background:rgba(0.0, 0.0, 0.0, 0.0)\"></th><th style=\"background:rgba(255.0, 13.0, 87.0, 0.12501485442661908)\">0.087</th><th style=\"background:rgba(255.0, 13.0, 87.0, 0.09348385818974037)\">0.07</th><th style=\"background:rgba(255.0, 13.0, 87.0, 0.06983561101208159)\">0.051</th><th style=\"background:rgba(255.0, 13.0, 87.0, 0.04618736383442265)\">0.036</th><th style=\"background:rgba(255.0, 13.0, 87.0, 0.04618736383442265)\">0.036</th><th style=\"background:rgba(255.0, 13.0, 87.0, 0.04618736383442265)\">0.035</th><th style=\"background:rgba(255.0, 13.0, 87.0, 0.03830461477520289)\">0.029</th><th style=\"background:rgba(255.0, 13.0, 87.0, 0.03830461477520289)\">0.028</th><th style=\"background:rgba(255.0, 13.0, 87.0, 0.03830461477520289)\">0.028</th><th style=\"background:rgba(255.0, 13.0, 87.0, 0.030421865715983164)\">0.024</th><th style=\"background:rgba(255.0, 13.0, 87.0, 0.02253911665676371)\">0.02</th><th style=\"background:rgba(255.0, 13.0, 87.0, 0.02253911665676371)\">0.017</th><th style=\"background:rgba(255.0, 13.0, 87.0, 0.02253911665676371)\">0.017</th></tr><tr><th>man</th><th style=\"background:rgba(0.0, 0.0, 0.0, 0.0)\"></th><th style=\"background:rgba(0.0, 0.0, 0.0, 0.0)\"></th><th style=\"background:rgba(255.0, 13.0, 87.0, 0.06983561101208159)\">0.05</th><th style=\"background:rgba(255.0, 13.0, 87.0, 0.07771836007130124)\">0.055</th><th style=\"background:rgba(255.0, 13.0, 87.0, 0.03830461477520289)\">0.03</th><th style=\"background:rgba(255.0, 13.0, 87.0, 0.03830461477520289)\">0.031</th><th style=\"background:rgba(255.0, 13.0, 87.0, 0.03830461477520289)\">0.029</th><th style=\"background:rgba(255.0, 13.0, 87.0, 0.030421865715983164)\">0.025</th><th style=\"background:rgba(255.0, 13.0, 87.0, 0.030421865715983164)\">0.024</th><th style=\"background:rgba(255.0, 13.0, 87.0, 0.030421865715983164)\">0.022</th><th style=\"background:rgba(255.0, 13.0, 87.0, 0.030421865715983164)\">0.024</th><th style=\"background:rgba(255.0, 13.0, 87.0, 0.02253911665676371)\">0.017</th><th style=\"background:rgba(255.0, 13.0, 87.0, 0.014656367597544035)\">0.016</th><th style=\"background:rgba(255.0, 13.0, 87.0, 0.02253911665676371)\">0.017</th></tr><tr><th>named</th><th style=\"background:rgba(0.0, 0.0, 0.0, 0.0)\"></th><th style=\"background:rgba(0.0, 0.0, 0.0, 0.0)\"></th><th style=\"background:rgba(0.0, 0.0, 0.0, 0.0)\"></th><th style=\"background:rgba(255.0, 13.0, 87.0, 0.09348385818974037)\">0.067</th><th style=\"background:rgba(255.0, 13.0, 87.0, 0.07771836007130124)\">0.055</th><th style=\"background:rgba(255.0, 13.0, 87.0, 0.06195286195286207)\">0.045</th><th style=\"background:rgba(255.0, 13.0, 87.0, 0.05407011289364243)\">0.04</th><th style=\"background:rgba(255.0, 13.0, 87.0, 0.04618736383442265)\">0.033</th><th style=\"background:rgba(255.0, 13.0, 87.0, 0.03830461477520289)\">0.028</th><th style=\"background:rgba(255.0, 13.0, 87.0, 0.030421865715983164)\">0.024</th><th style=\"background:rgba(255.0, 13.0, 87.0, 0.04618736383442265)\">0.035</th><th style=\"background:rgba(255.0, 13.0, 87.0, 0.02253911665676371)\">0.019</th><th style=\"background:rgba(255.0, 13.0, 87.0, 0.02253911665676371)\">0.016</th><th style=\"background:rgba(255.0, 13.0, 87.0, 0.02253911665676371)\">0.017</th></tr><tr><th>George</th><th style=\"background:rgba(0.0, 0.0, 0.0, 0.0)\"></th><th style=\"background:rgba(0.0, 0.0, 0.0, 0.0)\"></th><th style=\"background:rgba(0.0, 0.0, 0.0, 0.0)\"></th><th style=\"background:rgba(0.0, 0.0, 0.0, 0.0)\"></th><th style=\"background:rgba(255.0, 13.0, 87.0, 0.08560110913052081)\">0.059</th><th style=\"background:rgba(255.0, 13.0, 87.0, 0.07771836007130124)\">0.059</th><th style=\"background:rgba(255.0, 13.0, 87.0, 0.04618736383442265)\">0.034</th><th style=\"background:rgba(255.0, 13.0, 87.0, 0.030421865715983164)\">0.024</th><th style=\"background:rgba(255.0, 13.0, 87.0, 0.030421865715983164)\">0.022</th><th style=\"background:rgba(255.0, 13.0, 87.0, 0.030421865715983164)\">0.022</th><th style=\"background:rgba(255.0, 13.0, 87.0, 0.02253911665676371)\">0.017</th><th style=\"background:rgba(255.0, 13.0, 87.0, 0.02253911665676371)\">0.017</th><th style=\"background:rgba(255.0, 13.0, 87.0, 0.014656367597544035)\">0.014</th><th style=\"background:rgba(255.0, 13.0, 87.0, 0.014656367597544035)\">0.013</th></tr><tr><th>Washington</th><th style=\"background:rgba(0.0, 0.0, 0.0, 0.0)\"></th><th style=\"background:rgba(0.0, 0.0, 0.0, 0.0)\"></th><th style=\"background:rgba(0.0, 0.0, 0.0, 0.0)\"></th><th style=\"background:rgba(0.0, 0.0, 0.0, 0.0)\"></th><th style=\"background:rgba(0.0, 0.0, 0.0, 0.0)\"></th><th style=\"background:rgba(255.0, 13.0, 87.0, 0.09348385818974037)\">0.067</th><th style=\"background:rgba(255.0, 13.0, 87.0, 0.10136660724896006)\">0.074</th><th style=\"background:rgba(255.0, 13.0, 87.0, 0.07771836007130124)\">0.056</th><th style=\"background:rgba(255.0, 13.0, 87.0, 0.06983561101208159)\">0.05</th><th style=\"background:rgba(255.0, 13.0, 87.0, 0.06195286195286207)\">0.048</th><th style=\"background:rgba(255.0, 13.0, 87.0, 0.04618736383442265)\">0.032</th><th style=\"background:rgba(255.0, 13.0, 87.0, 0.04618736383442265)\">0.034</th><th style=\"background:rgba(255.0, 13.0, 87.0, 0.03830461477520289)\">0.029</th><th style=\"background:rgba(255.0, 13.0, 87.0, 0.030421865715983164)\">0.026</th></tr><tr><th>.</th><th style=\"background:rgba(0.0, 0.0, 0.0, 0.0)\"></th><th style=\"background:rgba(0.0, 0.0, 0.0, 0.0)\"></th><th style=\"background:rgba(0.0, 0.0, 0.0, 0.0)\"></th><th style=\"background:rgba(0.0, 0.0, 0.0, 0.0)\"></th><th style=\"background:rgba(0.0, 0.0, 0.0, 0.0)\"></th><th style=\"background:rgba(0.0, 0.0, 0.0, 0.0)\"></th><th style=\"background:rgba(255.0, 13.0, 87.0, 0.1959595959595959)\">0.136</th><th style=\"background:rgba(255.0, 13.0, 87.0, 0.14078035254505847)\">0.101</th><th style=\"background:rgba(255.0, 13.0, 87.0, 0.10924935630817992)\">0.079</th><th style=\"background:rgba(255.0, 13.0, 87.0, 0.08560110913052081)\">0.059</th><th style=\"background:rgba(255.0, 13.0, 87.0, 0.08560110913052081)\">0.061</th><th style=\"background:rgba(255.0, 13.0, 87.0, 0.06195286195286207)\">0.048</th><th style=\"background:rgba(255.0, 13.0, 87.0, 0.05407011289364243)\">0.039</th><th style=\"background:rgba(255.0, 13.0, 87.0, 0.07771836007130124)\">0.056</th></tr><tr><th>He</th><th style=\"background:rgba(0.0, 0.0, 0.0, 0.0)\"></th><th style=\"background:rgba(0.0, 0.0, 0.0, 0.0)\"></th><th style=\"background:rgba(0.0, 0.0, 0.0, 0.0)\"></th><th style=\"background:rgba(0.0, 0.0, 0.0, 0.0)\"></th><th style=\"background:rgba(0.0, 0.0, 0.0, 0.0)\"></th><th style=\"background:rgba(0.0, 0.0, 0.0, 0.0)\"></th><th style=\"background:rgba(0.0, 0.0, 0.0, 0.0)\"></th><th style=\"background:rgba(255.0, 13.0, 87.0, 0.09348385818974037)\">0.065</th><th style=\"background:rgba(255.0, 13.0, 87.0, 0.06983561101208159)\">0.052</th><th style=\"background:rgba(255.0, 13.0, 87.0, 0.04618736383442265)\">0.033</th><th style=\"background:rgba(255.0, 13.0, 87.0, 0.04618736383442265)\">0.035</th><th style=\"background:rgba(255.0, 13.0, 87.0, 0.030421865715983164)\">0.024</th><th style=\"background:rgba(255.0, 13.0, 87.0, 0.02253911665676371)\">0.019</th><th style=\"background:rgba(255.0, 13.0, 87.0, 0.030421865715983164)\">0.022</th></tr><tr><th>was</th><th style=\"background:rgba(0.0, 0.0, 0.0, 0.0)\"></th><th style=\"background:rgba(0.0, 0.0, 0.0, 0.0)\"></th><th style=\"background:rgba(0.0, 0.0, 0.0, 0.0)\"></th><th style=\"background:rgba(0.0, 0.0, 0.0, 0.0)\"></th><th style=\"background:rgba(0.0, 0.0, 0.0, 0.0)\"></th><th style=\"background:rgba(0.0, 0.0, 0.0, 0.0)\"></th><th style=\"background:rgba(0.0, 0.0, 0.0, 0.0)\"></th><th style=\"background:rgba(0.0, 0.0, 0.0, 0.0)\"></th><th style=\"background:rgba(255.0, 13.0, 87.0, 0.08560110913052081)\">0.064</th><th style=\"background:rgba(255.0, 13.0, 87.0, 0.06983561101208159)\">0.053</th><th style=\"background:rgba(255.0, 13.0, 87.0, 0.06983561101208159)\">0.052</th><th style=\"background:rgba(255.0, 13.0, 87.0, 0.03830461477520289)\">0.032</th><th style=\"background:rgba(255.0, 13.0, 87.0, 0.030421865715983164)\">0.024</th><th style=\"background:rgba(255.0, 13.0, 87.0, 0.030421865715983164)\">0.026</th></tr><tr><th>a</th><th style=\"background:rgba(0.0, 0.0, 0.0, 0.0)\"></th><th style=\"background:rgba(0.0, 0.0, 0.0, 0.0)\"></th><th style=\"background:rgba(0.0, 0.0, 0.0, 0.0)\"></th><th style=\"background:rgba(0.0, 0.0, 0.0, 0.0)\"></th><th style=\"background:rgba(0.0, 0.0, 0.0, 0.0)\"></th><th style=\"background:rgba(0.0, 0.0, 0.0, 0.0)\"></th><th style=\"background:rgba(0.0, 0.0, 0.0, 0.0)\"></th><th style=\"background:rgba(0.0, 0.0, 0.0, 0.0)\"></th><th style=\"background:rgba(0.0, 0.0, 0.0, 0.0)\"></th><th style=\"background:rgba(255.0, 13.0, 87.0, 0.08560110913052081)\">0.063</th><th style=\"background:rgba(255.0, 13.0, 87.0, 0.07771836007130124)\">0.058</th><th style=\"background:rgba(255.0, 13.0, 87.0, 0.05407011289364243)\">0.041</th><th style=\"background:rgba(255.0, 13.0, 87.0, 0.03830461477520289)\">0.03</th><th style=\"background:rgba(255.0, 13.0, 87.0, 0.030421865715983164)\">0.027</th></tr><tr><th>man</th><th style=\"background:rgba(0.0, 0.0, 0.0, 0.0)\"></th><th style=\"background:rgba(0.0, 0.0, 0.0, 0.0)\"></th><th style=\"background:rgba(0.0, 0.0, 0.0, 0.0)\"></th><th style=\"background:rgba(0.0, 0.0, 0.0, 0.0)\"></th><th style=\"background:rgba(0.0, 0.0, 0.0, 0.0)\"></th><th style=\"background:rgba(0.0, 0.0, 0.0, 0.0)\"></th><th style=\"background:rgba(0.0, 0.0, 0.0, 0.0)\"></th><th style=\"background:rgba(0.0, 0.0, 0.0, 0.0)\"></th><th style=\"background:rgba(0.0, 0.0, 0.0, 0.0)\"></th><th style=\"background:rgba(0.0, 0.0, 0.0, 0.0)\"></th><th style=\"background:rgba(255.0, 13.0, 87.0, 0.04618736383442265)\">0.034</th><th style=\"background:rgba(255.0, 13.0, 87.0, 0.05407011289364243)\">0.042</th><th style=\"background:rgba(255.0, 13.0, 87.0, 0.03830461477520289)\">0.031</th><th style=\"background:rgba(255.0, 13.0, 87.0, 0.03830461477520289)\">0.027</th></tr><tr><th>of</th><th style=\"background:rgba(0.0, 0.0, 0.0, 0.0)\"></th><th style=\"background:rgba(0.0, 0.0, 0.0, 0.0)\"></th><th style=\"background:rgba(0.0, 0.0, 0.0, 0.0)\"></th><th style=\"background:rgba(0.0, 0.0, 0.0, 0.0)\"></th><th style=\"background:rgba(0.0, 0.0, 0.0, 0.0)\"></th><th style=\"background:rgba(0.0, 0.0, 0.0, 0.0)\"></th><th style=\"background:rgba(0.0, 0.0, 0.0, 0.0)\"></th><th style=\"background:rgba(0.0, 0.0, 0.0, 0.0)\"></th><th style=\"background:rgba(0.0, 0.0, 0.0, 0.0)\"></th><th style=\"background:rgba(0.0, 0.0, 0.0, 0.0)\"></th><th style=\"background:rgba(0.0, 0.0, 0.0, 0.0)\"></th><th style=\"background:rgba(255.0, 13.0, 87.0, 0.07771836007130124)\">0.057</th><th style=\"background:rgba(255.0, 13.0, 87.0, 0.08560110913052081)\">0.06</th><th style=\"background:rgba(255.0, 13.0, 87.0, 0.05407011289364243)\">0.039</th></tr><tr><th>great</th><th style=\"background:rgba(0.0, 0.0, 0.0, 0.0)\"></th><th style=\"background:rgba(0.0, 0.0, 0.0, 0.0)\"></th><th style=\"background:rgba(0.0, 0.0, 0.0, 0.0)\"></th><th style=\"background:rgba(0.0, 0.0, 0.0, 0.0)\"></th><th style=\"background:rgba(0.0, 0.0, 0.0, 0.0)\"></th><th style=\"background:rgba(0.0, 0.0, 0.0, 0.0)\"></th><th style=\"background:rgba(0.0, 0.0, 0.0, 0.0)\"></th><th style=\"background:rgba(0.0, 0.0, 0.0, 0.0)\"></th><th style=\"background:rgba(0.0, 0.0, 0.0, 0.0)\"></th><th style=\"background:rgba(0.0, 0.0, 0.0, 0.0)\"></th><th style=\"background:rgba(0.0, 0.0, 0.0, 0.0)\"></th><th style=\"background:rgba(0.0, 0.0, 0.0, 0.0)\"></th><th style=\"background:rgba(255.0, 13.0, 87.0, 0.06983561101208159)\">0.049</th><th style=\"background:rgba(255.0, 13.0, 87.0, 0.05407011289364243)\">0.042</th></tr><tr><th>integrity</th><th style=\"background:rgba(0.0, 0.0, 0.0, 0.0)\"></th><th style=\"background:rgba(0.0, 0.0, 0.0, 0.0)\"></th><th style=\"background:rgba(0.0, 0.0, 0.0, 0.0)\"></th><th style=\"background:rgba(0.0, 0.0, 0.0, 0.0)\"></th><th style=\"background:rgba(0.0, 0.0, 0.0, 0.0)\"></th><th style=\"background:rgba(0.0, 0.0, 0.0, 0.0)\"></th><th style=\"background:rgba(0.0, 0.0, 0.0, 0.0)\"></th><th style=\"background:rgba(0.0, 0.0, 0.0, 0.0)\"></th><th style=\"background:rgba(0.0, 0.0, 0.0, 0.0)\"></th><th style=\"background:rgba(0.0, 0.0, 0.0, 0.0)\"></th><th style=\"background:rgba(0.0, 0.0, 0.0, 0.0)\"></th><th style=\"background:rgba(0.0, 0.0, 0.0, 0.0)\"></th><th style=\"background:rgba(0.0, 0.0, 0.0, 0.0)\"></th><th style=\"background:rgba(255.0, 13.0, 87.0, 0.06983561101208159)\">0.051</th></tr><tr><th>,</th><th style=\"background:rgba(0.0, 0.0, 0.0, 0.0)\"></th><th style=\"background:rgba(0.0, 0.0, 0.0, 0.0)\"></th><th style=\"background:rgba(0.0, 0.0, 0.0, 0.0)\"></th><th style=\"background:rgba(0.0, 0.0, 0.0, 0.0)\"></th><th style=\"background:rgba(0.0, 0.0, 0.0, 0.0)\"></th><th style=\"background:rgba(0.0, 0.0, 0.0, 0.0)\"></th><th style=\"background:rgba(0.0, 0.0, 0.0, 0.0)\"></th><th style=\"background:rgba(0.0, 0.0, 0.0, 0.0)\"></th><th style=\"background:rgba(0.0, 0.0, 0.0, 0.0)\"></th><th style=\"background:rgba(0.0, 0.0, 0.0, 0.0)\"></th><th style=\"background:rgba(0.0, 0.0, 0.0, 0.0)\"></th><th style=\"background:rgba(0.0, 0.0, 0.0, 0.0)\"></th><th style=\"background:rgba(0.0, 0.0, 0.0, 0.0)\"></th><th style=\"background:rgba(0.0, 0.0, 0.0, 0.0)\"></th></tr><tr style=\"outline: thin solid\"><th><b>probability</b></th><th>0.077</th><th>0.103</th><th>0.306</th><th>0.424</th><th><b>0.978</b></th><th><b>0.503</b></th><th>0.311</th><th>0.378</th><th>0.312</th><th>0.165</th><th>0.408</th><th>0.182</th><th>0.175</th><th>0.307</th></table>\n",
              "</div>\n",
              "\n",
              "        </div>\n",
              "    </div>\n",
              "</div>\n",
              "</html>\n"
            ],
            "text/plain": [
              "<IPython.core.display.HTML object>"
            ]
          },
          "metadata": {},
          "output_type": "display_data"
        }
      ],
      "source": [
        "for method in attribution_methods:\n",
        "    print(f\"======= Attribution Method: {method} =======\")\n",
        "    # Load the model with the specified attribution method\n",
        "    inseq_model = inseq.load_model(model, method)\n",
        "\n",
        "    # Apply attribution to the input text using the specified method\n",
        "    attribution_result = inseq_model.attribute(\n",
        "        input_texts=\"The first president of America is\",\n",
        "        step_scores=[\"probability\"],\n",
        "    )\n",
        "\n",
        "    # Remove 'Ġ' from GPT2's BPE tokenizer in the prefix to avoid confusion (You can ignore this part of code)\n",
        "    for attr in attribution_result.sequence_attributions:\n",
        "        for item in attr.source:\n",
        "            item.token = item.token.replace('Ġ', '')\n",
        "        for item in attr.target:\n",
        "            item.token = item.token.replace('Ġ', '')\n",
        "\n",
        "    # Display the attribution results\n",
        "    attribution_result.show()"
      ]
    },
    {
      "cell_type": "code",
      "execution_count": null,
      "metadata": {
        "id": "fbsVxmOLeG4F"
      },
      "outputs": [],
      "source": []
    }
  ],
  "metadata": {
    "accelerator": "GPU",
    "colab": {
      "gpuType": "T4",
      "provenance": []
    },
    "kernelspec": {
      "display_name": "Python 3",
      "name": "python3"
    },
    "language_info": {
      "name": "python"
    }
  },
  "nbformat": 4,
  "nbformat_minor": 0
}
