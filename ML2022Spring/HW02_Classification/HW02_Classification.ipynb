{
 "cells": [
  {
   "cell_type": "markdown",
   "id": "282221c7",
   "metadata": {
    "id": "OYlaRwNu7ojq",
    "papermill": {
     "duration": 0.020731,
     "end_time": "2023-03-29T12:33:00.816854",
     "exception": false,
     "start_time": "2023-03-29T12:33:00.796123",
     "status": "completed"
    },
    "tags": []
   },
   "source": [
    "# **Homework 2 Phoneme Classification**\n",
    "\n",
    "* Slides: https://docs.google.com/presentation/d/1v6HkBWiJb8WNDcJ9_-2kwVstxUWml87b9CnA16Gdoio/edit?usp=sharing\n",
    "* Kaggle: https://www.kaggle.com/c/ml2022spring-hw2\n",
    "* Video: TBA\n"
   ]
  },
  {
   "cell_type": "markdown",
   "id": "91b68dc4",
   "metadata": {
    "papermill": {
     "duration": 0.012357,
     "end_time": "2023-03-29T12:33:00.841018",
     "exception": false,
     "start_time": "2023-03-29T12:33:00.828661",
     "status": "completed"
    },
    "tags": []
   },
   "source": [
    "* https://zhuanlan.zhihu.com/p/483475612\n",
    "* https://github.com/yl-jiang/ML2022SpringHW"
   ]
  },
  {
   "cell_type": "markdown",
   "id": "b08c183b",
   "metadata": {
    "papermill": {
     "duration": 0.013303,
     "end_time": "2023-03-29T12:33:00.867943",
     "exception": false,
     "start_time": "2023-03-29T12:33:00.854640",
     "status": "completed"
    },
    "tags": []
   },
   "source": [
    "preprocess_data 的 keep_ratio 只是暫解\n",
    "\n",
    "當有足夠的 ram 或改為讀檔的方式後\n",
    "\n",
    "便可移除，直接對所有資料訓練"
   ]
  },
  {
   "cell_type": "code",
   "execution_count": 1,
   "id": "23b4adcb",
   "metadata": {
    "execution": {
     "iopub.execute_input": "2023-03-29T12:33:00.898054Z",
     "iopub.status.busy": "2023-03-29T12:33:00.897425Z",
     "iopub.status.idle": "2023-03-29T12:33:01.908987Z",
     "shell.execute_reply": "2023-03-29T12:33:01.907880Z"
    },
    "executionInfo": {
     "elapsed": 332,
     "status": "ok",
     "timestamp": 1647176766489,
     "user": {
      "displayName": "孫志傑 Sun Chih Chieh E24932223",
      "photoUrl": "https://lh3.googleusercontent.com/a/default-user=s64",
      "userId": "15814509083696715096"
     },
     "user_tz": -480
    },
    "id": "mLQI0mNcmM-O",
    "outputId": "67c0e92e-c79c-40ba-82d4-553db9581d87",
    "papermill": {
     "duration": 1.02987,
     "end_time": "2023-03-29T12:33:01.911352",
     "exception": false,
     "start_time": "2023-03-29T12:33:00.881482",
     "status": "completed"
    },
    "tags": []
   },
   "outputs": [
    {
     "name": "stdout",
     "output_type": "stream",
     "text": [
      "Wed Mar 29 12:33:01 2023       \r\n",
      "+-----------------------------------------------------------------------------+\r\n",
      "| NVIDIA-SMI 470.82.01    Driver Version: 470.82.01    CUDA Version: 11.4     |\r\n",
      "|-------------------------------+----------------------+----------------------+\r\n",
      "| GPU  Name        Persistence-M| Bus-Id        Disp.A | Volatile Uncorr. ECC |\r\n",
      "| Fan  Temp  Perf  Pwr:Usage/Cap|         Memory-Usage | GPU-Util  Compute M. |\r\n",
      "|                               |                      |               MIG M. |\r\n",
      "|===============================+======================+======================|\r\n",
      "|   0  Tesla P100-PCIE...  Off  | 00000000:00:04.0 Off |                    0 |\r\n",
      "| N/A   36C    P0    27W / 250W |      0MiB / 16280MiB |      0%      Default |\r\n",
      "|                               |                      |                  N/A |\r\n",
      "+-------------------------------+----------------------+----------------------+\r\n",
      "                                                                               \r\n",
      "+-----------------------------------------------------------------------------+\r\n",
      "| Processes:                                                                  |\r\n",
      "|  GPU   GI   CI        PID   Type   Process name                  GPU Memory |\r\n",
      "|        ID   ID                                                   Usage      |\r\n",
      "|=============================================================================|\r\n",
      "|  No running processes found                                                 |\r\n",
      "+-----------------------------------------------------------------------------+\r\n"
     ]
    }
   ],
   "source": [
    "!nvidia-smi"
   ]
  },
  {
   "cell_type": "markdown",
   "id": "c92b9c71",
   "metadata": {
    "id": "KVUGfWTo7_Oj",
    "papermill": {
     "duration": 0.013496,
     "end_time": "2023-03-29T12:33:01.937176",
     "exception": false,
     "start_time": "2023-03-29T12:33:01.923680",
     "status": "completed"
    },
    "tags": []
   },
   "source": [
    "## Download Data\n",
    "Download data from google drive, then unzip it.\n",
    "\n",
    "You should have\n",
    "- `libriphone/train_split.txt`\n",
    "- `libriphone/train_labels`\n",
    "- `libriphone/test_split.txt`\n",
    "- `libriphone/feat/train/*.pt`: training feature<br>\n",
    "- `libriphone/feat/test/*.pt`:  testing feature<br>\n",
    "\n",
    "after running the following block.\n",
    "\n",
    "> **Notes: if the links are dead, you can download the data directly from [Kaggle](https://www.kaggle.com/c/ml2022spring-hw2/data) and upload it to the workspace, or you can use [the Kaggle API](https://www.kaggle.com/general/74235) to directly download the data into colab.**\n"
   ]
  },
  {
   "cell_type": "markdown",
   "id": "642bd94b",
   "metadata": {
    "id": "Bj5jYXsD9Ef3",
    "papermill": {
     "duration": 0.013282,
     "end_time": "2023-03-29T12:33:01.964133",
     "exception": false,
     "start_time": "2023-03-29T12:33:01.950851",
     "status": "completed"
    },
    "tags": []
   },
   "source": [
    "### Download train/test metadata"
   ]
  },
  {
   "cell_type": "code",
   "execution_count": 2,
   "id": "c872d809",
   "metadata": {
    "execution": {
     "iopub.execute_input": "2023-03-29T12:33:01.992954Z",
     "iopub.status.busy": "2023-03-29T12:33:01.992554Z",
     "iopub.status.idle": "2023-03-29T12:33:02.012447Z",
     "shell.execute_reply": "2023-03-29T12:33:02.011306Z"
    },
    "executionInfo": {
     "elapsed": 13784,
     "status": "ok",
     "timestamp": 1647176787270,
     "user": {
      "displayName": "孫志傑 Sun Chih Chieh E24932223",
      "photoUrl": "https://lh3.googleusercontent.com/a/default-user=s64",
      "userId": "15814509083696715096"
     },
     "user_tz": -480
    },
    "id": "OzkiMEcC3Foq",
    "outputId": "c28eb177-8f41-46dd-d6ea-9813c6d4775d",
    "papermill": {
     "duration": 0.036954,
     "end_time": "2023-03-29T12:33:02.014661",
     "exception": false,
     "start_time": "2023-03-29T12:33:01.977707",
     "status": "completed"
    },
    "tags": []
   },
   "outputs": [],
   "source": [
    "%%script false --no-raise-error\n",
    "\n",
    "# colab\n",
    "# Main link\n",
    "!wget -O libriphone.zip \"https://github.com/xraychen/shiny-robot/releases/download/v1.0/libriphone.zip\"\n",
    "\n",
    "# Backup Link 0\n",
    "# !pip install --upgrade gdown\n",
    "# !gdown --id '1o6Ag-G3qItSmYhTheX6DYiuyNzWyHyTc' --output libriphone.zip\n",
    "\n",
    "# Backup link 1\n",
    "# !pip install --upgrade gdown\n",
    "# !gdown --id '1R1uQYi4QpX0tBfUWt2mbZcncdBsJkxeW' --output libriphone.zip\n",
    "\n",
    "# Backup link 2\n",
    "# !wget -O libriphone.zip \"https://www.dropbox.com/s/wqww8c5dbrl2ka9/libriphone.zip?dl=1\"\n",
    "\n",
    "# Backup link 3\n",
    "# !wget -O libriphone.zip \"https://www.dropbox.com/s/p2ljbtb2bam13in/libriphone.zip?dl=1\"\n",
    "\n",
    "!unzip -q libriphone.zip\n",
    "!ls libriphone"
   ]
  },
  {
   "cell_type": "markdown",
   "id": "ac611951",
   "metadata": {
    "id": "_L_4anls8Drv",
    "papermill": {
     "duration": 0.013067,
     "end_time": "2023-03-29T12:33:02.039152",
     "exception": false,
     "start_time": "2023-03-29T12:33:02.026085",
     "status": "completed"
    },
    "tags": []
   },
   "source": [
    "### Preparing Data"
   ]
  },
  {
   "cell_type": "markdown",
   "id": "f36acdf2",
   "metadata": {
    "id": "po4N3C-AWuWl",
    "papermill": {
     "duration": 0.013535,
     "end_time": "2023-03-29T12:33:02.067599",
     "exception": false,
     "start_time": "2023-03-29T12:33:02.054064",
     "status": "completed"
    },
    "tags": []
   },
   "source": [
    "**Helper functions to pre-process the training data from raw MFCC features of each utterance.**\n",
    "\n",
    "A phoneme may span several frames and is dependent to past and future frames. \\\n",
    "Hence we concatenate neighboring phonemes for training to achieve higher accuracy. The **concat_feat** function concatenates past and future k frames (total 2k+1 = n frames), and we predict the center frame.\n",
    "\n",
    "Feel free to modify the data preprocess functions, but **do not drop any frame** (if you modify the functions, remember to check that the number of frames are the same as mentioned in the slides)"
   ]
  },
  {
   "cell_type": "code",
   "execution_count": 3,
   "id": "5653fb26",
   "metadata": {
    "execution": {
     "iopub.execute_input": "2023-03-29T12:33:02.096997Z",
     "iopub.status.busy": "2023-03-29T12:33:02.096153Z",
     "iopub.status.idle": "2023-03-29T12:33:03.911162Z",
     "shell.execute_reply": "2023-03-29T12:33:03.910181Z"
    },
    "id": "IJjLT8em-y9G",
    "papermill": {
     "duration": 1.832609,
     "end_time": "2023-03-29T12:33:03.913704",
     "exception": false,
     "start_time": "2023-03-29T12:33:02.081095",
     "status": "completed"
    },
    "tags": []
   },
   "outputs": [],
   "source": [
    "import os\n",
    "import random\n",
    "import pandas as pd\n",
    "import torch\n",
    "from tqdm import tqdm\n",
    "\n",
    "def load_feat(path):\n",
    "    feat = torch.load(path)\n",
    "    return feat\n",
    "\n",
    "def shift(x, n):\n",
    "    if n < 0:\n",
    "        left = x[0].repeat(-n, 1)\n",
    "        right = x[:n]\n",
    "\n",
    "    elif n > 0:\n",
    "        right = x[-1].repeat(n, 1)\n",
    "        left = x[n:]\n",
    "    else:\n",
    "        return x\n",
    "\n",
    "    return torch.cat((left, right), dim=0)\n",
    "\n",
    "def concat_feat(x, concat_n):\n",
    "    assert concat_n % 2 == 1 # n must be odd\n",
    "    if concat_n < 2:\n",
    "        return x\n",
    "    seq_len, feature_dim = x.size(0), x.size(1)\n",
    "    x = x.repeat(1, concat_n) \n",
    "    x = x.view(seq_len, concat_n, feature_dim).permute(1, 0, 2) # concat_n, seq_len, feature_dim\n",
    "    mid = (concat_n // 2)\n",
    "    for r_idx in range(1, mid+1):\n",
    "        x[mid + r_idx, :] = shift(x[mid + r_idx], r_idx)\n",
    "        x[mid - r_idx, :] = shift(x[mid - r_idx], -r_idx)\n",
    "\n",
    "    return x.permute(1, 0, 2).view(seq_len, concat_n * feature_dim) # seq_len, concat_n, feature_dim\n",
    "\n",
    "def preprocess_data(split, feat_dir, phone_path, concat_nframes, train_ratio=0.8, train_val_seed=1337, keep_ratio=1.0):\n",
    "    class_num = 41 # NOTE: pre-computed, should not need change\n",
    "    mode = 'train' if (split == 'train' or split == 'val') else 'test'\n",
    "\n",
    "    label_dict = {}\n",
    "    if mode != 'test':\n",
    "        phone_file = open(os.path.join(phone_path, f'{mode}_labels.txt')).readlines()\n",
    "\n",
    "        for line in phone_file:\n",
    "            line = line.strip('\\n').split(' ')\n",
    "            label_dict[line[0]] = [int(p) for p in line[1:]]\n",
    "\n",
    "    if split == 'train' or split == 'val':\n",
    "        # split training and validation data\n",
    "        usage_list = open(os.path.join(phone_path, 'train_split.txt')).readlines()\n",
    "        random.seed(train_val_seed)\n",
    "        random.shuffle(usage_list)\n",
    "        percent = int(len(usage_list) * train_ratio)\n",
    "        if split == 'train':\n",
    "            usage_list = usage_list[:percent]  \n",
    "#             usage_list = usage_list[:int(len(usage_list)*keep_ratio)]\n",
    "            usage_list = usage_list[int(len(usage_list)*(1-keep_ratio)):]\n",
    "        else:\n",
    "            usage_list = usage_list[percent:]\n",
    "    elif split == 'test':\n",
    "        usage_list = open(os.path.join(phone_path, 'test_split.txt')).readlines()\n",
    "    else:\n",
    "        raise ValueError('Invalid \\'split\\' argument for dataset: PhoneDataset!')\n",
    "\n",
    "    usage_list = [line.strip('\\n') for line in usage_list]\n",
    "    print('[Dataset] - # phone classes: ' + str(class_num) + ', number of utterances for ' + split + ': ' + str(len(usage_list)))\n",
    "\n",
    "    max_len = 3000000\n",
    "    X = torch.empty(max_len, 39 * concat_nframes)\n",
    "    if mode != 'test':\n",
    "        y = torch.empty(max_len, dtype=torch.long)\n",
    "\n",
    "    idx = 0\n",
    "    for i, fname in tqdm(enumerate(usage_list)):\n",
    "        feat = load_feat(os.path.join(feat_dir, mode, f'{fname}.pt'))\n",
    "        cur_len = len(feat)\n",
    "        feat = concat_feat(feat, concat_nframes)\n",
    "        if mode != 'test':\n",
    "            label = torch.LongTensor(label_dict[fname])\n",
    "\n",
    "        X[idx: idx + cur_len, :] = feat\n",
    "        if mode != 'test':\n",
    "            y[idx: idx + cur_len] = label\n",
    "\n",
    "        idx += cur_len\n",
    "        assert idx < max_len\n",
    "\n",
    "    X = X[:idx, :]\n",
    "    if mode != 'test':\n",
    "        y = y[:idx]\n",
    "\n",
    "    print(f'[INFO] {split} set')\n",
    "    print(X.shape)\n",
    "    if mode != 'test':\n",
    "        print(y.shape)\n",
    "        return X, y\n",
    "    else:\n",
    "        return X\n"
   ]
  },
  {
   "cell_type": "code",
   "execution_count": 4,
   "id": "fdc366c3",
   "metadata": {
    "execution": {
     "iopub.execute_input": "2023-03-29T12:33:03.940067Z",
     "iopub.status.busy": "2023-03-29T12:33:03.938877Z",
     "iopub.status.idle": "2023-03-29T12:33:03.955817Z",
     "shell.execute_reply": "2023-03-29T12:33:03.954694Z"
    },
    "papermill": {
     "duration": 0.032435,
     "end_time": "2023-03-29T12:33:03.958551",
     "exception": false,
     "start_time": "2023-03-29T12:33:03.926116",
     "status": "completed"
    },
    "tags": []
   },
   "outputs": [
    {
     "data": {
      "text/plain": [
       "(tensor([[ 1.,  2.,  3.,  4.,  5.],\n",
       "         [11., 12., 13., 14., 15.],\n",
       "         [21., 22., 23., 24., 25.],\n",
       "         [31., 32., 33., 34., 35.],\n",
       "         [41., 42., 43., 44., 45.],\n",
       "         [51., 52., 53., 54., 55.]]),\n",
       " tensor([[[ 1.,  2.,  3.,  4.,  5.],\n",
       "          [ 1.,  2.,  3.,  4.,  5.],\n",
       "          [11., 12., 13., 14., 15.]],\n",
       " \n",
       "         [[ 1.,  2.,  3.,  4.,  5.],\n",
       "          [11., 12., 13., 14., 15.],\n",
       "          [21., 22., 23., 24., 25.]],\n",
       " \n",
       "         [[11., 12., 13., 14., 15.],\n",
       "          [21., 22., 23., 24., 25.],\n",
       "          [31., 32., 33., 34., 35.]],\n",
       " \n",
       "         [[21., 22., 23., 24., 25.],\n",
       "          [31., 32., 33., 34., 35.],\n",
       "          [41., 42., 43., 44., 45.]],\n",
       " \n",
       "         [[31., 32., 33., 34., 35.],\n",
       "          [41., 42., 43., 44., 45.],\n",
       "          [51., 52., 53., 54., 55.]],\n",
       " \n",
       "         [[41., 42., 43., 44., 45.],\n",
       "          [51., 52., 53., 54., 55.],\n",
       "          [51., 52., 53., 54., 55.]]]),\n",
       " tensor([[ 1.,  2.,  3.,  4.,  5.,  1.,  2.,  3.,  4.,  5., 11., 12., 13., 14.,\n",
       "          15.],\n",
       "         [ 1.,  2.,  3.,  4.,  5., 11., 12., 13., 14., 15., 21., 22., 23., 24.,\n",
       "          25.],\n",
       "         [11., 12., 13., 14., 15., 21., 22., 23., 24., 25., 31., 32., 33., 34.,\n",
       "          35.],\n",
       "         [21., 22., 23., 24., 25., 31., 32., 33., 34., 35., 41., 42., 43., 44.,\n",
       "          45.],\n",
       "         [31., 32., 33., 34., 35., 41., 42., 43., 44., 45., 51., 52., 53., 54.,\n",
       "          55.],\n",
       "         [41., 42., 43., 44., 45., 51., 52., 53., 54., 55., 51., 52., 53., 54.,\n",
       "          55.]]))"
      ]
     },
     "execution_count": 4,
     "metadata": {},
     "output_type": "execute_result"
    }
   ],
   "source": [
    "x = torch.Tensor([[1,2,3,4,5],[11,12,13,14,15],[21,22,23,24,25],[31,32,33,34,35],[41,42,43,44,45],[51,52,53,54,55]])\n",
    "y = concat_feat(x, 3).view(6, 3, 5)\n",
    "x, y, y.view(6, -1)"
   ]
  },
  {
   "cell_type": "markdown",
   "id": "3276b6d6",
   "metadata": {
    "id": "us5XW_x6udZQ",
    "papermill": {
     "duration": 0.011766,
     "end_time": "2023-03-29T12:33:03.982580",
     "exception": false,
     "start_time": "2023-03-29T12:33:03.970814",
     "status": "completed"
    },
    "tags": []
   },
   "source": [
    "## Define Dataset"
   ]
  },
  {
   "cell_type": "code",
   "execution_count": 5,
   "id": "0e6c9299",
   "metadata": {
    "execution": {
     "iopub.execute_input": "2023-03-29T12:33:04.008092Z",
     "iopub.status.busy": "2023-03-29T12:33:04.007731Z",
     "iopub.status.idle": "2023-03-29T12:33:04.016004Z",
     "shell.execute_reply": "2023-03-29T12:33:04.014961Z"
    },
    "id": "Fjf5EcmJtf4e",
    "papermill": {
     "duration": 0.023927,
     "end_time": "2023-03-29T12:33:04.018443",
     "exception": false,
     "start_time": "2023-03-29T12:33:03.994516",
     "status": "completed"
    },
    "tags": []
   },
   "outputs": [],
   "source": [
    "import torch\n",
    "from torch.utils.data import Dataset\n",
    "from torch.utils.data import DataLoader\n",
    "\n",
    "class LibriDataset(Dataset):\n",
    "    def __init__(self, X, y=None, transforms=None):\n",
    "        self.data = X\n",
    "        self.tf = transforms\n",
    "        if y is not None:\n",
    "            self.label = torch.LongTensor(y)\n",
    "        else:\n",
    "            self.label = None\n",
    "\n",
    "    def __getitem__(self, idx):\n",
    "        data = self.data[idx]\n",
    "        if self.tf:                                                   #    (concat_nframes*features)\n",
    "            data = data.view(-1, 39).permute(1,0)                     # => (concat_nframes, features)    => (features, concat_nframes)\n",
    "            data = self.tf(data.unsqueeze(0)).squeeze(0)              # => (1, features, concat_nframes) => (features, concat_nframes)\n",
    "            data = data.permute(1,0).flatten()                         # => (concat_nframes, features)    => (concat_nframes*features)\n",
    "        \n",
    "        if self.label is not None:            \n",
    "            return data, self.label[idx]\n",
    "        else:\n",
    "            return data\n",
    "\n",
    "    def __len__(self):\n",
    "        return len(self.data)\n"
   ]
  },
  {
   "cell_type": "markdown",
   "id": "53b7e6d9",
   "metadata": {
    "id": "IRqKNvNZwe3V",
    "papermill": {
     "duration": 0.011547,
     "end_time": "2023-03-29T12:33:04.041966",
     "exception": false,
     "start_time": "2023-03-29T12:33:04.030419",
     "status": "completed"
    },
    "tags": []
   },
   "source": [
    "## Define Model"
   ]
  },
  {
   "cell_type": "code",
   "execution_count": 6,
   "id": "314e04db",
   "metadata": {
    "execution": {
     "iopub.execute_input": "2023-03-29T12:33:04.066556Z",
     "iopub.status.busy": "2023-03-29T12:33:04.066253Z",
     "iopub.status.idle": "2023-03-29T12:33:04.135192Z",
     "shell.execute_reply": "2023-03-29T12:33:04.134222Z"
    },
    "executionInfo": {
     "elapsed": 47,
     "status": "ok",
     "timestamp": 1647176829467,
     "user": {
      "displayName": "孫志傑 Sun Chih Chieh E24932223",
      "photoUrl": "https://lh3.googleusercontent.com/a/default-user=s64",
      "userId": "15814509083696715096"
     },
     "user_tz": -480
    },
    "id": "CfRUEgC0GxUV",
    "outputId": "6cadf0dc-d2de-488a-8037-f20f5e255de4",
    "papermill": {
     "duration": 0.084115,
     "end_time": "2023-03-29T12:33:04.137815",
     "exception": false,
     "start_time": "2023-03-29T12:33:04.053700",
     "status": "completed"
    },
    "tags": []
   },
   "outputs": [
    {
     "name": "stdout",
     "output_type": "stream",
     "text": [
      "DEVICE: cuda:0\n"
     ]
    }
   ],
   "source": [
    "device = 'cuda:0' if torch.cuda.is_available() else 'cpu'\n",
    "print(f'DEVICE: {device}')"
   ]
  },
  {
   "cell_type": "code",
   "execution_count": 7,
   "id": "b5cbc794",
   "metadata": {
    "execution": {
     "iopub.execute_input": "2023-03-29T12:33:04.164264Z",
     "iopub.status.busy": "2023-03-29T12:33:04.163510Z",
     "iopub.status.idle": "2023-03-29T12:33:04.168274Z",
     "shell.execute_reply": "2023-03-29T12:33:04.167649Z"
    },
    "papermill": {
     "duration": 0.019327,
     "end_time": "2023-03-29T12:33:04.170042",
     "exception": false,
     "start_time": "2023-03-29T12:33:04.150715",
     "status": "completed"
    },
    "tags": []
   },
   "outputs": [],
   "source": [
    "import torch\n",
    "import torch.nn as nn\n",
    "import torch.nn.functional as F"
   ]
  },
  {
   "cell_type": "code",
   "execution_count": 8,
   "id": "ec654c21",
   "metadata": {
    "execution": {
     "iopub.execute_input": "2023-03-29T12:33:04.196265Z",
     "iopub.status.busy": "2023-03-29T12:33:04.194592Z",
     "iopub.status.idle": "2023-03-29T12:33:04.212462Z",
     "shell.execute_reply": "2023-03-29T12:33:04.211299Z"
    },
    "id": "Bg-GRd7ywdrL",
    "papermill": {
     "duration": 0.032946,
     "end_time": "2023-03-29T12:33:04.214613",
     "exception": false,
     "start_time": "2023-03-29T12:33:04.181667",
     "status": "completed"
    },
    "tags": []
   },
   "outputs": [],
   "source": [
    "%%script false --no-raise-error\n",
    "\n",
    "class BasicBlock(nn.Module):\n",
    "    def __init__(self, input_dim, output_dim):\n",
    "        super(BasicBlock, self).__init__()\n",
    "\n",
    "        self.block = nn.Sequential(\n",
    "            nn.Linear(input_dim, output_dim),\n",
    "            nn.ReLU(),\n",
    "            nn.BatchNorm1d(output_dim),\n",
    "            nn.Dropout(0.25)\n",
    "        )\n",
    "\n",
    "    def forward(self, x):\n",
    "        x = self.block(x)\n",
    "        return x\n",
    "\n",
    "\n",
    "class Classifier(nn.Module):\n",
    "    def __init__(self, input_dim, output_dim=41, hidden_layers=1, hidden_dim=256):\n",
    "        super(Classifier, self).__init__()\n",
    "\n",
    "        self.fc = nn.Sequential(\n",
    "            BasicBlock(input_dim, hidden_dim),\n",
    "            *[BasicBlock(hidden_dim, hidden_dim) for _ in range(hidden_layers)],\n",
    "            nn.Linear(hidden_dim, output_dim)\n",
    "        )\n",
    "\n",
    "    def forward(self, x):\n",
    "        x = self.fc(x)\n",
    "        return x"
   ]
  },
  {
   "cell_type": "markdown",
   "id": "4c1d3933",
   "metadata": {
    "papermill": {
     "duration": 0.011541,
     "end_time": "2023-03-29T12:33:04.238160",
     "exception": false,
     "start_time": "2023-03-29T12:33:04.226619",
     "status": "completed"
    },
    "tags": []
   },
   "source": [
    "### CNN"
   ]
  },
  {
   "cell_type": "code",
   "execution_count": 9,
   "id": "caacec34",
   "metadata": {
    "execution": {
     "iopub.execute_input": "2023-03-29T12:33:04.264485Z",
     "iopub.status.busy": "2023-03-29T12:33:04.262853Z",
     "iopub.status.idle": "2023-03-29T12:33:04.281861Z",
     "shell.execute_reply": "2023-03-29T12:33:04.280726Z"
    },
    "papermill": {
     "duration": 0.034214,
     "end_time": "2023-03-29T12:33:04.284132",
     "exception": false,
     "start_time": "2023-03-29T12:33:04.249918",
     "status": "completed"
    },
    "tags": []
   },
   "outputs": [],
   "source": [
    "%%script false --no-raise-error\n",
    "\n",
    "class Classifier_CNN(nn.Module):\n",
    "    def __init__(self, concat_nframes, input_channel=39, output_dim=41):\n",
    "        super(Classifier_CNN, self).__init__()\n",
    "        \n",
    "        # (batch, 39, concat_nframes)\n",
    "        self.conv = nn.Sequential(\n",
    "            nn.Conv1d(input_channel, 64, 5, stride=1, padding=2),   # (batch, 64, concat_nframes)\n",
    "            nn.BatchNorm1d(64),\n",
    "            nn.ReLU(),\n",
    "            nn.Dropout(0.2), # !important for overfitting\n",
    "            \n",
    "            nn.Conv1d(64, 128, 5, stride=1, padding=2),             # (batch, 128, concat_nframes)\n",
    "            nn.BatchNorm1d(128),\n",
    "            nn.ReLU(),\n",
    "            nn.Dropout(0.2), # !important for overfitting\n",
    "            \n",
    "            nn.Conv1d(128, 256, 5, stride=1, padding=2),            # (batch, 256, concat_nframes)\n",
    "            nn.BatchNorm1d(256),\n",
    "            nn.ReLU(),\n",
    "            nn.Dropout(0.2), # !important for overfitting\n",
    "            \n",
    "            nn.Conv1d(256, 512, 5, stride=1, padding=2),            # (batch, 512, concat_nframes)\n",
    "            nn.BatchNorm1d(512),\n",
    "            nn.ReLU(),\n",
    "            nn.Dropout(0.2), # !important for overfitting\n",
    "            \n",
    "            nn.Conv1d(512, 1024, 5, stride=1, padding=2),           # (batch, 1024, concat_nframes)\n",
    "            nn.BatchNorm1d(1024),\n",
    "            nn.ReLU(),\n",
    "            nn.Dropout(0.2), # !important for overfitting\n",
    "            \n",
    "#             nn.Conv1d(1024, 2048, 5, stride=1, padding=2),          # (batch, 2048, concat_nframes)\n",
    "#             nn.BatchNorm1d(2048),\n",
    "#             nn.ReLU(),\n",
    "        )\n",
    "        \n",
    "    \n",
    "        self.fc = nn.Sequential(\n",
    "            nn.Linear(1024*concat_nframes, output_dim),\n",
    "        )\n",
    "\n",
    "    def forward(self, x):\n",
    "        out = x.view(x.shape[0], 39, -1)\n",
    "        out = self.conv(out)\n",
    "        out = out.view(out.shape[0], -1)\n",
    "        out = self.fc(out)\n",
    "        return out"
   ]
  },
  {
   "cell_type": "markdown",
   "id": "62cda2c4",
   "metadata": {
    "papermill": {
     "duration": 0.011743,
     "end_time": "2023-03-29T12:33:04.308360",
     "exception": false,
     "start_time": "2023-03-29T12:33:04.296617",
     "status": "completed"
    },
    "tags": []
   },
   "source": [
    "### Self-Attention"
   ]
  },
  {
   "cell_type": "code",
   "execution_count": 10,
   "id": "3b124927",
   "metadata": {
    "execution": {
     "iopub.execute_input": "2023-03-29T12:33:04.333411Z",
     "iopub.status.busy": "2023-03-29T12:33:04.333099Z",
     "iopub.status.idle": "2023-03-29T12:33:04.343522Z",
     "shell.execute_reply": "2023-03-29T12:33:04.342673Z"
    },
    "papermill": {
     "duration": 0.025548,
     "end_time": "2023-03-29T12:33:04.345584",
     "exception": false,
     "start_time": "2023-03-29T12:33:04.320036",
     "status": "completed"
    },
    "tags": []
   },
   "outputs": [],
   "source": [
    "import math\n",
    "\n",
    "class PositionalEncoding(nn.Module):\n",
    "    def __init__(self, dim_model, dropout_p, max_len):\n",
    "        super().__init__()\n",
    "        # Modified version from: https://pytorch.org/tutorials/beginner/transformer_tutorial.html\n",
    "        # max_len determines how far the position can have an effect on a token (window)\n",
    "        \n",
    "        # Info\n",
    "        self.dropout = nn.Dropout(dropout_p)\n",
    "        \n",
    "        # Encoding - From formula\n",
    "        pos_encoding = torch.zeros(max_len, dim_model)\n",
    "        positions_list = torch.arange(0, max_len, dtype=torch.float).view(-1, 1) # 0, 1, 2, 3, 4, 5\n",
    "        division_term = torch.exp((-math.log(10000.0)) * torch.arange(0, dim_model, 2).float() / dim_model) # 1/10000^(2i/dim_model)\n",
    "        \n",
    "        # PE(pos, 2i) = sin(pos/10000^(2i/dim_model))\n",
    "        pos_encoding[:, 0::2] = torch.sin(positions_list * division_term)\n",
    "        \n",
    "        # PE(pos, 2i + 1) = cos(pos/10000^(2i/dim_model))\n",
    "        if dim_model%2 != 0:\n",
    "            pos_encoding[:, 1::2] = torch.cos(positions_list * division_term)[:,0:-1]\n",
    "        else:\n",
    "            pos_encoding[:, 1::2] = torch.cos(positions_list * division_term)\n",
    "        \n",
    "        # Saving buffer (same as parameter without gradients needed)\n",
    "        pos_encoding = pos_encoding.unsqueeze(0).transpose(0, 1)\n",
    "        self.register_buffer(\"pos_encoding\",pos_encoding)\n",
    "        \n",
    "    def forward(self, token_embedding: torch.tensor) -> torch.tensor:\n",
    "        \"\"\"\n",
    "        Args:\n",
    "            token_embedding: Tensor, shape [seq_len, batch_size, embedding_dim]\n",
    "        \"\"\"\n",
    "        # Residual connection + pos encoding\n",
    "        return self.dropout(token_embedding + self.pos_encoding[:token_embedding.size(0), :])"
   ]
  },
  {
   "cell_type": "code",
   "execution_count": 11,
   "id": "75f0a8c5",
   "metadata": {
    "execution": {
     "iopub.execute_input": "2023-03-29T12:33:04.371506Z",
     "iopub.status.busy": "2023-03-29T12:33:04.370810Z",
     "iopub.status.idle": "2023-03-29T12:33:04.381012Z",
     "shell.execute_reply": "2023-03-29T12:33:04.380153Z"
    },
    "papermill": {
     "duration": 0.025506,
     "end_time": "2023-03-29T12:33:04.382919",
     "exception": false,
     "start_time": "2023-03-29T12:33:04.357413",
     "status": "completed"
    },
    "tags": []
   },
   "outputs": [],
   "source": [
    "class Classifier_Attn(nn.Module):\n",
    "    def __init__(self, concat_nframes, dim_feedforward, num_layers, dropout, d_model=80, nhead=1, output_dim=41):\n",
    "        super(Classifier_Attn, self).__init__()\n",
    "        \n",
    "        self.concat_nframes = concat_nframes\n",
    "        \n",
    "        # Project the dimension of features from that of input into d_model.\n",
    "        self.prenet = nn.Linear(39, d_model)\n",
    "        \n",
    "        self.positional_encoder = PositionalEncoding(\n",
    "            dim_model=d_model, dropout_p=dropout, max_len=5000\n",
    "        )\n",
    "        \n",
    "        # (batch, concat_nframes, 39)\n",
    "        self.attn_layer = nn.TransformerEncoderLayer(\n",
    "            d_model=d_model, dim_feedforward=dim_feedforward, nhead=nhead, dropout=dropout, batch_first=True,\n",
    "        )\n",
    "        self.attn = nn.TransformerEncoder(self.attn_layer, num_layers=num_layers)\n",
    "    \n",
    "        self.fc = nn.Sequential(\n",
    "#                 nn.Linear(concat_nframes*d_model, d_model),\n",
    "                nn.Linear(d_model, d_model),\n",
    "                nn.BatchNorm1d(d_model),\n",
    "                nn.ReLU(),\n",
    "                nn.Linear(d_model, output_dim),\n",
    "        )\n",
    "\n",
    "    def forward(self, x):\n",
    "        out = x.view(x.shape[0], -1, 39)   # (batch, concat_nframes, 39)\n",
    "        out = self.prenet(out)             # (batch, concat_nframes, d_model)\n",
    "        out = out.permute(1,0,2)           # (concat_nframes, batch, d_model)\n",
    "        out = self.positional_encoder(out) # (concat_nframes, batch, d_model)\n",
    "        out = out.permute(1,0,2)           # (batch, concat_nframes, d_model)\n",
    "        out = self.attn(out)               # (batch, concat_nframes, d_model)\n",
    "#         out = out.view(out.shape[0], -1)   # (batch, concat_nframes * d_model)\n",
    "        out = out[:,self.concat_nframes//2] # (batch, d_model)\n",
    "        out = self.fc(out)\n",
    "        \n",
    "        return out\n",
    "#         self.fc = nn.Sequential(\n",
    "#             nn.Linear(concat_nframes*d_model, d_model),\n",
    "#             nn.LayerNorm(d_model),\n",
    "#             nn.ReLU(),\n",
    "#             nn.Linear(d_model, output_dim),\n",
    "#         )\n",
    "\n",
    "#     def forward(self, x):\n",
    "#         out = x.view(x.shape[0], -1, 39)   # (batch, concat_nframes, 39)\n",
    "#         out = self.prenet(out)             # (batch, concat_nframes, d_model)\n",
    "#         out = self.positional_encoder(out) # (batch, concat_nframes, d_model)\n",
    "#         attn = self.attn(out)              # (batch, concat_nframes, d_model)\n",
    "#         out = attn + out                   # (batch, concat_nframes, d_model)\n",
    "#         out = out.view(out.shape[0], -1)   # (batch, concat_nframes * d_model)\n",
    "#         out = self.fc(out)\n",
    "        \n",
    "#         return out"
   ]
  },
  {
   "cell_type": "markdown",
   "id": "93fec916",
   "metadata": {
    "papermill": {
     "duration": 0.011546,
     "end_time": "2023-03-29T12:33:04.406122",
     "exception": false,
     "start_time": "2023-03-29T12:33:04.394576",
     "status": "completed"
    },
    "tags": []
   },
   "source": [
    "### LSTM"
   ]
  },
  {
   "cell_type": "code",
   "execution_count": 12,
   "id": "1108f397",
   "metadata": {
    "execution": {
     "iopub.execute_input": "2023-03-29T12:33:04.431148Z",
     "iopub.status.busy": "2023-03-29T12:33:04.430856Z",
     "iopub.status.idle": "2023-03-29T12:33:04.448152Z",
     "shell.execute_reply": "2023-03-29T12:33:04.446997Z"
    },
    "papermill": {
     "duration": 0.032057,
     "end_time": "2023-03-29T12:33:04.450382",
     "exception": false,
     "start_time": "2023-03-29T12:33:04.418325",
     "status": "completed"
    },
    "tags": []
   },
   "outputs": [],
   "source": [
    "%%script false --no-raise-error\n",
    "\n",
    "class Classifier_LSTM(nn.Module):\n",
    "    def __init__(self, input_dim, mid_dim=256, num_layers=2, out_dim=41, dropout=0.3, bidirectional=True):\n",
    "        super(Classifier_LSTM, self).__init__()\n",
    "        \n",
    "        self.lstm = nn.LSTM(input_size=input_dim, hidden_size=mid_dim, num_layers=num_layers, bidirectional=bidirectional, batch_first=True)\n",
    "        if not bidirectional:\n",
    "            self.reg = nn.Sequential(\n",
    "                nn.Linear(mid_dim, mid_dim // 2),\n",
    "                nn.LayerNorm(mid_dim // 2),\n",
    "                nn.LeakyReLU(inplace=True, negative_slope=0.01),\n",
    "                nn.Dropout(dropout),\n",
    "                nn.Linear(mid_dim // 2, out_dim),\n",
    "            )  # regression\n",
    "        else:\n",
    "            print(\"use bidirectional lstm\")\n",
    "            self.reg = nn.Sequential(\n",
    "                nn.Linear(mid_dim * 2, mid_dim),\n",
    "                nn.LayerNorm(mid_dim),\n",
    "                nn.LeakyReLU(inplace=True, negative_slope=0.01),\n",
    "                nn.Dropout(dropout),\n",
    "                nn.Linear(mid_dim, out_dim),\n",
    "            )  # regression\n",
    "\n",
    "    def forward(self, x):\n",
    "                               # (batch, concat_nframes*39)\n",
    "        out, _ = self.lstm(x)  # (batch_size, mid_dim*2)\n",
    "        x = self.reg(out)      # (batch_size, out_dim)\n",
    "        \n",
    "        return x"
   ]
  },
  {
   "cell_type": "markdown",
   "id": "96cd9eda",
   "metadata": {
    "id": "TlIq8JeqvvHC",
    "papermill": {
     "duration": 0.011416,
     "end_time": "2023-03-29T12:33:04.473708",
     "exception": false,
     "start_time": "2023-03-29T12:33:04.462292",
     "status": "completed"
    },
    "tags": []
   },
   "source": [
    "## Hyper-parameters"
   ]
  },
  {
   "cell_type": "code",
   "execution_count": 13,
   "id": "b0b939fe",
   "metadata": {
    "execution": {
     "iopub.execute_input": "2023-03-29T12:33:04.498419Z",
     "iopub.status.busy": "2023-03-29T12:33:04.498103Z",
     "iopub.status.idle": "2023-03-29T12:33:04.656201Z",
     "shell.execute_reply": "2023-03-29T12:33:04.655098Z"
    },
    "id": "iIHn79Iav1ri",
    "papermill": {
     "duration": 0.173463,
     "end_time": "2023-03-29T12:33:04.658799",
     "exception": false,
     "start_time": "2023-03-29T12:33:04.485336",
     "status": "completed"
    },
    "tags": []
   },
   "outputs": [],
   "source": [
    "seed = 3                        # random seed\n",
    "model_path = './model.ckpt'     # the path where the checkpoint will be saved\n",
    "\n",
    "# data prarameters\n",
    "concat_nframes = 51               # the number of frames to concat with, n must be odd (total 2k+1 = n frames)\n",
    "train_ratio = 0.99                # the ratio of data used for training, the rest will be used for validation\n",
    "\n",
    "# training parameters\n",
    "batch_size = 64\n",
    "num_epoch = 20                  # increase the number of epochs\n",
    "learning_rate = 0.0001          # learning rate\n",
    "weight_decay = 2e-5             # adam weight decay\n",
    "\n",
    "# model parameters\n",
    "input_dim = 39 * concat_nframes # the input dim of the model, you should not change the value\n",
    "hidden_layers = 6               # the number of hidden layers\n",
    "hidden_dim = 2048                # the hidden dim 2000\n",
    "dropout = 0.1\n",
    "\n",
    "# Self-Attention\n",
    "d_model = 512\n",
    "nhead = 8\n",
    "\n",
    "# LSTM\n",
    "bidirectional = True\n",
    "\n",
    "# Transforms\n",
    "import torchaudio\n",
    "\n",
    "transforms = torch.nn.Sequential(\n",
    "#     torchaudio.transforms.FrequencyMasking(freq_mask_param=39//3),\n",
    "    torchaudio.transforms.TimeMasking(time_mask_param=concat_nframes//3),\n",
    ")"
   ]
  },
  {
   "cell_type": "code",
   "execution_count": 14,
   "id": "daa6205a",
   "metadata": {
    "execution": {
     "iopub.execute_input": "2023-03-29T12:33:04.685509Z",
     "iopub.status.busy": "2023-03-29T12:33:04.683934Z",
     "iopub.status.idle": "2023-03-29T12:33:04.689744Z",
     "shell.execute_reply": "2023-03-29T12:33:04.688880Z"
    },
    "papermill": {
     "duration": 0.020753,
     "end_time": "2023-03-29T12:33:04.691721",
     "exception": false,
     "start_time": "2023-03-29T12:33:04.670968",
     "status": "completed"
    },
    "tags": []
   },
   "outputs": [],
   "source": [
    "def get_model():\n",
    "    # model = Classifier(input_dim=input_dim, hidden_layers=hidden_layers, hidden_dim=hidden_dim)\n",
    "    # model = Classifier_CNN(concat_nframes)\n",
    "    model = Classifier_Attn(concat_nframes, \n",
    "                            dim_feedforward=hidden_dim, \n",
    "                            num_layers=hidden_layers, \n",
    "                            dropout=dropout, \n",
    "                            d_model=d_model, \n",
    "                            nhead=nhead)\n",
    "\n",
    "    return model.to(device)"
   ]
  },
  {
   "cell_type": "code",
   "execution_count": 15,
   "id": "7fd05293",
   "metadata": {
    "execution": {
     "iopub.execute_input": "2023-03-29T12:33:04.717406Z",
     "iopub.status.busy": "2023-03-29T12:33:04.715978Z",
     "iopub.status.idle": "2023-03-29T12:33:04.733272Z",
     "shell.execute_reply": "2023-03-29T12:33:04.732103Z"
    },
    "papermill": {
     "duration": 0.032125,
     "end_time": "2023-03-29T12:33:04.735386",
     "exception": false,
     "start_time": "2023-03-29T12:33:04.703261",
     "status": "completed"
    },
    "tags": []
   },
   "outputs": [],
   "source": [
    "%%script false --no-raise-error\n",
    "\n",
    "model = get_model()\n",
    "\n",
    "# test model\n",
    "# features = next(iter(train_loader))[0].to(device)\n",
    "# model(features)\n",
    "\n",
    "print(\"trainable parameters len\", sum(p.numel() for p in model.parameters() if p.requires_grad))"
   ]
  },
  {
   "cell_type": "markdown",
   "id": "2b791f2e",
   "metadata": {
    "id": "IIUFRgG5yoDn",
    "papermill": {
     "duration": 0.011583,
     "end_time": "2023-03-29T12:33:04.758686",
     "exception": false,
     "start_time": "2023-03-29T12:33:04.747103",
     "status": "completed"
    },
    "tags": []
   },
   "source": [
    "## Prepare dataset and model"
   ]
  },
  {
   "cell_type": "code",
   "execution_count": 16,
   "id": "6efb77fe",
   "metadata": {
    "execution": {
     "iopub.execute_input": "2023-03-29T12:33:04.783817Z",
     "iopub.status.busy": "2023-03-29T12:33:04.783031Z",
     "iopub.status.idle": "2023-03-29T12:33:04.788085Z",
     "shell.execute_reply": "2023-03-29T12:33:04.787194Z"
    },
    "papermill": {
     "duration": 0.019828,
     "end_time": "2023-03-29T12:33:04.790055",
     "exception": false,
     "start_time": "2023-03-29T12:33:04.770227",
     "status": "completed"
    },
    "tags": []
   },
   "outputs": [],
   "source": [
    "# # colab\n",
    "# phone_path = './libriphone'\n",
    "\n",
    "# kaggle\n",
    "phone_path = '../input/ml2022spring-hw2/libriphone/libriphone'"
   ]
  },
  {
   "cell_type": "code",
   "execution_count": 17,
   "id": "485feae9",
   "metadata": {
    "execution": {
     "iopub.execute_input": "2023-03-29T12:33:04.816669Z",
     "iopub.status.busy": "2023-03-29T12:33:04.816055Z",
     "iopub.status.idle": "2023-03-29T12:33:36.866989Z",
     "shell.execute_reply": "2023-03-29T12:33:36.865892Z"
    },
    "executionInfo": {
     "elapsed": 11688,
     "status": "ok",
     "timestamp": 1647176829465,
     "user": {
      "displayName": "孫志傑 Sun Chih Chieh E24932223",
      "photoUrl": "https://lh3.googleusercontent.com/a/default-user=s64",
      "userId": "15814509083696715096"
     },
     "user_tz": -480
    },
    "id": "c1zI3v5jyrDn",
    "outputId": "7531be07-d9a5-47a9-b639-8adb9ab04893",
    "papermill": {
     "duration": 32.067545,
     "end_time": "2023-03-29T12:33:36.869074",
     "exception": false,
     "start_time": "2023-03-29T12:33:04.801529",
     "status": "completed"
    },
    "tags": []
   },
   "outputs": [
    {
     "name": "stdout",
     "output_type": "stream",
     "text": [
      "[Dataset] - # phone classes: 41, number of utterances for train: 2164\n"
     ]
    },
    {
     "name": "stderr",
     "output_type": "stream",
     "text": [
      "2164it [00:29, 72.78it/s]\n"
     ]
    },
    {
     "name": "stdout",
     "output_type": "stream",
     "text": [
      "[INFO] train set\n",
      "torch.Size([1334026, 1989])\n",
      "torch.Size([1334026])\n",
      "[Dataset] - # phone classes: 41, number of utterances for val: 43\n"
     ]
    },
    {
     "name": "stderr",
     "output_type": "stream",
     "text": [
      "43it [00:00, 72.09it/s]\n"
     ]
    },
    {
     "name": "stdout",
     "output_type": "stream",
     "text": [
      "[INFO] val set\n",
      "torch.Size([27552, 1989])\n",
      "torch.Size([27552])\n"
     ]
    },
    {
     "data": {
      "text/plain": [
       "457"
      ]
     },
     "execution_count": 17,
     "metadata": {},
     "output_type": "execute_result"
    }
   ],
   "source": [
    "# %%script false --no-raise-error\n",
    "\n",
    "import gc\n",
    "\n",
    "# preprocess data\n",
    "train_X, train_y = preprocess_data(split='train', \n",
    "                                   feat_dir=os.path.join(phone_path, \"feat\"), \n",
    "                                   phone_path=phone_path, \n",
    "                                   concat_nframes=concat_nframes, \n",
    "                                   train_ratio=train_ratio,\n",
    "                                   train_val_seed=seed,\n",
    "                                   keep_ratio=0.51)\n",
    "val_X, val_y = preprocess_data(split='val', \n",
    "                               feat_dir=os.path.join(phone_path, \"feat\"), \n",
    "                               phone_path=phone_path, \n",
    "                               concat_nframes=concat_nframes, \n",
    "                               train_ratio=train_ratio,\n",
    "                               train_val_seed=seed)\n",
    "\n",
    "# get dataset\n",
    "train_set = LibriDataset(train_X, train_y, transforms=transforms)\n",
    "val_set = LibriDataset(val_X, val_y)\n",
    "\n",
    "# get dataloader\n",
    "train_loader = DataLoader(train_set, batch_size=batch_size, shuffle=True)\n",
    "val_loader = DataLoader(val_set, batch_size=batch_size, shuffle=False)\n",
    "\n",
    "# remove raw feature to save memory\n",
    "del train_X, train_y, val_X, val_y\n",
    "gc.collect()"
   ]
  },
  {
   "cell_type": "code",
   "execution_count": 18,
   "id": "9df00aa9",
   "metadata": {
    "execution": {
     "iopub.execute_input": "2023-03-29T12:33:36.922609Z",
     "iopub.status.busy": "2023-03-29T12:33:36.921117Z",
     "iopub.status.idle": "2023-03-29T12:33:37.148491Z",
     "shell.execute_reply": "2023-03-29T12:33:37.147195Z"
    },
    "papermill": {
     "duration": 0.256805,
     "end_time": "2023-03-29T12:33:37.151515",
     "exception": false,
     "start_time": "2023-03-29T12:33:36.894710",
     "status": "completed"
    },
    "tags": []
   },
   "outputs": [],
   "source": [
    "%%script false --no-raise-error\n",
    "\n",
    "model.eval()\n",
    "features = next(iter(train_loader))[0].to(device)\n",
    "# assert batch size does not matter\n",
    "assert (torch.argmax(model(features)[:batch_size//2], dim=1) == torch.argmax(model(features[:batch_size//2]), dim=1)).all()"
   ]
  },
  {
   "cell_type": "code",
   "execution_count": 19,
   "id": "9861178e",
   "metadata": {
    "execution": {
     "iopub.execute_input": "2023-03-29T12:33:37.206722Z",
     "iopub.status.busy": "2023-03-29T12:33:37.205098Z",
     "iopub.status.idle": "2023-03-29T12:33:37.416026Z",
     "shell.execute_reply": "2023-03-29T12:33:37.414718Z"
    },
    "papermill": {
     "duration": 0.240917,
     "end_time": "2023-03-29T12:33:37.418616",
     "exception": false,
     "start_time": "2023-03-29T12:33:37.177699",
     "status": "completed"
    },
    "tags": []
   },
   "outputs": [],
   "source": [
    "%%script false --no-raise-error\n",
    "\n",
    "import matplotlib.pyplot as plt\n",
    "import numpy as np\n",
    "from matplotlib import cm\n",
    "\n",
    "fig, axs = plt.subplots(nrows=1, ncols=5, figsize=(20, 10))\n",
    "for ax in axs:\n",
    "    idx = random.randint(0, len(train_set))\n",
    "    mfcc_data = train_set[idx][0].view(concat_nframes, 39).permute(1,0)\n",
    "    ax.imshow(mfcc_data, interpolation='nearest', cmap=cm.coolwarm, origin='lower')\n",
    "    ax.set_title(f'{train_set[idx][1]}')\n",
    "\n",
    "plt.show()"
   ]
  },
  {
   "cell_type": "code",
   "execution_count": 20,
   "id": "5784c9f7",
   "metadata": {
    "execution": {
     "iopub.execute_input": "2023-03-29T12:33:37.471688Z",
     "iopub.status.busy": "2023-03-29T12:33:37.471318Z",
     "iopub.status.idle": "2023-03-29T12:33:37.480767Z",
     "shell.execute_reply": "2023-03-29T12:33:37.479890Z"
    },
    "id": "88xPiUnm0tAd",
    "papermill": {
     "duration": 0.038338,
     "end_time": "2023-03-29T12:33:37.482815",
     "exception": false,
     "start_time": "2023-03-29T12:33:37.444477",
     "status": "completed"
    },
    "tags": []
   },
   "outputs": [],
   "source": [
    "import numpy as np\n",
    "\n",
    "#fix seed\n",
    "def same_seeds(seed):\n",
    "    torch.manual_seed(seed)\n",
    "    if torch.cuda.is_available():\n",
    "        torch.cuda.manual_seed(seed)\n",
    "        torch.cuda.manual_seed_all(seed)  \n",
    "    np.random.seed(seed)  \n",
    "    torch.backends.cudnn.benchmark = False\n",
    "    torch.backends.cudnn.deterministic = True\n",
    "\n",
    "# fix random seed\n",
    "same_seeds(seed)"
   ]
  },
  {
   "cell_type": "markdown",
   "id": "7342e325",
   "metadata": {
    "papermill": {
     "duration": 0.025292,
     "end_time": "2023-03-29T12:33:37.533396",
     "exception": false,
     "start_time": "2023-03-29T12:33:37.508104",
     "status": "completed"
    },
    "tags": []
   },
   "source": [
    "### Warmup"
   ]
  },
  {
   "cell_type": "code",
   "execution_count": 21,
   "id": "349eba9e",
   "metadata": {
    "execution": {
     "iopub.execute_input": "2023-03-29T12:33:37.585789Z",
     "iopub.status.busy": "2023-03-29T12:33:37.585407Z",
     "iopub.status.idle": "2023-03-29T12:33:37.593301Z",
     "shell.execute_reply": "2023-03-29T12:33:37.592274Z"
    },
    "papermill": {
     "duration": 0.036686,
     "end_time": "2023-03-29T12:33:37.595400",
     "exception": false,
     "start_time": "2023-03-29T12:33:37.558714",
     "status": "completed"
    },
    "tags": []
   },
   "outputs": [],
   "source": [
    "import math\n",
    "\n",
    "def get_cosine_schedule_with_warmup(\n",
    "    optimizer,\n",
    "    num_warmup_steps: int,\n",
    "    num_training_steps: int,\n",
    "    num_cycles: float = 0.5,\n",
    "    last_epoch: int = -1,\n",
    "):\n",
    "    \"\"\"\n",
    "    Create a schedule with a learning rate that decreases following the values of the cosine function between the\n",
    "    initial lr set in the optimizer to 0, after a warmup period during which it increases linearly between 0 and the\n",
    "    initial lr set in the optimizer.\n",
    "\n",
    "    Args:\n",
    "        optimizer (:class:`~torch.optim.Optimizer`):\n",
    "        The optimizer for which to schedule the learning rate.\n",
    "        num_warmup_steps (:obj:`int`):\n",
    "        The number of steps for the warmup phase.\n",
    "        num_training_steps (:obj:`int`):\n",
    "        The total number of training steps.\n",
    "        num_cycles (:obj:`float`, `optional`, defaults to 0.5):\n",
    "        The number of waves in the cosine schedule (the defaults is to just decrease from the max value to 0\n",
    "        following a half-cosine).\n",
    "        last_epoch (:obj:`int`, `optional`, defaults to -1):\n",
    "        The index of the last epoch when resuming training.\n",
    "\n",
    "    Return:\n",
    "        :obj:`torch.optim.lr_scheduler.LambdaLR` with the appropriate schedule.\n",
    "    \"\"\"\n",
    "    def lr_lambda(current_step, lowerbound=0.003):\n",
    "        # Warmup\n",
    "        if current_step < num_warmup_steps:\n",
    "            return max(lowerbound, float(current_step) / float(max(1, num_warmup_steps)))\n",
    "        # decadence\n",
    "        progress = float(current_step - num_warmup_steps) / float(\n",
    "            max(1, num_training_steps - num_warmup_steps)\n",
    "        )\n",
    "        return max(\n",
    "            lowerbound, 0.5 * (1.0 + math.cos(math.pi * float(num_cycles) * 2.0 * progress))\n",
    "        )\n",
    "    \n",
    "\n",
    "    return torch.optim.lr_scheduler.LambdaLR(optimizer, lr_lambda, last_epoch)"
   ]
  },
  {
   "cell_type": "code",
   "execution_count": 22,
   "id": "70933c35",
   "metadata": {
    "execution": {
     "iopub.execute_input": "2023-03-29T12:33:37.648605Z",
     "iopub.status.busy": "2023-03-29T12:33:37.647087Z",
     "iopub.status.idle": "2023-03-29T12:33:37.857144Z",
     "shell.execute_reply": "2023-03-29T12:33:37.855824Z"
    },
    "papermill": {
     "duration": 0.238711,
     "end_time": "2023-03-29T12:33:37.859764",
     "exception": false,
     "start_time": "2023-03-29T12:33:37.621053",
     "status": "completed"
    },
    "tags": []
   },
   "outputs": [],
   "source": [
    "%%script false --no-raise-error\n",
    "\n",
    "import matplotlib.pyplot as plt\n",
    "\n",
    "def show_plot(total, lr):\n",
    "    optimizer = torch.optim.SGD(torch.nn.Linear(2, 1).parameters(), lr=lr)\n",
    "    scheduler = get_cosine_schedule_with_warmup(optimizer, total//10, total)\n",
    "\n",
    "    lrs = []\n",
    "\n",
    "    for i in range(total):\n",
    "        optimizer.step()\n",
    "        lrs.append(optimizer.param_groups[0][\"lr\"])\n",
    "        scheduler.step()\n",
    "\n",
    "    plt.plot(range(total), lrs)\n",
    "    \n",
    "    print(lrs[:5])\n",
    "    print(lrs[-5:])\n",
    "\n",
    "total_steps = len(train_loader) * num_epoch\n",
    "show_plot(total_steps, learning_rate)"
   ]
  },
  {
   "cell_type": "markdown",
   "id": "1a67c0a0",
   "metadata": {
    "id": "pwWH1KIqzxEr",
    "papermill": {
     "duration": 0.025244,
     "end_time": "2023-03-29T12:33:37.910587",
     "exception": false,
     "start_time": "2023-03-29T12:33:37.885343",
     "status": "completed"
    },
    "tags": []
   },
   "source": [
    "## Training"
   ]
  },
  {
   "cell_type": "code",
   "execution_count": 23,
   "id": "8e780807",
   "metadata": {
    "execution": {
     "iopub.execute_input": "2023-03-29T12:33:37.963385Z",
     "iopub.status.busy": "2023-03-29T12:33:37.963015Z",
     "iopub.status.idle": "2023-03-29T12:33:41.967049Z",
     "shell.execute_reply": "2023-03-29T12:33:41.966024Z"
    },
    "executionInfo": {
     "elapsed": 8,
     "status": "ok",
     "timestamp": 1647182683413,
     "user": {
      "displayName": "孫志傑 Sun Chih Chieh E24932223",
      "photoUrl": "https://lh3.googleusercontent.com/a/default-user=s64",
      "userId": "15814509083696715096"
     },
     "user_tz": -480
    },
    "id": "QTp3ZXg1yO9Y",
    "outputId": "052c91bb-0ca3-4ec4-a854-dbb509ead559",
    "papermill": {
     "duration": 4.033825,
     "end_time": "2023-03-29T12:33:41.969638",
     "exception": false,
     "start_time": "2023-03-29T12:33:37.935813",
     "status": "completed"
    },
    "tags": []
   },
   "outputs": [
    {
     "name": "stdout",
     "output_type": "stream",
     "text": [
      "trainable parameters len 22371881\n"
     ]
    }
   ],
   "source": [
    "# %%script false --no-raise-error\n",
    "\n",
    "# fix random seed\n",
    "same_seeds(seed)\n",
    "\n",
    "# create model, define a loss function, and optimizer\n",
    "model = get_model()\n",
    "model.load_state_dict(torch.load(\"/kaggle/input/hw02tmp/model.ckpt\", map_location=device))\n",
    "\n",
    "criterion = nn.CrossEntropyLoss() \n",
    "optimizer = torch.optim.Adam(model.parameters(), lr=learning_rate, weight_decay=weight_decay)\n",
    "# optimizer = torch.optim.AdamW(model.parameters(), lr=learning_rate)\n",
    "\n",
    "total_steps = len(train_loader) * num_epoch\n",
    "scheduler = get_cosine_schedule_with_warmup(optimizer, total_steps//10, total_steps)\n",
    "\n",
    "print(\"trainable parameters len\", sum(p.numel() for p in model.parameters() if p.requires_grad))"
   ]
  },
  {
   "cell_type": "code",
   "execution_count": 24,
   "id": "3a708480",
   "metadata": {
    "execution": {
     "iopub.execute_input": "2023-03-29T12:33:42.022573Z",
     "iopub.status.busy": "2023-03-29T12:33:42.022259Z",
     "iopub.status.idle": "2023-03-29T22:25:40.857096Z",
     "shell.execute_reply": "2023-03-29T22:25:40.855073Z"
    },
    "executionInfo": {
     "elapsed": 2102128,
     "status": "error",
     "timestamp": 1647184788484,
     "user": {
      "displayName": "孫志傑 Sun Chih Chieh E24932223",
      "photoUrl": "https://lh3.googleusercontent.com/a/default-user=s64",
      "userId": "15814509083696715096"
     },
     "user_tz": -480
    },
    "id": "CdMWsBs7zzNs",
    "outputId": "4e7985c3-8d1d-439a-f58b-6c0fe032060c",
    "papermill": {
     "duration": 35518.863562,
     "end_time": "2023-03-29T22:25:40.859401",
     "exception": false,
     "start_time": "2023-03-29T12:33:41.995839",
     "status": "completed"
    },
    "tags": []
   },
   "outputs": [
    {
     "name": "stderr",
     "output_type": "stream",
     "text": [
      "100%|██████████| 20845/20845 [29:13<00:00, 11.89it/s]\n",
      "100%|██████████| 431/431 [00:09<00:00, 44.15it/s]\n"
     ]
    },
    {
     "name": "stdout",
     "output_type": "stream",
     "text": [
      "[001/020] Train Acc: 0.8077 Loss: 0.6407 | Val Acc: 0.8292 loss: 0.5882 lr: 0.000050\n",
      "saving model with acc 0.829\n"
     ]
    },
    {
     "name": "stderr",
     "output_type": "stream",
     "text": [
      "100%|██████████| 20845/20845 [29:11<00:00, 11.90it/s]\n",
      "100%|██████████| 431/431 [00:09<00:00, 43.97it/s]\n"
     ]
    },
    {
     "name": "stdout",
     "output_type": "stream",
     "text": [
      "[002/020] Train Acc: 0.8311 Loss: 0.5123 | Val Acc: 0.8204 loss: 0.6931 lr: 0.000100\n"
     ]
    },
    {
     "name": "stderr",
     "output_type": "stream",
     "text": [
      "100%|██████████| 20845/20845 [29:30<00:00, 11.78it/s]\n",
      "100%|██████████| 431/431 [00:10<00:00, 42.63it/s]\n"
     ]
    },
    {
     "name": "stdout",
     "output_type": "stream",
     "text": [
      "[003/020] Train Acc: 0.8360 Loss: 0.4938 | Val Acc: 0.8108 loss: 0.7125 lr: 0.000099\n"
     ]
    },
    {
     "name": "stderr",
     "output_type": "stream",
     "text": [
      "100%|██████████| 20845/20845 [29:34<00:00, 11.74it/s]\n",
      "100%|██████████| 431/431 [00:09<00:00, 44.07it/s]\n"
     ]
    },
    {
     "name": "stdout",
     "output_type": "stream",
     "text": [
      "[004/020] Train Acc: 0.8506 Loss: 0.4469 | Val Acc: 0.8142 loss: 0.7621 lr: 0.000097\n"
     ]
    },
    {
     "name": "stderr",
     "output_type": "stream",
     "text": [
      "100%|██████████| 20845/20845 [29:17<00:00, 11.86it/s]\n",
      "100%|██████████| 431/431 [00:09<00:00, 43.91it/s]\n"
     ]
    },
    {
     "name": "stdout",
     "output_type": "stream",
     "text": [
      "[005/020] Train Acc: 0.8614 Loss: 0.4120 | Val Acc: 0.8186 loss: 0.7511 lr: 0.000093\n"
     ]
    },
    {
     "name": "stderr",
     "output_type": "stream",
     "text": [
      "100%|██████████| 20845/20845 [29:23<00:00, 11.82it/s]\n",
      "100%|██████████| 431/431 [00:09<00:00, 43.83it/s]\n"
     ]
    },
    {
     "name": "stdout",
     "output_type": "stream",
     "text": [
      "[006/020] Train Acc: 0.8706 Loss: 0.3808 | Val Acc: 0.8274 loss: 0.7356 lr: 0.000088\n"
     ]
    },
    {
     "name": "stderr",
     "output_type": "stream",
     "text": [
      "100%|██████████| 20845/20845 [29:28<00:00, 11.78it/s]\n",
      "100%|██████████| 431/431 [00:09<00:00, 44.07it/s]\n"
     ]
    },
    {
     "name": "stdout",
     "output_type": "stream",
     "text": [
      "[007/020] Train Acc: 0.8786 Loss: 0.3545 | Val Acc: 0.8189 loss: 0.7852 lr: 0.000082\n"
     ]
    },
    {
     "name": "stderr",
     "output_type": "stream",
     "text": [
      "100%|██████████| 20845/20845 [29:31<00:00, 11.77it/s]\n",
      "100%|██████████| 431/431 [00:09<00:00, 43.99it/s]\n"
     ]
    },
    {
     "name": "stdout",
     "output_type": "stream",
     "text": [
      "[008/020] Train Acc: 0.8869 Loss: 0.3281 | Val Acc: 0.8251 loss: 0.8063 lr: 0.000075\n"
     ]
    },
    {
     "name": "stderr",
     "output_type": "stream",
     "text": [
      "100%|██████████| 20845/20845 [29:23<00:00, 11.82it/s]\n",
      "100%|██████████| 431/431 [00:09<00:00, 44.15it/s]\n"
     ]
    },
    {
     "name": "stdout",
     "output_type": "stream",
     "text": [
      "[009/020] Train Acc: 0.8945 Loss: 0.3028 | Val Acc: 0.8144 loss: 0.8742 lr: 0.000067\n"
     ]
    },
    {
     "name": "stderr",
     "output_type": "stream",
     "text": [
      "100%|██████████| 20845/20845 [29:21<00:00, 11.83it/s]\n",
      "100%|██████████| 431/431 [00:09<00:00, 43.58it/s]\n"
     ]
    },
    {
     "name": "stdout",
     "output_type": "stream",
     "text": [
      "[010/020] Train Acc: 0.9023 Loss: 0.2786 | Val Acc: 0.8240 loss: 0.7989 lr: 0.000059\n"
     ]
    },
    {
     "name": "stderr",
     "output_type": "stream",
     "text": [
      "100%|██████████| 20845/20845 [29:24<00:00, 11.81it/s]\n",
      "100%|██████████| 431/431 [00:09<00:00, 44.22it/s]\n"
     ]
    },
    {
     "name": "stdout",
     "output_type": "stream",
     "text": [
      "[011/020] Train Acc: 0.9100 Loss: 0.2548 | Val Acc: 0.8261 loss: 0.8166 lr: 0.000050\n"
     ]
    },
    {
     "name": "stderr",
     "output_type": "stream",
     "text": [
      "100%|██████████| 20845/20845 [29:22<00:00, 11.83it/s]\n",
      "100%|██████████| 431/431 [00:09<00:00, 44.08it/s]\n"
     ]
    },
    {
     "name": "stdout",
     "output_type": "stream",
     "text": [
      "[012/020] Train Acc: 0.9171 Loss: 0.2319 | Val Acc: 0.8281 loss: 0.8221 lr: 0.000041\n"
     ]
    },
    {
     "name": "stderr",
     "output_type": "stream",
     "text": [
      "100%|██████████| 20845/20845 [29:30<00:00, 11.78it/s]\n",
      "100%|██████████| 431/431 [00:09<00:00, 43.65it/s]\n"
     ]
    },
    {
     "name": "stdout",
     "output_type": "stream",
     "text": [
      "[013/020] Train Acc: 0.9243 Loss: 0.2099 | Val Acc: 0.8275 loss: 0.8590 lr: 0.000033\n"
     ]
    },
    {
     "name": "stderr",
     "output_type": "stream",
     "text": [
      "100%|██████████| 20845/20845 [29:36<00:00, 11.73it/s]\n",
      "100%|██████████| 431/431 [00:09<00:00, 44.12it/s]\n"
     ]
    },
    {
     "name": "stdout",
     "output_type": "stream",
     "text": [
      "[014/020] Train Acc: 0.9313 Loss: 0.1898 | Val Acc: 0.8325 loss: 0.8632 lr: 0.000025\n",
      "saving model with acc 0.832\n"
     ]
    },
    {
     "name": "stderr",
     "output_type": "stream",
     "text": [
      "100%|██████████| 20845/20845 [29:32<00:00, 11.76it/s]\n",
      "100%|██████████| 431/431 [00:09<00:00, 43.90it/s]\n"
     ]
    },
    {
     "name": "stdout",
     "output_type": "stream",
     "text": [
      "[015/020] Train Acc: 0.9378 Loss: 0.1708 | Val Acc: 0.8293 loss: 0.8958 lr: 0.000018\n"
     ]
    },
    {
     "name": "stderr",
     "output_type": "stream",
     "text": [
      "100%|██████████| 20845/20845 [29:30<00:00, 11.77it/s]\n",
      "100%|██████████| 431/431 [00:09<00:00, 43.66it/s]\n"
     ]
    },
    {
     "name": "stdout",
     "output_type": "stream",
     "text": [
      "[016/020] Train Acc: 0.9434 Loss: 0.1549 | Val Acc: 0.8295 loss: 0.9140 lr: 0.000012\n"
     ]
    },
    {
     "name": "stderr",
     "output_type": "stream",
     "text": [
      "100%|██████████| 20845/20845 [29:31<00:00, 11.77it/s]\n",
      "100%|██████████| 431/431 [00:09<00:00, 44.04it/s]\n"
     ]
    },
    {
     "name": "stdout",
     "output_type": "stream",
     "text": [
      "[017/020] Train Acc: 0.9482 Loss: 0.1409 | Val Acc: 0.8329 loss: 0.9320 lr: 0.000007\n",
      "saving model with acc 0.833\n"
     ]
    },
    {
     "name": "stderr",
     "output_type": "stream",
     "text": [
      "100%|██████████| 20845/20845 [29:23<00:00, 11.82it/s]\n",
      "100%|██████████| 431/431 [00:09<00:00, 44.08it/s]\n"
     ]
    },
    {
     "name": "stdout",
     "output_type": "stream",
     "text": [
      "[018/020] Train Acc: 0.9520 Loss: 0.1309 | Val Acc: 0.8338 loss: 0.9184 lr: 0.000003\n",
      "saving model with acc 0.834\n"
     ]
    },
    {
     "name": "stderr",
     "output_type": "stream",
     "text": [
      "100%|██████████| 20845/20845 [29:25<00:00, 11.81it/s]\n",
      "100%|██████████| 431/431 [00:09<00:00, 43.18it/s]\n"
     ]
    },
    {
     "name": "stdout",
     "output_type": "stream",
     "text": [
      "[019/020] Train Acc: 0.9545 Loss: 0.1241 | Val Acc: 0.8332 loss: 0.9258 lr: 0.000001\n"
     ]
    },
    {
     "name": "stderr",
     "output_type": "stream",
     "text": [
      "100%|██████████| 20845/20845 [29:22<00:00, 11.83it/s]\n",
      "100%|██████████| 431/431 [00:09<00:00, 44.13it/s]"
     ]
    },
    {
     "name": "stdout",
     "output_type": "stream",
     "text": [
      "[020/020] Train Acc: 0.9558 Loss: 0.1211 | Val Acc: 0.8338 loss: 0.9453 lr: 0.000000\n"
     ]
    },
    {
     "name": "stderr",
     "output_type": "stream",
     "text": [
      "\n"
     ]
    }
   ],
   "source": [
    "# %%script false --no-raise-error\n",
    "\n",
    "# For plotting learning curve\n",
    "from torch.utils.tensorboard import SummaryWriter\n",
    "\n",
    "train_accs = []\n",
    "valid_accs = []\n",
    "train_losses = []\n",
    "valid_losses = []\n",
    "writer = SummaryWriter() # Writer of tensoboard.\n",
    "best_acc = 0.0\n",
    "for epoch in range(num_epoch):\n",
    "    train_acc = 0.0\n",
    "    train_loss = 0.0\n",
    "    val_acc = 0.0\n",
    "    val_loss = 0.0\n",
    "    \n",
    "    # training\n",
    "    model.train() # set the model to training mode\n",
    "    for i, batch in enumerate(tqdm(train_loader)):\n",
    "        features, labels = batch\n",
    "        features = features.to(device)\n",
    "        labels = labels.to(device)\n",
    "        \n",
    "        outputs = model(features)         \n",
    "        loss = criterion(outputs, labels)\n",
    "        \n",
    "        optimizer.zero_grad() \n",
    "        loss.backward() \n",
    "        grad_norm = nn.utils.clip_grad_norm_(model.parameters(), max_norm=10)\n",
    "        optimizer.step() \n",
    "        scheduler.step()\n",
    "        \n",
    "        _, train_pred = torch.max(outputs, 1) # get the index of the class with the highest probability\n",
    "        train_acc += (train_pred.detach() == labels.detach()).sum().item()\n",
    "        train_loss += loss.item()\n",
    "    \n",
    "    writer.add_scalar('Acc/train', train_acc/len(train_set), epoch + 1)\n",
    "    train_accs.append(train_acc/len(train_set))\n",
    "    train_losses.append(train_loss/len(train_loader))\n",
    "    \n",
    "    # validation\n",
    "    if len(val_set) > 0:\n",
    "        model.eval() # set the model to evaluation mode\n",
    "        with torch.no_grad():\n",
    "            for i, batch in enumerate(tqdm(val_loader)):\n",
    "                features, labels = batch\n",
    "                features = features.to(device)\n",
    "                labels = labels.to(device)\n",
    "                outputs = model(features)\n",
    "                \n",
    "                loss = criterion(outputs, labels) \n",
    "                \n",
    "                _, val_pred = torch.max(outputs, 1) \n",
    "                val_acc += (val_pred.cpu() == labels.cpu()).sum().item() # get the index of the class with the highest probability\n",
    "                val_loss += loss.item()\n",
    "\n",
    "            print('[{:03d}/{:03d}] Train Acc: {:3.4f} Loss: {:3.4f} | Val Acc: {:3.4f} loss: {:3.4f} lr: {:.6f}'.format(\n",
    "                epoch + 1, num_epoch, train_acc/len(train_set), train_loss/len(train_loader), val_acc/len(val_set), val_loss/len(val_loader), optimizer.param_groups[0][\"lr\"]\n",
    "            ))\n",
    "            \n",
    "            writer.add_scalar('Acc/valid', val_acc/len(val_set), epoch + 1)\n",
    "            valid_accs.append(val_acc/len(val_set))\n",
    "            valid_losses.append(val_loss/len(val_loader))\n",
    "\n",
    "            # if the model improves, save a checkpoint at this epoch\n",
    "            if val_acc > best_acc:\n",
    "                best_acc = val_acc\n",
    "                torch.save(model.state_dict(), model_path)\n",
    "                acc = best_acc/len(val_set)\n",
    "                print('saving model with acc {:.3f}'.format(acc))\n",
    "    else:\n",
    "        print('[{:03d}/{:03d}] Train Acc: {:3.4f} Loss: {:3.4f} lr: {:.6f}'.format(\n",
    "            epoch + 1, num_epoch, train_acc/len(train_set), train_loss/len(train_loader), optimizer.param_groups[0][\"lr\"]\n",
    "        ))\n",
    "\n",
    "# if not validating, save the last epoch\n",
    "if len(val_set) == 0:\n",
    "    torch.save(model.state_dict(), model_path)\n",
    "    print('saving model at last epoch')\n"
   ]
  },
  {
   "cell_type": "markdown",
   "id": "36c4074d",
   "metadata": {
    "papermill": {
     "duration": 12.341506,
     "end_time": "2023-03-29T22:26:04.697695",
     "exception": false,
     "start_time": "2023-03-29T22:25:52.356189",
     "status": "completed"
    },
    "tags": []
   },
   "source": [
    "### DML"
   ]
  },
  {
   "cell_type": "code",
   "execution_count": 25,
   "id": "7d16170b",
   "metadata": {
    "execution": {
     "iopub.execute_input": "2023-03-29T22:26:28.214259Z",
     "iopub.status.busy": "2023-03-29T22:26:28.213897Z",
     "iopub.status.idle": "2023-03-29T22:26:28.486583Z",
     "shell.execute_reply": "2023-03-29T22:26:28.485262Z"
    },
    "papermill": {
     "duration": 12.266972,
     "end_time": "2023-03-29T22:26:28.489136",
     "exception": false,
     "start_time": "2023-03-29T22:26:16.222164",
     "status": "completed"
    },
    "tags": []
   },
   "outputs": [],
   "source": [
    "%%script false --no-raise-error\n",
    "\n",
    "# fix random seed\n",
    "same_seeds(seed)\n",
    "\n",
    "# speed up cnn\n",
    "torch.backends.cudnn.benchmark = True\n",
    "\n",
    "# create model, define a loss function, and optimizer\n",
    "# model1 = Classifier(input_dim=input_dim, hidden_layers=hidden_layers, hidden_dim=hidden_dim).to(device)\n",
    "# model2 = Classifier(input_dim=input_dim, hidden_layers=hidden_layers, hidden_dim=hidden_dim).to(device)\n",
    "# model1 = Classifier_CNN(concat_nframes).to(device)\n",
    "# model2 = Classifier_CNN(concat_nframes).to(device)\n",
    "model1 = Classifier_Attn(concat_nframes, dim_feedforward=hidden_dim, num_layers=hidden_layers, dropout=dropout, d_model=d_model, nhead=nhead).to(device)\n",
    "model2 = Classifier_Attn(concat_nframes, dim_feedforward=hidden_dim, num_layers=hidden_layers, dropout=dropout, d_model=d_model, nhead=nhead).to(device)\n",
    "# model1 = Classifier_LSTM(input_dim, mid_dim=hidden_dim, num_layers=hidden_layers, dropout=dropout, bidirectional=bidirectional).to(device)\n",
    "# model2 = Classifier_LSTM(input_dim, mid_dim=hidden_dim, num_layers=hidden_layers, dropout=dropout, bidirectional=bidirectional).to(device)\n",
    "\n",
    "criterion = nn.CrossEntropyLoss() \n",
    "optimizer1 = torch.optim.Adam(model1.parameters(), lr=learning_rate, weight_decay=weight_decay)\n",
    "optimizer2 = torch.optim.Adam(model2.parameters(), lr=learning_rate, weight_decay=weight_decay)\n",
    "\n",
    "total_steps = len(train_loader) * num_epoch\n",
    "scheduler1 = get_cosine_schedule_with_warmup(optimizer1, total_steps//10, total_steps)\n",
    "scheduler2 = get_cosine_schedule_with_warmup(optimizer2, total_steps//10, total_steps)\n",
    "\n",
    "# print(\"trainable parameters len\", sum(p.numel() for p in model1.parameters() if p.requires_grad))"
   ]
  },
  {
   "cell_type": "code",
   "execution_count": 26,
   "id": "a8f403a7",
   "metadata": {
    "execution": {
     "iopub.execute_input": "2023-03-29T22:26:51.587832Z",
     "iopub.status.busy": "2023-03-29T22:26:51.587319Z",
     "iopub.status.idle": "2023-03-29T22:26:51.839054Z",
     "shell.execute_reply": "2023-03-29T22:26:51.837701Z"
    },
    "papermill": {
     "duration": 11.739083,
     "end_time": "2023-03-29T22:26:51.841845",
     "exception": false,
     "start_time": "2023-03-29T22:26:40.102762",
     "status": "completed"
    },
    "tags": []
   },
   "outputs": [],
   "source": [
    "%%script false --no-raise-error\n",
    "\n",
    "def loss_fn_dml(input, target):\n",
    "    return F.kl_div(F.log_softmax(input, dim=1),\n",
    "                        F.softmax(target, dim=1),\n",
    "                        log_target=False,\n",
    "                        reduction='batchmean')"
   ]
  },
  {
   "cell_type": "code",
   "execution_count": 27,
   "id": "746b74d4",
   "metadata": {
    "execution": {
     "iopub.execute_input": "2023-03-29T22:27:15.274666Z",
     "iopub.status.busy": "2023-03-29T22:27:15.274256Z",
     "iopub.status.idle": "2023-03-29T22:27:15.528934Z",
     "shell.execute_reply": "2023-03-29T22:27:15.527589Z"
    },
    "papermill": {
     "duration": 11.730242,
     "end_time": "2023-03-29T22:27:15.531420",
     "exception": false,
     "start_time": "2023-03-29T22:27:03.801178",
     "status": "completed"
    },
    "tags": []
   },
   "outputs": [],
   "source": [
    "%%script false --no-raise-error\n",
    "\n",
    "# For plotting learning curve\n",
    "from torch.utils.tensorboard import SummaryWriter\n",
    "\n",
    "train_accs = []\n",
    "valid_accs = []\n",
    "train_losses = []\n",
    "valid_losses = []\n",
    "writer = SummaryWriter() # Writer of tensoboard.\n",
    "best_acc = 0.0\n",
    "for epoch in range(num_epoch):\n",
    "    train_acc1, train_acc2 = 0.0, 0.0\n",
    "    train_loss1, train_loss2 = 0.0, 0.0\n",
    "    val_acc1, val_acc2 = 0.0, 0.0\n",
    "    val_loss1, val_loss2 = 0.0, 0.0\n",
    "    \n",
    "    # training\n",
    "    model1.train() # set the model to training mode\n",
    "    model2.train() # set the model to training mode\n",
    "    for i, batch in enumerate(tqdm(train_loader)):\n",
    "        features, labels = batch\n",
    "        features = features.to(device)\n",
    "        labels = labels.to(device)\n",
    "        \n",
    "        outputs1 = model1(features) \n",
    "        outputs2 = model2(features) \n",
    "        \n",
    "        loss1 = criterion(outputs1, labels) + loss_fn_dml(outputs1, outputs2.detach())\n",
    "        loss2 = criterion(outputs2, labels) + loss_fn_dml(outputs2, outputs1.detach())\n",
    "        \n",
    "        optimizer1.zero_grad() \n",
    "        loss1.backward() \n",
    "        grad_norm = nn.utils.clip_grad_norm_(model1.parameters(), max_norm=10)\n",
    "        optimizer1.step() \n",
    "        scheduler1.step()\n",
    "        \n",
    "        optimizer2.zero_grad() \n",
    "        loss2.backward() \n",
    "        grad_norm = nn.utils.clip_grad_norm_(model2.parameters(), max_norm=10)\n",
    "        optimizer2.step() \n",
    "        scheduler2.step()\n",
    "        \n",
    "        _, train_pred1 = torch.max(outputs1, 1) # get the index of the class with the highest probability\n",
    "        train_acc1 += (train_pred1.detach() == labels.detach()).sum().item()\n",
    "        train_loss1 += loss1.item()\n",
    "        \n",
    "        _, train_pred2 = torch.max(outputs2, 1) # get the index of the class with the highest probability\n",
    "        train_acc2 += (train_pred2.detach() == labels.detach()).sum().item()\n",
    "        train_loss2 += loss2.item()\n",
    "    \n",
    "    writer.add_scalar('Acc/train', (train_acc1+train_acc2)/2/len(train_set), epoch + 1)\n",
    "    train_accs.append((train_acc1+train_acc2)/2/len(train_set))\n",
    "    train_losses.append((train_loss1+train_loss2)/2/len(train_loader))\n",
    "    \n",
    "    # validation\n",
    "    if len(val_set) > 0:\n",
    "        model1.eval() # set the model to evaluation mode\n",
    "        model2.eval() # set the model to evaluation mode\n",
    "        with torch.no_grad():\n",
    "            for i, batch in enumerate(tqdm(val_loader)):\n",
    "                features, labels = batch\n",
    "                features = features.to(device)\n",
    "                labels = labels.to(device)\n",
    "                outputs1 = model1(features)\n",
    "                outputs2 = model2(features)\n",
    "                \n",
    "                loss1 = criterion(outputs1, labels) + loss_fn_dml(outputs1, outputs2.detach())\n",
    "                loss2 = criterion(outputs2, labels) + loss_fn_dml(outputs2, outputs1.detach())\n",
    "                \n",
    "                _, val_pred1 = torch.max(outputs1, 1) \n",
    "                val_acc1 += (val_pred1.cpu() == labels.cpu()).sum().item() # get the index of the class with the highest probability\n",
    "                val_loss1 += loss1.item()\n",
    "                \n",
    "                _, val_pred2 = torch.max(outputs2, 1) \n",
    "                val_acc2 += (val_pred2.cpu() == labels.cpu()).sum().item() # get the index of the class with the highest probability\n",
    "                val_loss2 += loss2.item()\n",
    "\n",
    "            print('[{:03d}/{:03d}] Train Acc: {:3.4f}|{:3.4f} Loss: {:3.4f}|Loss: {:3.4f} | Val Acc: {:3.4f}|{:3.4f} loss: {:3.4f}|{:3.4f} lr: {:.6f}|{:.6f}'.format(\n",
    "                epoch + 1, num_epoch, train_acc1/len(train_set), train_acc2/len(train_set), train_loss1/len(train_loader), train_loss2/len(train_loader),\n",
    "                                      val_acc1/len(val_set), val_acc2/len(val_set), val_loss1/len(val_loader), val_loss2/len(val_loader),\n",
    "                                      optimizer1.param_groups[0][\"lr\"],optimizer2.param_groups[0][\"lr\"],                                    \n",
    "            ))\n",
    "            \n",
    "            writer.add_scalar('Acc/valid', (val_acc1+val_acc2)/2/len(val_set), epoch + 1)\n",
    "            valid_accs.append((val_acc1+val_acc2)/2/len(val_set))\n",
    "            valid_losses.append((val_loss1+val_loss2)/2/len(val_loader))\n",
    "\n",
    "            # if the model improves, save a checkpoint at this epoch\n",
    "            if max(val_acc1, val_acc2) > best_acc:\n",
    "                if val_acc1 >= val_acc2:\n",
    "                    best_acc = val_acc1\n",
    "                    torch.save(model1.state_dict(), model_path)\n",
    "                    torch.save(model2.state_dict(), model_path.replace(\"model\", \"model_other\"))\n",
    "                    print('saving model with acc {:.3f}'.format(best_acc/len(val_set)))\n",
    "                else:\n",
    "                    best_acc = val_acc2\n",
    "                    torch.save(model2.state_dict(), model_path)\n",
    "                    torch.save(model1.state_dict(), model_path.replace(\"model\", \"model_other\"))\n",
    "                    print('saving model with acc {:.3f}'.format(best_acc/len(val_set)))\n",
    "    else:\n",
    "        print('[{:03d}/{:03d}] Train Acc: {:3.4f}|{:3.4f} Loss: {:3.4f}|{:3.4f} lr: {:.6f}|{:.6f}'.format(\n",
    "            epoch + 1, num_epoch, train_acc1/len(train_set), train_acc2/len(train_set), train_loss1/len(train_loader), train_loss2/len(train_loader), optimizer1.param_groups[0][\"lr\"],optimizer2.param_groups[0][\"lr\"]\n",
    "        ))\n",
    "        \n",
    "\n",
    "# if not validating, save the last epoch\n",
    "if len(val_set) == 0:\n",
    "    torch.save(model1.state_dict(), model_path)\n",
    "    print('saving model at last epoch')\n"
   ]
  },
  {
   "cell_type": "code",
   "execution_count": 28,
   "id": "9f5e7d7f",
   "metadata": {
    "execution": {
     "iopub.execute_input": "2023-03-29T22:27:39.393910Z",
     "iopub.status.busy": "2023-03-29T22:27:39.393335Z",
     "iopub.status.idle": "2023-03-29T22:27:40.165930Z",
     "shell.execute_reply": "2023-03-29T22:27:40.164837Z"
    },
    "executionInfo": {
     "elapsed": 23,
     "status": "ok",
     "timestamp": 1647103277899,
     "user": {
      "displayName": "sun sun",
      "photoUrl": "https://lh3.googleusercontent.com/a/default-user=s64",
      "userId": "02818472702210279884"
     },
     "user_tz": -480
    },
    "id": "ab33MxosWLmG",
    "outputId": "d60f00a3-0cb6-4b5f-8e1b-f51c8e129e08",
    "papermill": {
     "duration": 12.790327,
     "end_time": "2023-03-29T22:27:40.168027",
     "exception": false,
     "start_time": "2023-03-29T22:27:27.377700",
     "status": "completed"
    },
    "tags": []
   },
   "outputs": [
    {
     "data": {
      "text/plain": [
       "525"
      ]
     },
     "execution_count": 28,
     "metadata": {},
     "output_type": "execute_result"
    }
   ],
   "source": [
    "# %%script false --no-raise-error\n",
    "\n",
    "del train_loader, val_loader\n",
    "del train_set, val_set\n",
    "del model\n",
    "gc.collect()"
   ]
  },
  {
   "cell_type": "markdown",
   "id": "9ccdbf52",
   "metadata": {
    "papermill": {
     "duration": 12.310814,
     "end_time": "2023-03-29T22:28:03.722705",
     "exception": false,
     "start_time": "2023-03-29T22:27:51.411891",
     "status": "completed"
    },
    "tags": []
   },
   "source": [
    "## Plot"
   ]
  },
  {
   "cell_type": "code",
   "execution_count": 29,
   "id": "69d28960",
   "metadata": {
    "execution": {
     "iopub.execute_input": "2023-03-29T22:28:26.924495Z",
     "iopub.status.busy": "2023-03-29T22:28:26.924073Z",
     "iopub.status.idle": "2023-03-29T22:28:27.506073Z",
     "shell.execute_reply": "2023-03-29T22:28:27.505117Z"
    },
    "papermill": {
     "duration": 12.362872,
     "end_time": "2023-03-29T22:28:27.508189",
     "exception": false,
     "start_time": "2023-03-29T22:28:15.145317",
     "status": "completed"
    },
    "tags": []
   },
   "outputs": [
    {
     "data": {
      "image/png": "[encoded data removed]",
      "text/plain": [
       "<Figure size 1440x432 with 1 Axes>"
      ]
     },
     "metadata": {
      "needs_background": "light"
     },
     "output_type": "display_data"
    },
    {
     "data": {
      "image/png": "[encoded data removed]",
      "text/plain": [
       "<Figure size 1440x432 with 1 Axes>"
      ]
     },
     "metadata": {
      "needs_background": "light"
     },
     "output_type": "display_data"
    }
   ],
   "source": [
    "# %%script false --no-raise-error\n",
    "\n",
    "import matplotlib.pyplot as plt\n",
    "\n",
    "def plot_cmp(train, valid, ylabel, title):\n",
    "    total_steps = len(train)\n",
    "    x_1 = range(total_steps)\n",
    "    plt.figure(figsize=(20, 6))\n",
    "    plt.plot(x_1, train, c='tab:red', label='train')\n",
    "    if len(valid) != 0:\n",
    "        x_2 = x_1[::len(train) // len(valid)]\n",
    "        plt.plot(x_2, valid, c='tab:cyan', label='valid')\n",
    "#     plt.ylim(0.0, 5.)\n",
    "    plt.xlabel('Training steps')\n",
    "    plt.ylabel(ylabel)\n",
    "    plt.title(title)\n",
    "    plt.legend()\n",
    "    plt.show()\n",
    "\n",
    "plot_cmp(train_accs, valid_accs, ylabel='Accuracy', title='Learning curve of deep model')\n",
    "plot_cmp(train_losses, valid_losses, ylabel='Loss', title='Learning curve of deep model')"
   ]
  },
  {
   "cell_type": "code",
   "execution_count": 30,
   "id": "7e288b23",
   "metadata": {
    "execution": {
     "iopub.execute_input": "2023-03-29T22:28:51.175534Z",
     "iopub.status.busy": "2023-03-29T22:28:51.175167Z",
     "iopub.status.idle": "2023-03-29T22:28:51.235266Z",
     "shell.execute_reply": "2023-03-29T22:28:51.233936Z"
    },
    "id": "ZTr4mUbR-1v3",
    "papermill": {
     "duration": 11.710036,
     "end_time": "2023-03-29T22:28:51.237607",
     "exception": false,
     "start_time": "2023-03-29T22:28:39.527571",
     "status": "completed"
    },
    "tags": []
   },
   "outputs": [],
   "source": [
    "%%script false --no-raise-error\n",
    "\n",
    "%reload_ext tensorboard\n",
    "%tensorboard --logdir=./runs/"
   ]
  },
  {
   "cell_type": "markdown",
   "id": "bbb8f7f9",
   "metadata": {
    "id": "1Hi7jTn3PX-m",
    "papermill": {
     "duration": 11.610676,
     "end_time": "2023-03-29T22:29:14.589492",
     "exception": false,
     "start_time": "2023-03-29T22:29:02.978816",
     "status": "completed"
    },
    "tags": []
   },
   "source": [
    "## Testing\n",
    "Create a testing dataset, and load model from the saved checkpoint."
   ]
  },
  {
   "cell_type": "code",
   "execution_count": 31,
   "id": "5e4a28cd",
   "metadata": {
    "execution": {
     "iopub.execute_input": "2023-03-29T22:29:38.281292Z",
     "iopub.status.busy": "2023-03-29T22:29:38.280896Z",
     "iopub.status.idle": "2023-03-29T22:29:55.487550Z",
     "shell.execute_reply": "2023-03-29T22:29:55.486173Z"
    },
    "executionInfo": {
     "elapsed": 4603,
     "status": "ok",
     "timestamp": 1647144347393,
     "user": {
      "displayName": "孫志傑 Sun Chih Chieh E24932223",
      "photoUrl": "https://lh3.googleusercontent.com/a/default-user=s64",
      "userId": "15814509083696715096"
     },
     "user_tz": -480
    },
    "id": "VOG1Ou0PGrhc",
    "outputId": "bdd8823b-374e-4a5f-e258-d320d61b68b0",
    "papermill": {
     "duration": 29.22075,
     "end_time": "2023-03-29T22:29:55.489766",
     "exception": false,
     "start_time": "2023-03-29T22:29:26.269016",
     "status": "completed"
    },
    "tags": []
   },
   "outputs": [
    {
     "name": "stdout",
     "output_type": "stream",
     "text": [
      "[Dataset] - # phone classes: 41, number of utterances for test: 1078\n"
     ]
    },
    {
     "name": "stderr",
     "output_type": "stream",
     "text": [
      "1078it [00:17, 62.79it/s]"
     ]
    },
    {
     "name": "stdout",
     "output_type": "stream",
     "text": [
      "[INFO] test set\n",
      "torch.Size([646268, 1989])\n"
     ]
    },
    {
     "name": "stderr",
     "output_type": "stream",
     "text": [
      "\n"
     ]
    }
   ],
   "source": [
    "# load data\n",
    "test_X = preprocess_data(split='test', feat_dir=os.path.join(phone_path, \"feat\"), phone_path=phone_path, concat_nframes=concat_nframes)\n",
    "test_set = LibriDataset(test_X, None)\n",
    "test_loader = DataLoader(test_set, batch_size=batch_size, shuffle=False)"
   ]
  },
  {
   "cell_type": "code",
   "execution_count": 32,
   "id": "a6a88cad",
   "metadata": {
    "execution": {
     "iopub.execute_input": "2023-03-29T22:30:19.287513Z",
     "iopub.status.busy": "2023-03-29T22:30:19.287149Z",
     "iopub.status.idle": "2023-03-29T22:30:19.983083Z",
     "shell.execute_reply": "2023-03-29T22:30:19.982095Z"
    },
    "executionInfo": {
     "elapsed": 318,
     "status": "ok",
     "timestamp": 1647148887992,
     "user": {
      "displayName": "孫志傑 Sun Chih Chieh E24932223",
      "photoUrl": "https://lh3.googleusercontent.com/a/default-user=s64",
      "userId": "15814509083696715096"
     },
     "user_tz": -480
    },
    "id": "ay0Fu8Ovkdad",
    "outputId": "3dbf27d6-44df-4711-bbe5-0730a3ee200a",
    "papermill": {
     "duration": 12.306334,
     "end_time": "2023-03-29T22:30:19.985360",
     "exception": false,
     "start_time": "2023-03-29T22:30:07.679026",
     "status": "completed"
    },
    "tags": []
   },
   "outputs": [
    {
     "data": {
      "text/plain": [
       "<All keys matched successfully>"
      ]
     },
     "execution_count": 32,
     "metadata": {},
     "output_type": "execute_result"
    }
   ],
   "source": [
    "# %%script false --no-raise-error\n",
    "\n",
    "# load model\n",
    "model = get_model()\n",
    "model.load_state_dict(torch.load(model_path, map_location=device))"
   ]
  },
  {
   "cell_type": "markdown",
   "id": "90a1d33d",
   "metadata": {
    "id": "zp-DV1p4r7Nz",
    "papermill": {
     "duration": 11.63244,
     "end_time": "2023-03-29T22:30:43.119044",
     "exception": false,
     "start_time": "2023-03-29T22:30:31.486604",
     "status": "completed"
    },
    "tags": []
   },
   "source": [
    "Make prediction."
   ]
  },
  {
   "cell_type": "code",
   "execution_count": 33,
   "id": "8d0f111d",
   "metadata": {
    "execution": {
     "iopub.execute_input": "2023-03-29T22:31:06.075600Z",
     "iopub.status.busy": "2023-03-29T22:31:06.075238Z",
     "iopub.status.idle": "2023-03-29T22:34:55.862474Z",
     "shell.execute_reply": "2023-03-29T22:34:55.861355Z"
    },
    "executionInfo": {
     "elapsed": 15751,
     "status": "ok",
     "timestamp": 1647148909525,
     "user": {
      "displayName": "孫志傑 Sun Chih Chieh E24932223",
      "photoUrl": "https://lh3.googleusercontent.com/a/default-user=s64",
      "userId": "15814509083696715096"
     },
     "user_tz": -480
    },
    "id": "84HU5GGjPqR0",
    "outputId": "33658864-eaa0-4b4c-9768-f42d6ad5396b",
    "papermill": {
     "duration": 240.946845,
     "end_time": "2023-03-29T22:34:55.864540",
     "exception": false,
     "start_time": "2023-03-29T22:30:54.917695",
     "status": "completed"
    },
    "tags": []
   },
   "outputs": [
    {
     "name": "stderr",
     "output_type": "stream",
     "text": [
      "100%|██████████| 10098/10098 [03:49<00:00, 43.95it/s]\n"
     ]
    }
   ],
   "source": [
    "# %%script false --no-raise-error\n",
    "import numpy as np\n",
    "\n",
    "pred = np.array([], dtype=np.int32)\n",
    "\n",
    "model.eval()\n",
    "with torch.no_grad():\n",
    "    for i, batch in enumerate(tqdm(test_loader)):\n",
    "        features = batch\n",
    "        features = features.to(device)\n",
    "\n",
    "        outputs = model(features)\n",
    "\n",
    "        _, test_pred = torch.max(outputs, 1) # get the index of the class with the highest probability\n",
    "        pred = np.concatenate((pred, test_pred.cpu().numpy()), axis=0)\n"
   ]
  },
  {
   "cell_type": "markdown",
   "id": "c6b2921a",
   "metadata": {
    "id": "wyZqy40Prz0v",
    "papermill": {
     "duration": 11.290178,
     "end_time": "2023-03-29T22:35:18.810729",
     "exception": false,
     "start_time": "2023-03-29T22:35:07.520551",
     "status": "completed"
    },
    "tags": []
   },
   "source": [
    "Write prediction to a CSV file.\n",
    "\n",
    "After finish running this block, download the file `prediction.csv` from the files section on the left-hand side and submit it to Kaggle."
   ]
  },
  {
   "cell_type": "code",
   "execution_count": 34,
   "id": "93445530",
   "metadata": {
    "execution": {
     "iopub.execute_input": "2023-03-29T22:35:42.928495Z",
     "iopub.status.busy": "2023-03-29T22:35:42.928124Z",
     "iopub.status.idle": "2023-03-29T22:35:43.416904Z",
     "shell.execute_reply": "2023-03-29T22:35:43.415898Z"
    },
    "id": "GuljYSPHcZir",
    "papermill": {
     "duration": 12.123411,
     "end_time": "2023-03-29T22:35:43.419407",
     "exception": false,
     "start_time": "2023-03-29T22:35:31.295996",
     "status": "completed"
    },
    "tags": []
   },
   "outputs": [],
   "source": [
    "# %%script false --no-raise-error\n",
    "if 'acc' not in locals():\n",
    "    acc = 0.0\n",
    "    \n",
    "with open(f'prediction_{acc:.3f}.csv', 'w') as f:\n",
    "    f.write('Id,Class\\n')\n",
    "    for i, y in enumerate(pred):\n",
    "        f.write('{},{}\\n'.format(i, y))"
   ]
  },
  {
   "cell_type": "markdown",
   "id": "a07be488",
   "metadata": {
    "papermill": {
     "duration": 11.750364,
     "end_time": "2023-03-29T22:36:07.477207",
     "exception": false,
     "start_time": "2023-03-29T22:35:55.726843",
     "status": "completed"
    },
    "tags": []
   },
   "source": [
    "## Ensemble\n",
    "0.79644"
   ]
  },
  {
   "cell_type": "code",
   "execution_count": 35,
   "id": "b3fa3f76",
   "metadata": {
    "execution": {
     "iopub.execute_input": "2023-03-29T22:36:32.125226Z",
     "iopub.status.busy": "2023-03-29T22:36:32.124861Z",
     "iopub.status.idle": "2023-03-29T22:36:32.295931Z",
     "shell.execute_reply": "2023-03-29T22:36:32.294545Z"
    },
    "papermill": {
     "duration": 13.081046,
     "end_time": "2023-03-29T22:36:32.298510",
     "exception": false,
     "start_time": "2023-03-29T22:36:19.217464",
     "status": "completed"
    },
    "tags": []
   },
   "outputs": [],
   "source": [
    "%%script false --no-raise-error\n",
    "\n",
    "class Classifier_Attn1(nn.Module):\n",
    "    def __init__(self, concat_nframes, dim_feedforward, num_layers, dropout, d_model=80, output_dim=41):\n",
    "        super(Classifier_Attn1, self).__init__()\n",
    "        \n",
    "        # Project the dimension of features from that of input into d_model.\n",
    "        self.prenet = nn.Linear(39, d_model)\n",
    "        \n",
    "        self.positional_encoder = PositionalEncoding(\n",
    "            dim_model=d_model, dropout_p=dropout, max_len=5000\n",
    "        )\n",
    "        \n",
    "        # (batch, concat_nframes, 39)\n",
    "        self.attn_layer = nn.TransformerEncoderLayer(\n",
    "            d_model=d_model, dim_feedforward=dim_feedforward, nhead=1, dropout=dropout, batch_first=True,\n",
    "        )\n",
    "        self.attn = nn.TransformerEncoder(self.attn_layer, num_layers=num_layers)\n",
    "        \n",
    "        self.fc = nn.Sequential(\n",
    "            nn.Linear(concat_nframes*d_model, d_model),\n",
    "            nn.BatchNorm1d(d_model),\n",
    "            nn.ReLU(),\n",
    "            nn.Linear(d_model, output_dim),\n",
    "        )\n",
    "\n",
    "    def forward(self, x):\n",
    "        out = x.view(x.shape[0], -1, 39)   # (batch, concat_nframes, 39)\n",
    "        out = self.prenet(out)             # (batch, concat_nframes, d_model)\n",
    "        out = self.positional_encoder(out) # (batch, concat_nframes, d_model)\n",
    "        out = self.attn(out)               # (batch, concat_nframes, d_model)\n",
    "        out = out.view(out.shape[0], -1)   # (batch, concat_nframes * d_model)\n",
    "        out = self.fc(out)\n",
    "        \n",
    "        return out"
   ]
  },
  {
   "cell_type": "code",
   "execution_count": 36,
   "id": "1be06fa0",
   "metadata": {
    "execution": {
     "iopub.execute_input": "2023-03-29T22:36:56.040474Z",
     "iopub.status.busy": "2023-03-29T22:36:56.039470Z",
     "iopub.status.idle": "2023-03-29T22:36:56.202229Z",
     "shell.execute_reply": "2023-03-29T22:36:56.200920Z"
    },
    "papermill": {
     "duration": 12.061287,
     "end_time": "2023-03-29T22:36:56.204778",
     "exception": false,
     "start_time": "2023-03-29T22:36:44.143491",
     "status": "completed"
    },
    "tags": []
   },
   "outputs": [],
   "source": [
    "%%script false --no-raise-error\n",
    "\n",
    "# load model\n",
    "models = []\n",
    "\n",
    "# model = Classifier(input_dim=39*17, hidden_layers=12, hidden_dim=1024).to(device)\n",
    "# model.load_state_dict(torch.load(\"../input/hw02ensemble/model_linear_0.76064_v12.ckpt\", map_location=device))\n",
    "# models.append(model)\n",
    "\n",
    "model = Classifier_Attn1(concat_nframes=21, dim_feedforward=256, num_layers=12, dropout=0.0, d_model=80).to(device)\n",
    "model.load_state_dict(torch.load(\"../input/hw02ensemble/model_attn_0.75041_v21.ckpt\", map_location=device))\n",
    "models.append(model)\n",
    "\n",
    "model = Classifier_Attn1(concat_nframes=21, dim_feedforward=256, num_layers=12, dropout=0.1, d_model=80).to(device)\n",
    "model.load_state_dict(torch.load(\"../input/hw02ensemble/model_attn_0.77324_v23.ckpt\", map_location=device))\n",
    "models.append(model)\n",
    "\n",
    "model = Classifier_Attn1(concat_nframes=21, dim_feedforward=256, num_layers=12, dropout=0.1, d_model=80).to(device)\n",
    "model.load_state_dict(torch.load(\"../input/hw02ensemble/model_attn_0.77794_v24.ckpt\", map_location=device))\n",
    "models.append(model)\n",
    "\n",
    "model = Classifier_Attn1(concat_nframes=21, dim_feedforward=512, num_layers=12, dropout=0.1, d_model=80).to(device)\n",
    "model.load_state_dict(torch.load(\"../input/hw02ensemble/model_attn_0.77830_v28.ckpt\", map_location=device))\n",
    "models.append(model)\n",
    "\n",
    "model = Classifier_Attn1(concat_nframes=21, dim_feedforward=1024, num_layers=12, dropout=0.25, d_model=80).to(device)\n",
    "model.load_state_dict(torch.load(\"../input/hw02ensemble/model_attn_0.76799_v29.ckpt\", map_location=device))\n",
    "models.append(model)\n",
    "\n",
    "model = Classifier_Attn1(concat_nframes=21, dim_feedforward=1024, num_layers=12, dropout=0.1, d_model=80).to(device)\n",
    "model.load_state_dict(torch.load(\"../input/hw02ensemble/model_attn_0.77872_v30.ckpt\", map_location=device))\n",
    "models.append(model)\n",
    "\n",
    "model = Classifier_Attn1(concat_nframes=21, dim_feedforward=1024, num_layers=12, dropout=0.1, d_model=80).to(device)\n",
    "model.load_state_dict(torch.load(\"../input/hw02ensemble/model_attn_0.77051_v31.ckpt\", map_location=device))\n",
    "models.append(model)\n",
    "\n",
    "model = Classifier_Attn1(concat_nframes=21, dim_feedforward=1024, num_layers=12, dropout=0.1, d_model=80).to(device)\n",
    "model.load_state_dict(torch.load(\"../input/hw02ensemble/model_attn_0.77887_v32.ckpt\", map_location=device))\n",
    "models.append(model)\n",
    "\n",
    "model = Classifier_Attn1(concat_nframes=21, dim_feedforward=1024, num_layers=12, dropout=0.1, d_model=80).to(device)\n",
    "model.load_state_dict(torch.load(\"../input/hw02ensemble/model_attn_0.76904_v33.ckpt\", map_location=device))\n",
    "models.append(model)\n",
    "\n",
    "model = Classifier_Attn1(concat_nframes=21, dim_feedforward=1024, num_layers=12, dropout=0.1, d_model=80).to(device)\n",
    "model.load_state_dict(torch.load(\"../input/hw02ensemble/model_attn_0.76935_v36.ckpt\", map_location=device))\n",
    "models.append(model)\n",
    "\n",
    "model = Classifier_Attn(concat_nframes=21, dim_feedforward=2048, num_layers=6, dropout=0.1, d_model=512, nhead=8).to(device)\n",
    "model.load_state_dict(torch.load(\"../input/hw02ensemble/model_attn_0.77566_v43.ckpt\", map_location=device))\n",
    "models.append(model)"
   ]
  },
  {
   "cell_type": "code",
   "execution_count": 37,
   "id": "ae5a2837",
   "metadata": {
    "execution": {
     "iopub.execute_input": "2023-03-29T22:37:20.168288Z",
     "iopub.status.busy": "2023-03-29T22:37:20.167848Z",
     "iopub.status.idle": "2023-03-29T22:37:20.329177Z",
     "shell.execute_reply": "2023-03-29T22:37:20.327801Z"
    },
    "papermill": {
     "duration": 11.906192,
     "end_time": "2023-03-29T22:37:20.332149",
     "exception": false,
     "start_time": "2023-03-29T22:37:08.425957",
     "status": "completed"
    },
    "tags": []
   },
   "outputs": [],
   "source": [
    "%%script false --no-raise-error\n",
    "\n",
    "for model in models:    \n",
    "    model.eval() # set the model to evaluation mode\n",
    "    with torch.no_grad():\n",
    "        val_acc = 0\n",
    "        for i, batch in enumerate(tqdm(val_loader)):\n",
    "            features, labels = batch\n",
    "            features = features.to(device)\n",
    "            labels = labels.to(device)\n",
    "            outputs = model(features)\n",
    "\n",
    "            _, val_pred = torch.max(outputs, 1) \n",
    "            val_acc += (val_pred.cpu() == labels.cpu()).sum().item() # get the index of the class with the highest probability\n",
    "\n",
    "        print(val_acc/len(val_set))"
   ]
  },
  {
   "cell_type": "code",
   "execution_count": 38,
   "id": "92133a5b",
   "metadata": {
    "execution": {
     "iopub.execute_input": "2023-03-29T22:37:44.300345Z",
     "iopub.status.busy": "2023-03-29T22:37:44.299350Z",
     "iopub.status.idle": "2023-03-29T22:37:44.459486Z",
     "shell.execute_reply": "2023-03-29T22:37:44.458151Z"
    },
    "papermill": {
     "duration": 11.788432,
     "end_time": "2023-03-29T22:37:44.462068",
     "exception": false,
     "start_time": "2023-03-29T22:37:32.673636",
     "status": "completed"
    },
    "tags": []
   },
   "outputs": [],
   "source": [
    "%%script false --no-raise-error\n",
    "\n",
    "def average_softmax(models, features):\n",
    "    outputs = torch.zeros(features.shape[0], 41)\n",
    "    outputs = outputs.to(device)\n",
    "    for model in models:\n",
    "        model.eval()\n",
    "        outputs += F.softmax(model(features), dim=1)\n",
    "    outputs = outputs/len(models)\n",
    "    return outputs\n",
    "\n",
    "def voting(models, features):\n",
    "    outputs = torch.zeros(features.shape[0], 41)\n",
    "    outputs = outputs.to(device)\n",
    "    for model in models:\n",
    "        model.eval()\n",
    "        i = range(features.shape[0])\n",
    "        j = torch.argmax(model(features), dim=1)\n",
    "        outputs[i,j] += 1\n",
    "            \n",
    "    return outputs"
   ]
  },
  {
   "cell_type": "code",
   "execution_count": 39,
   "id": "fd4da1f3",
   "metadata": {
    "execution": {
     "iopub.execute_input": "2023-03-29T22:38:07.937497Z",
     "iopub.status.busy": "2023-03-29T22:38:07.937097Z",
     "iopub.status.idle": "2023-03-29T22:38:08.104476Z",
     "shell.execute_reply": "2023-03-29T22:38:08.103083Z"
    },
    "papermill": {
     "duration": 11.998728,
     "end_time": "2023-03-29T22:38:08.107075",
     "exception": false,
     "start_time": "2023-03-29T22:37:56.108347",
     "status": "completed"
    },
    "tags": []
   },
   "outputs": [],
   "source": [
    "%%script false --no-raise-error\n",
    "\n",
    "pred1 = np.array([], dtype=np.int32)\n",
    "pred2 = np.array([], dtype=np.int32)\n",
    "\n",
    "with torch.no_grad():\n",
    "    for i, batch in enumerate(tqdm(test_loader)):\n",
    "        features = batch\n",
    "        features = features.to(device)\n",
    "\n",
    "        outputs = average_softmax(models, features)\n",
    "        _, test_pred = torch.max(outputs, 1) # get the index of the class with the highest probability\n",
    "        pred1 = np.concatenate((pred1, test_pred.cpu().numpy()), axis=0)\n",
    "        \n",
    "        outputs = voting(models, features)\n",
    "        _, test_pred = torch.max(outputs, 1) # get the index of the class with the highest probability\n",
    "        pred2 = np.concatenate((pred2, test_pred.cpu().numpy()), axis=0)\n"
   ]
  },
  {
   "cell_type": "code",
   "execution_count": 40,
   "id": "b83c59ce",
   "metadata": {
    "execution": {
     "iopub.execute_input": "2023-03-29T22:38:32.485700Z",
     "iopub.status.busy": "2023-03-29T22:38:32.484475Z",
     "iopub.status.idle": "2023-03-29T22:38:32.645052Z",
     "shell.execute_reply": "2023-03-29T22:38:32.643737Z"
    },
    "papermill": {
     "duration": 12.531042,
     "end_time": "2023-03-29T22:38:32.647526",
     "exception": false,
     "start_time": "2023-03-29T22:38:20.116484",
     "status": "completed"
    },
    "tags": []
   },
   "outputs": [],
   "source": [
    "%%script false --no-raise-error\n",
    "\n",
    "with open(f'prediction_average_softmax.csv', 'w') as f:\n",
    "    f.write('Id,Class\\n')\n",
    "    for i, y in enumerate(pred1):\n",
    "        f.write('{},{}\\n'.format(i, y))\n",
    "        \n",
    "with open(f'prediction_voting.csv', 'w') as f:\n",
    "    f.write('Id,Class\\n')\n",
    "    for i, y in enumerate(pred2):\n",
    "        f.write('{},{}\\n'.format(i, y))"
   ]
  }
 ],
 "metadata": {
  "kernelspec": {
   "display_name": "Python 3",
   "language": "python",
   "name": "python3"
  },
  "language_info": {
   "codemirror_mode": {
    "name": "ipython",
    "version": 3
   },
   "file_extension": ".py",
   "mimetype": "text/x-python",
   "name": "python",
   "nbconvert_exporter": "python",
   "pygments_lexer": "ipython3",
   "version": "3.7.12"
  },
  "papermill": {
   "default_parameters": {},
   "duration": 36354.509807,
   "end_time": "2023-03-29T22:38:47.529961",
   "environment_variables": {},
   "exception": null,
   "input_path": "__notebook__.ipynb",
   "output_path": "__notebook__.ipynb",
   "parameters": {},
   "start_time": "2023-03-29T12:32:53.020154",
   "version": "2.3.4"
  }
 },
 "nbformat": 4,
 "nbformat_minor": 5
}
